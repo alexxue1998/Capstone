{
 "cells": [
  {
   "cell_type": "markdown",
   "id": "44ffcf61",
   "metadata": {},
   "source": [
    "## Overview"
   ]
  },
  {
   "cell_type": "markdown",
   "id": "aef65c29",
   "metadata": {},
   "source": [
    "Here you'll find some parts that were too repetitive too keep in the main notebooks."
   ]
  },
  {
   "cell_type": "code",
   "execution_count": 1,
   "id": "5f9928b6",
   "metadata": {},
   "outputs": [],
   "source": [
    "import numpy as np #importing numpy\n",
    "import pandas as pd #importing pandas \n",
    "import matplotlib.pyplot as plt #import matplotlib "
   ]
  },
  {
   "cell_type": "code",
   "execution_count": 2,
   "id": "2344a0b9",
   "metadata": {},
   "outputs": [],
   "source": [
    "#reading in the csv file\n",
    "df_main=pd.read_csv(\"data/Yelp_dataset_old/yelp_business.csv\")"
   ]
  },
  {
   "cell_type": "code",
   "execution_count": 3,
   "id": "d3623dc9",
   "metadata": {},
   "outputs": [],
   "source": [
    "#Dropping the neighborhood column\n",
    "df_main=df_main.drop(['neighborhood'],axis=1)"
   ]
  },
  {
   "cell_type": "markdown",
   "id": "7225cdaf",
   "metadata": {},
   "source": [
    "## Loading Buisness Attributes Data"
   ]
  },
  {
   "cell_type": "markdown",
   "id": "c46bdfc5",
   "metadata": {},
   "source": [
    "In this section we'll load in the business attributes dataframe. We'll be taking a look at any columns that we can add onto our main dataframe as a way of increasing the number of features. "
   ]
  },
  {
   "cell_type": "code",
   "execution_count": 4,
   "id": "48e18200",
   "metadata": {},
   "outputs": [],
   "source": [
    "#reading in the csv file\n",
    "df_business_attributes=pd.read_csv(\"data/Yelp_dataset_old/yelp_business_attributes.csv\")"
   ]
  },
  {
   "cell_type": "code",
   "execution_count": 5,
   "id": "3f9167dc",
   "metadata": {
    "scrolled": true
   },
   "outputs": [
    {
     "data": {
      "text/html": [
       "<div>\n",
       "<style scoped>\n",
       "    .dataframe tbody tr th:only-of-type {\n",
       "        vertical-align: middle;\n",
       "    }\n",
       "\n",
       "    .dataframe tbody tr th {\n",
       "        vertical-align: top;\n",
       "    }\n",
       "\n",
       "    .dataframe thead th {\n",
       "        text-align: right;\n",
       "    }\n",
       "</style>\n",
       "<table border=\"1\" class=\"dataframe\">\n",
       "  <thead>\n",
       "    <tr style=\"text-align: right;\">\n",
       "      <th></th>\n",
       "      <th>business_id</th>\n",
       "      <th>AcceptsInsurance</th>\n",
       "      <th>ByAppointmentOnly</th>\n",
       "      <th>BusinessAcceptsCreditCards</th>\n",
       "      <th>BusinessParking_garage</th>\n",
       "      <th>BusinessParking_street</th>\n",
       "      <th>BusinessParking_validated</th>\n",
       "      <th>BusinessParking_lot</th>\n",
       "      <th>BusinessParking_valet</th>\n",
       "      <th>HairSpecializesIn_coloring</th>\n",
       "      <th>...</th>\n",
       "      <th>Corkage</th>\n",
       "      <th>DietaryRestrictions_dairy-free</th>\n",
       "      <th>DietaryRestrictions_gluten-free</th>\n",
       "      <th>DietaryRestrictions_vegan</th>\n",
       "      <th>DietaryRestrictions_kosher</th>\n",
       "      <th>DietaryRestrictions_halal</th>\n",
       "      <th>DietaryRestrictions_soy-free</th>\n",
       "      <th>DietaryRestrictions_vegetarian</th>\n",
       "      <th>AgesAllowed</th>\n",
       "      <th>RestaurantsCounterService</th>\n",
       "    </tr>\n",
       "  </thead>\n",
       "  <tbody>\n",
       "    <tr>\n",
       "      <th>0</th>\n",
       "      <td>FYWN1wneV18bWNgQjJ2GNg</td>\n",
       "      <td>Na</td>\n",
       "      <td>Na</td>\n",
       "      <td>Na</td>\n",
       "      <td>True</td>\n",
       "      <td>Na</td>\n",
       "      <td>Na</td>\n",
       "      <td>Na</td>\n",
       "      <td>Na</td>\n",
       "      <td>Na</td>\n",
       "      <td>...</td>\n",
       "      <td>Na</td>\n",
       "      <td>Na</td>\n",
       "      <td>Na</td>\n",
       "      <td>Na</td>\n",
       "      <td>Na</td>\n",
       "      <td>Na</td>\n",
       "      <td>Na</td>\n",
       "      <td>Na</td>\n",
       "      <td>Na</td>\n",
       "      <td>Na</td>\n",
       "    </tr>\n",
       "    <tr>\n",
       "      <th>1</th>\n",
       "      <td>He-G7vWjzVUysIKrfNbPUQ</td>\n",
       "      <td>Na</td>\n",
       "      <td>Na</td>\n",
       "      <td>Na</td>\n",
       "      <td>Na</td>\n",
       "      <td>Na</td>\n",
       "      <td>Na</td>\n",
       "      <td>Na</td>\n",
       "      <td>Na</td>\n",
       "      <td>Na</td>\n",
       "      <td>...</td>\n",
       "      <td>Na</td>\n",
       "      <td>Na</td>\n",
       "      <td>Na</td>\n",
       "      <td>Na</td>\n",
       "      <td>Na</td>\n",
       "      <td>Na</td>\n",
       "      <td>Na</td>\n",
       "      <td>Na</td>\n",
       "      <td>Na</td>\n",
       "      <td>Na</td>\n",
       "    </tr>\n",
       "    <tr>\n",
       "      <th>2</th>\n",
       "      <td>8DShNS-LuFqpEWIp0HxijA</td>\n",
       "      <td>Na</td>\n",
       "      <td>Na</td>\n",
       "      <td>Na</td>\n",
       "      <td>Na</td>\n",
       "      <td>Na</td>\n",
       "      <td>Na</td>\n",
       "      <td>Na</td>\n",
       "      <td>Na</td>\n",
       "      <td>Na</td>\n",
       "      <td>...</td>\n",
       "      <td>Na</td>\n",
       "      <td>Na</td>\n",
       "      <td>Na</td>\n",
       "      <td>Na</td>\n",
       "      <td>Na</td>\n",
       "      <td>Na</td>\n",
       "      <td>Na</td>\n",
       "      <td>Na</td>\n",
       "      <td>Na</td>\n",
       "      <td>Na</td>\n",
       "    </tr>\n",
       "    <tr>\n",
       "      <th>3</th>\n",
       "      <td>PfOCPjBrlQAnz__NXj9h_w</td>\n",
       "      <td>Na</td>\n",
       "      <td>Na</td>\n",
       "      <td>Na</td>\n",
       "      <td>Na</td>\n",
       "      <td>Na</td>\n",
       "      <td>Na</td>\n",
       "      <td>Na</td>\n",
       "      <td>Na</td>\n",
       "      <td>Na</td>\n",
       "      <td>...</td>\n",
       "      <td>Na</td>\n",
       "      <td>Na</td>\n",
       "      <td>Na</td>\n",
       "      <td>Na</td>\n",
       "      <td>Na</td>\n",
       "      <td>Na</td>\n",
       "      <td>Na</td>\n",
       "      <td>Na</td>\n",
       "      <td>Na</td>\n",
       "      <td>Na</td>\n",
       "    </tr>\n",
       "    <tr>\n",
       "      <th>4</th>\n",
       "      <td>o9eMRCWt5PkpLDE0gOPtcQ</td>\n",
       "      <td>Na</td>\n",
       "      <td>Na</td>\n",
       "      <td>Na</td>\n",
       "      <td>Na</td>\n",
       "      <td>False</td>\n",
       "      <td>False</td>\n",
       "      <td>False</td>\n",
       "      <td>False</td>\n",
       "      <td>False</td>\n",
       "      <td>...</td>\n",
       "      <td>Na</td>\n",
       "      <td>Na</td>\n",
       "      <td>Na</td>\n",
       "      <td>Na</td>\n",
       "      <td>Na</td>\n",
       "      <td>Na</td>\n",
       "      <td>Na</td>\n",
       "      <td>Na</td>\n",
       "      <td>Na</td>\n",
       "      <td>Na</td>\n",
       "    </tr>\n",
       "  </tbody>\n",
       "</table>\n",
       "<p>5 rows × 82 columns</p>\n",
       "</div>"
      ],
      "text/plain": [
       "              business_id AcceptsInsurance ByAppointmentOnly  \\\n",
       "0  FYWN1wneV18bWNgQjJ2GNg               Na                Na   \n",
       "1  He-G7vWjzVUysIKrfNbPUQ               Na                Na   \n",
       "2  8DShNS-LuFqpEWIp0HxijA               Na                Na   \n",
       "3  PfOCPjBrlQAnz__NXj9h_w               Na                Na   \n",
       "4  o9eMRCWt5PkpLDE0gOPtcQ               Na                Na   \n",
       "\n",
       "  BusinessAcceptsCreditCards BusinessParking_garage BusinessParking_street  \\\n",
       "0                         Na                   True                     Na   \n",
       "1                         Na                     Na                     Na   \n",
       "2                         Na                     Na                     Na   \n",
       "3                         Na                     Na                     Na   \n",
       "4                         Na                     Na                  False   \n",
       "\n",
       "  BusinessParking_validated BusinessParking_lot BusinessParking_valet  \\\n",
       "0                        Na                  Na                    Na   \n",
       "1                        Na                  Na                    Na   \n",
       "2                        Na                  Na                    Na   \n",
       "3                        Na                  Na                    Na   \n",
       "4                     False               False                 False   \n",
       "\n",
       "  HairSpecializesIn_coloring  ... Corkage DietaryRestrictions_dairy-free  \\\n",
       "0                         Na  ...      Na                             Na   \n",
       "1                         Na  ...      Na                             Na   \n",
       "2                         Na  ...      Na                             Na   \n",
       "3                         Na  ...      Na                             Na   \n",
       "4                      False  ...      Na                             Na   \n",
       "\n",
       "  DietaryRestrictions_gluten-free DietaryRestrictions_vegan  \\\n",
       "0                              Na                        Na   \n",
       "1                              Na                        Na   \n",
       "2                              Na                        Na   \n",
       "3                              Na                        Na   \n",
       "4                              Na                        Na   \n",
       "\n",
       "  DietaryRestrictions_kosher DietaryRestrictions_halal  \\\n",
       "0                         Na                        Na   \n",
       "1                         Na                        Na   \n",
       "2                         Na                        Na   \n",
       "3                         Na                        Na   \n",
       "4                         Na                        Na   \n",
       "\n",
       "  DietaryRestrictions_soy-free DietaryRestrictions_vegetarian AgesAllowed  \\\n",
       "0                           Na                             Na          Na   \n",
       "1                           Na                             Na          Na   \n",
       "2                           Na                             Na          Na   \n",
       "3                           Na                             Na          Na   \n",
       "4                           Na                             Na          Na   \n",
       "\n",
       "  RestaurantsCounterService  \n",
       "0                        Na  \n",
       "1                        Na  \n",
       "2                        Na  \n",
       "3                        Na  \n",
       "4                        Na  \n",
       "\n",
       "[5 rows x 82 columns]"
      ]
     },
     "execution_count": 5,
     "metadata": {},
     "output_type": "execute_result"
    }
   ],
   "source": [
    "df_business_attributes.head() #Taking a look at the first 5 rows "
   ]
  },
  {
   "cell_type": "markdown",
   "id": "6d695193",
   "metadata": {},
   "source": [
    "We see that the column that we'll be joining on is business_id. We also see that there are a number of columns that could be useful like DietaryRestrictions_dairy-free. However we're already seeing a lot of Na values which might make extracting data from these columns difficult."
   ]
  },
  {
   "cell_type": "code",
   "execution_count": 6,
   "id": "62999fde",
   "metadata": {
    "scrolled": false
   },
   "outputs": [
    {
     "data": {
      "text/plain": [
       "Index(['business_id', 'AcceptsInsurance', 'ByAppointmentOnly',\n",
       "       'BusinessAcceptsCreditCards', 'BusinessParking_garage',\n",
       "       'BusinessParking_street', 'BusinessParking_validated',\n",
       "       'BusinessParking_lot', 'BusinessParking_valet',\n",
       "       'HairSpecializesIn_coloring', 'HairSpecializesIn_africanamerican',\n",
       "       'HairSpecializesIn_curly', 'HairSpecializesIn_perms',\n",
       "       'HairSpecializesIn_kids', 'HairSpecializesIn_extensions',\n",
       "       'HairSpecializesIn_asian', 'HairSpecializesIn_straightperms',\n",
       "       'RestaurantsPriceRange2', 'GoodForKids', 'WheelchairAccessible',\n",
       "       'BikeParking', 'Alcohol', 'HasTV', 'NoiseLevel', 'RestaurantsAttire',\n",
       "       'Music_dj', 'Music_background_music', 'Music_no_music', 'Music_karaoke',\n",
       "       'Music_live', 'Music_video', 'Music_jukebox', 'Ambience_romantic',\n",
       "       'Ambience_intimate', 'Ambience_classy', 'Ambience_hipster',\n",
       "       'Ambience_divey', 'Ambience_touristy', 'Ambience_trendy',\n",
       "       'Ambience_upscale', 'Ambience_casual', 'RestaurantsGoodForGroups',\n",
       "       'Caters', 'WiFi', 'RestaurantsReservations', 'RestaurantsTakeOut',\n",
       "       'HappyHour', 'GoodForDancing', 'RestaurantsTableService',\n",
       "       'OutdoorSeating', 'RestaurantsDelivery', 'BestNights_monday',\n",
       "       'BestNights_tuesday', 'BestNights_friday', 'BestNights_wednesday',\n",
       "       'BestNights_thursday', 'BestNights_sunday', 'BestNights_saturday',\n",
       "       'GoodForMeal_dessert', 'GoodForMeal_latenight', 'GoodForMeal_lunch',\n",
       "       'GoodForMeal_dinner', 'GoodForMeal_breakfast', 'GoodForMeal_brunch',\n",
       "       'CoatCheck', 'Smoking', 'DriveThru', 'DogsAllowed',\n",
       "       'BusinessAcceptsBitcoin', 'Open24Hours', 'BYOBCorkage', 'BYOB',\n",
       "       'Corkage', 'DietaryRestrictions_dairy-free',\n",
       "       'DietaryRestrictions_gluten-free', 'DietaryRestrictions_vegan',\n",
       "       'DietaryRestrictions_kosher', 'DietaryRestrictions_halal',\n",
       "       'DietaryRestrictions_soy-free', 'DietaryRestrictions_vegetarian',\n",
       "       'AgesAllowed', 'RestaurantsCounterService'],\n",
       "      dtype='object')"
      ]
     },
     "execution_count": 6,
     "metadata": {},
     "output_type": "execute_result"
    }
   ],
   "source": [
    "#looking at some of the columns\n",
    "df_business_attributes.columns "
   ]
  },
  {
   "cell_type": "markdown",
   "id": "ae83e7b6",
   "metadata": {},
   "source": [
    "Looking at the above, we already see columns that have nothing to do with food, like Hair related ones. We should remove those before proceeding."
   ]
  },
  {
   "cell_type": "code",
   "execution_count": 7,
   "id": "45f10965",
   "metadata": {},
   "outputs": [
    {
     "data": {
      "text/plain": [
       "82"
      ]
     },
     "execution_count": 7,
     "metadata": {},
     "output_type": "execute_result"
    }
   ],
   "source": [
    "#Looking at the number of unique columns \n",
    "df_business_attributes.columns.nunique()"
   ]
  },
  {
   "cell_type": "markdown",
   "id": "1b8c5e6a",
   "metadata": {},
   "source": [
    "We currently have 82 columns that will require processing."
   ]
  },
  {
   "cell_type": "code",
   "execution_count": 8,
   "id": "053b139b",
   "metadata": {},
   "outputs": [],
   "source": [
    "#Creating a cleaned attributes dataframe \n",
    "df_cleaned_attributes=pd.DataFrame()"
   ]
  },
  {
   "cell_type": "markdown",
   "id": "ff12c21b",
   "metadata": {},
   "source": [
    "Lets drop all the restaurant unrelated categories from the `df_business_attributes`. We will not drop more than 6 at a time in order to make sure they drop correctly."
   ]
  },
  {
   "cell_type": "code",
   "execution_count": 9,
   "id": "5f463379",
   "metadata": {},
   "outputs": [],
   "source": [
    "#dropping 6 unrelated columns \n",
    "df_business_attributes=df_business_attributes.drop(columns = ['AcceptsInsurance','HairSpecializesIn_coloring','HairSpecializesIn_africanamerican',\n",
    "       'HairSpecializesIn_curly', 'HairSpecializesIn_perms','HairSpecializesIn_kids'])"
   ]
  },
  {
   "cell_type": "code",
   "execution_count": 10,
   "id": "d52241fb",
   "metadata": {},
   "outputs": [
    {
     "data": {
      "text/plain": [
       "76"
      ]
     },
     "execution_count": 10,
     "metadata": {},
     "output_type": "execute_result"
    }
   ],
   "source": [
    "#checking the number of columns after \n",
    "df_business_attributes.columns.nunique()"
   ]
  },
  {
   "cell_type": "markdown",
   "id": "762748b4",
   "metadata": {},
   "source": [
    "We can see that 6 Columns were correctly dropped. The columns we dropped in this section involved insurance and hair which I felt wasn't related to food whatsoever. "
   ]
  },
  {
   "cell_type": "code",
   "execution_count": 11,
   "id": "79f221a9",
   "metadata": {},
   "outputs": [],
   "source": [
    "#dropping 6 unrelated columns \n",
    "df_business_attributes=df_business_attributes.drop(columns = ['HairSpecializesIn_extensions',\n",
    "       'HairSpecializesIn_asian', 'HairSpecializesIn_straightperms','Music_dj', 'Music_background_music', 'Music_no_music'])"
   ]
  },
  {
   "cell_type": "code",
   "execution_count": 12,
   "id": "830f1b7d",
   "metadata": {
    "scrolled": true
   },
   "outputs": [
    {
     "data": {
      "text/plain": [
       "70"
      ]
     },
     "execution_count": 12,
     "metadata": {},
     "output_type": "execute_result"
    }
   ],
   "source": [
    "#checking the number of columns after \n",
    "df_business_attributes.columns.nunique()"
   ]
  },
  {
   "cell_type": "markdown",
   "id": "8558d562",
   "metadata": {},
   "source": [
    "We can see that 6 Columns were correctly dropped. We dropped the last few hair related ones and also a few about music. While an argument could be made that music is part of the ambiance of a restaurant, we already have a much more descriptive column about ambiance."
   ]
  },
  {
   "cell_type": "code",
   "execution_count": 13,
   "id": "afb9500c",
   "metadata": {},
   "outputs": [],
   "source": [
    "#dropping 6 unrelated columns \n",
    "df_business_attributes=df_business_attributes.drop(columns = ['HasTV','Music_karaoke','Music_video','Music_jukebox',\n",
    "                                                              'Music_live','GoodForDancing'])"
   ]
  },
  {
   "cell_type": "code",
   "execution_count": 14,
   "id": "5cfbf3bd",
   "metadata": {},
   "outputs": [
    {
     "data": {
      "text/plain": [
       "64"
      ]
     },
     "execution_count": 14,
     "metadata": {},
     "output_type": "execute_result"
    }
   ],
   "source": [
    "#checking the number of columns after \n",
    "df_business_attributes.columns.nunique()"
   ]
  },
  {
   "cell_type": "markdown",
   "id": "5dc59dce",
   "metadata": {},
   "source": [
    "We can see that 6 Columns were correctly dropped. Similar to the last one, while having a TV or the type of Music may contribute to ambiance, we already have a more all-encompassing column regarding ambiance. Also the column about dancing was removed as this is about restaurants not necessarily night-life."
   ]
  },
  {
   "cell_type": "code",
   "execution_count": 15,
   "id": "74de47c7",
   "metadata": {},
   "outputs": [],
   "source": [
    "#dropping 4 unrelated columns \n",
    "df_business_attributes=df_business_attributes.drop(columns=['DogsAllowed','Smoking','NoiseLevel'])"
   ]
  },
  {
   "cell_type": "code",
   "execution_count": 16,
   "id": "5a53f3c2",
   "metadata": {},
   "outputs": [
    {
     "data": {
      "text/plain": [
       "61"
      ]
     },
     "execution_count": 16,
     "metadata": {},
     "output_type": "execute_result"
    }
   ],
   "source": [
    "#checking the number of columns after \n",
    "df_business_attributes.columns.nunique()"
   ]
  },
  {
   "cell_type": "markdown",
   "id": "3c16009a",
   "metadata": {},
   "source": [
    "We can see that 3 columns were dropped. The last 4 that we're seeing are more general columns that I feel aren't related to a restaurant."
   ]
  },
  {
   "cell_type": "markdown",
   "id": "242e195d",
   "metadata": {},
   "source": [
    "### Joining the two tables"
   ]
  },
  {
   "cell_type": "markdown",
   "id": "66d27254",
   "metadata": {},
   "source": [
    "Now that we've narrowed the columns we have left, lets merge the business attributes and main dataframe together. This will allow us to filter only by the businesses in the 3 target areas before we continue to explore them. This is to get a more accurate representation of how these columns will perform in our selected areas instead of the whole dataset."
   ]
  },
  {
   "cell_type": "code",
   "execution_count": 17,
   "id": "29647c08",
   "metadata": {},
   "outputs": [],
   "source": [
    "#Creating the merged dataframe \n",
    "df_merged=pd.merge(df_main, df_business_attributes, on='business_id', how=\"inner\")"
   ]
  },
  {
   "cell_type": "code",
   "execution_count": 18,
   "id": "e4bf7cfe",
   "metadata": {},
   "outputs": [
    {
     "data": {
      "text/plain": [
       "72"
      ]
     },
     "execution_count": 18,
     "metadata": {},
     "output_type": "execute_result"
    }
   ],
   "source": [
    "#Checking the number of unique columns\n",
    "df_merged.columns.nunique()"
   ]
  },
  {
   "cell_type": "markdown",
   "id": "8c7b5c80",
   "metadata": {},
   "source": [
    "Now that we've created our merged dataframe, lets filter only by our 3 regions."
   ]
  },
  {
   "cell_type": "markdown",
   "id": "2d8a0e1d",
   "metadata": {},
   "source": [
    "#### Selecting only Ontario/Quebec and restaurants "
   ]
  },
  {
   "cell_type": "code",
   "execution_count": 19,
   "id": "c080770c",
   "metadata": {},
   "outputs": [],
   "source": [
    "#filtering by states of ON,QB, and NV \n",
    "df_selected=df_merged[df_merged['state'].str.contains('ON|QC|NV')]"
   ]
  },
  {
   "cell_type": "code",
   "execution_count": 20,
   "id": "4ead656c",
   "metadata": {
    "scrolled": true
   },
   "outputs": [
    {
     "data": {
      "text/plain": [
       "array(['NV', 'ON', 'QC'], dtype=object)"
      ]
     },
     "execution_count": 20,
     "metadata": {},
     "output_type": "execute_result"
    }
   ],
   "source": [
    "#Unique states\n",
    "df_selected['state'].unique()"
   ]
  },
  {
   "cell_type": "markdown",
   "id": "98ca88e2",
   "metadata": {},
   "source": [
    "Now we can see the dataset only has businesses in our 3 regions. "
   ]
  },
  {
   "cell_type": "markdown",
   "id": "49458df7",
   "metadata": {},
   "source": [
    "#### Selecting Restaurants"
   ]
  },
  {
   "cell_type": "markdown",
   "id": "8553f1c2",
   "metadata": {},
   "source": [
    "Now we should proceed by filtering based on the key words we found earlier."
   ]
  },
  {
   "cell_type": "code",
   "execution_count": 21,
   "id": "f0524760",
   "metadata": {},
   "outputs": [],
   "source": [
    "#Selecting rows based on if they have the key word tags \n",
    "df_selected_restaurants=df_selected[df_selected['categories'].str.contains('Restaurants|Bars|Food|Coffee & Tea')]"
   ]
  },
  {
   "cell_type": "markdown",
   "id": "d80d442d",
   "metadata": {},
   "source": [
    "### Selecting attributes "
   ]
  },
  {
   "cell_type": "markdown",
   "id": "6f25045c",
   "metadata": {},
   "source": [
    "In this section, we'll explore the other categorical columns and decide if we think it will be valuable for our EDA. We will either add it to our cleaned Dataframe or drop the column"
   ]
  },
  {
   "cell_type": "code",
   "execution_count": 22,
   "id": "9b6d41f7",
   "metadata": {},
   "outputs": [],
   "source": [
    "df_processed_attributes=pd.DataFrame()"
   ]
  },
  {
   "cell_type": "markdown",
   "id": "4449c21d",
   "metadata": {},
   "source": [
    "### Defining some basic EDA method "
   ]
  },
  {
   "cell_type": "markdown",
   "id": "61cd488a",
   "metadata": {},
   "source": [
    "We'll define two basic functions for us to use. One will be to print the normalized value counts for the column as well as show a basic horizontal bar graph and the other will be to check the number of columns present and print out the column names."
   ]
  },
  {
   "cell_type": "code",
   "execution_count": 23,
   "id": "d509e262",
   "metadata": {},
   "outputs": [],
   "source": [
    "def category_EDA(column_name,dataframe):\n",
    "    \"\"\"\n",
    "    \n",
    "    This is a simple function that will print out the normalized value counts for the inputted column\n",
    "    in the inputted dataframe. It will also display a horizontal bar plot with the title being the column name\n",
    "    The column must be in the inputted dataframe for this to work.\n",
    "    \n",
    "    column_name: must be a valid type for column names:i.e. string or integer. \n",
    "    dataframe: must be a pandas dataframe\n",
    "    \n",
    "    \"\"\"\n",
    "    # value count\n",
    "    print(dataframe[column_name].value_counts(normalize=True))\n",
    "    \n",
    "    # plot\n",
    "    dataframe[column_name].value_counts(normalize=True).plot(kind=\"barh\", title=column_name)\n",
    "    plt.show()"
   ]
  },
  {
   "cell_type": "code",
   "execution_count": 24,
   "id": "616d8379",
   "metadata": {},
   "outputs": [],
   "source": [
    "def drop_check(dataframe):\n",
    "    \"\"\"\n",
    "    \n",
    "    This function will take in a dataframe and print out the number of unique columns as well as \n",
    "    the names of the remaining columns. \n",
    "    dataframe: This must be a pandas dataframe \n",
    "    \n",
    "    \"\"\"\n",
    "    #print out the number of unique columns left\n",
    "    print(f'We have',dataframe.columns.nunique(),\"Columns left\")\n",
    "    #print out the names of the columns left\n",
    "    print(f\"The columns we have left are: \\n\",(dataframe.columns))"
   ]
  },
  {
   "cell_type": "markdown",
   "id": "c9a21203",
   "metadata": {},
   "source": [
    "#### `Buisness ID` column"
   ]
  },
  {
   "cell_type": "code",
   "execution_count": 25,
   "id": "fca4d4c1",
   "metadata": {},
   "outputs": [],
   "source": [
    "#Here we'll start the df_state_business dataframe that we'll be using after we process all the attributes. \n",
    "\n",
    "df_state_business=df_selected_restaurants[['business_id','name', 'address', 'city', 'state', 'postal_code', 'latitude',\n",
    "       'longitude', 'stars', 'review_count', 'is_open', 'categories']]"
   ]
  },
  {
   "cell_type": "markdown",
   "id": "0fc30b50",
   "metadata": {},
   "source": [
    "The above is mostly done as a bookkeeping exercise. We'll drop these columns from our df_selected_restaurants dataframe so all that left is the business attributes. The business attributes that we will be using we'll add to a dataframe called `df_proceessed_attributes` just so we know how many columns out of the 61 remaining we end up reducing too. "
   ]
  },
  {
   "cell_type": "code",
   "execution_count": 26,
   "id": "4b37b5d7",
   "metadata": {
    "scrolled": true
   },
   "outputs": [
    {
     "name": "stderr",
     "output_type": "stream",
     "text": [
      "/var/folders/wd/_ly9th917n5cfwyp82k_61wr0000gn/T/ipykernel_10978/3076628485.py:2: SettingWithCopyWarning: \n",
      "A value is trying to be set on a copy of a slice from a DataFrame\n",
      "\n",
      "See the caveats in the documentation: https://pandas.pydata.org/pandas-docs/stable/user_guide/indexing.html#returning-a-view-versus-a-copy\n",
      "  df_selected_restaurants.drop(columns=['name', 'address', 'city','state', 'postal_code', 'latitude',\n"
     ]
    }
   ],
   "source": [
    "#Dropping the columns we just added to df_state_business\n",
    "df_selected_restaurants.drop(columns=['name', 'address', 'city','state', 'postal_code', 'latitude',\n",
    "       'longitude', 'stars', 'review_count', 'is_open', 'categories'],inplace=True)"
   ]
  },
  {
   "cell_type": "code",
   "execution_count": 27,
   "id": "1ec69c7f",
   "metadata": {
    "scrolled": true
   },
   "outputs": [
    {
     "data": {
      "text/plain": [
       "Index(['business_id', 'name', 'address', 'city', 'state', 'postal_code',\n",
       "       'latitude', 'longitude', 'stars', 'review_count', 'is_open',\n",
       "       'categories'],\n",
       "      dtype='object')"
      ]
     },
     "execution_count": 27,
     "metadata": {},
     "output_type": "execute_result"
    }
   ],
   "source": [
    "#looking at the unique columns \n",
    "df_state_business.columns.unique()"
   ]
  },
  {
   "cell_type": "markdown",
   "id": "3e4f7ca8",
   "metadata": {},
   "source": [
    "Above is just a quick check to make sure we have the correct columns in the `df_state_business`. Next, we'll add `business_id` to processed attributes just so we are able to join it onto other dataframes. Then we will drop `business_id` from `df_selected_restaurants` and process the rest of the columns."
   ]
  },
  {
   "cell_type": "code",
   "execution_count": 28,
   "id": "652e2892",
   "metadata": {},
   "outputs": [],
   "source": [
    "#Adding business_id to df_processed_attributes\n",
    "df_processed_attributes['business_id'] = df_selected_restaurants['business_id']"
   ]
  },
  {
   "cell_type": "code",
   "execution_count": 29,
   "id": "4cd07438",
   "metadata": {
    "scrolled": false
   },
   "outputs": [
    {
     "name": "stderr",
     "output_type": "stream",
     "text": [
      "/var/folders/wd/_ly9th917n5cfwyp82k_61wr0000gn/T/ipykernel_10978/520346945.py:2: SettingWithCopyWarning: \n",
      "A value is trying to be set on a copy of a slice from a DataFrame\n",
      "\n",
      "See the caveats in the documentation: https://pandas.pydata.org/pandas-docs/stable/user_guide/indexing.html#returning-a-view-versus-a-copy\n",
      "  df_selected_restaurants.drop(columns=\"business_id\", inplace=True)\n"
     ]
    }
   ],
   "source": [
    "#Dropping business_id \n",
    "df_selected_restaurants.drop(columns=\"business_id\", inplace=True)"
   ]
  },
  {
   "cell_type": "markdown",
   "id": "4ac84e2c",
   "metadata": {},
   "source": [
    "### Processing df_selected_restaurants"
   ]
  },
  {
   "cell_type": "markdown",
   "id": "dcb3976d",
   "metadata": {},
   "source": [
    "To start lets take a look at how many columns we're starting with using drop_check method"
   ]
  },
  {
   "cell_type": "code",
   "execution_count": 30,
   "id": "d6b1a9dd",
   "metadata": {},
   "outputs": [
    {
     "name": "stdout",
     "output_type": "stream",
     "text": [
      "We have 60 Columns left\n",
      "The columns we have left are: \n",
      " Index(['ByAppointmentOnly', 'BusinessAcceptsCreditCards',\n",
      "       'BusinessParking_garage', 'BusinessParking_street',\n",
      "       'BusinessParking_validated', 'BusinessParking_lot',\n",
      "       'BusinessParking_valet', 'RestaurantsPriceRange2', 'GoodForKids',\n",
      "       'WheelchairAccessible', 'BikeParking', 'Alcohol', 'RestaurantsAttire',\n",
      "       'Ambience_romantic', 'Ambience_intimate', 'Ambience_classy',\n",
      "       'Ambience_hipster', 'Ambience_divey', 'Ambience_touristy',\n",
      "       'Ambience_trendy', 'Ambience_upscale', 'Ambience_casual',\n",
      "       'RestaurantsGoodForGroups', 'Caters', 'WiFi', 'RestaurantsReservations',\n",
      "       'RestaurantsTakeOut', 'HappyHour', 'RestaurantsTableService',\n",
      "       'OutdoorSeating', 'RestaurantsDelivery', 'BestNights_monday',\n",
      "       'BestNights_tuesday', 'BestNights_friday', 'BestNights_wednesday',\n",
      "       'BestNights_thursday', 'BestNights_sunday', 'BestNights_saturday',\n",
      "       'GoodForMeal_dessert', 'GoodForMeal_latenight', 'GoodForMeal_lunch',\n",
      "       'GoodForMeal_dinner', 'GoodForMeal_breakfast', 'GoodForMeal_brunch',\n",
      "       'CoatCheck', 'DriveThru', 'BusinessAcceptsBitcoin', 'Open24Hours',\n",
      "       'BYOBCorkage', 'BYOB', 'Corkage', 'DietaryRestrictions_dairy-free',\n",
      "       'DietaryRestrictions_gluten-free', 'DietaryRestrictions_vegan',\n",
      "       'DietaryRestrictions_kosher', 'DietaryRestrictions_halal',\n",
      "       'DietaryRestrictions_soy-free', 'DietaryRestrictions_vegetarian',\n",
      "       'AgesAllowed', 'RestaurantsCounterService'],\n",
      "      dtype='object')\n"
     ]
    }
   ],
   "source": [
    "#drop_check method\n",
    "drop_check(df_selected_restaurants)"
   ]
  },
  {
   "cell_type": "markdown",
   "id": "05847cf3",
   "metadata": {},
   "source": [
    "We'll be going in order from top to bottom. When they look related i.e. BusinessParking_garage and BusinessParking_street, we'll process them together."
   ]
  },
  {
   "cell_type": "markdown",
   "id": "7c33bb75",
   "metadata": {},
   "source": [
    "#### `ByAppointmentOnly` column "
   ]
  },
  {
   "cell_type": "code",
   "execution_count": 31,
   "id": "dceb07e4",
   "metadata": {},
   "outputs": [
    {
     "name": "stdout",
     "output_type": "stream",
     "text": [
      "Na    1.0\n",
      "Name: ByAppointmentOnly, dtype: float64\n"
     ]
    },
    {
     "data": {
      "image/png": "[encoded data removed]",
      "text/plain": [
       "<Figure size 640x480 with 1 Axes>"
      ]
     },
     "metadata": {},
     "output_type": "display_data"
    }
   ],
   "source": [
    "#Applying categoryEDA method on the column \n",
    "category_EDA('ByAppointmentOnly',df_selected_restaurants)"
   ]
  },
  {
   "cell_type": "markdown",
   "id": "7b12ab1a",
   "metadata": {},
   "source": [
    "More than 95% of the values in this column are Na so we'll drop this column. "
   ]
  },
  {
   "cell_type": "code",
   "execution_count": 32,
   "id": "ec6d26cb",
   "metadata": {},
   "outputs": [
    {
     "name": "stderr",
     "output_type": "stream",
     "text": [
      "/var/folders/wd/_ly9th917n5cfwyp82k_61wr0000gn/T/ipykernel_10978/3079254452.py:2: SettingWithCopyWarning: \n",
      "A value is trying to be set on a copy of a slice from a DataFrame\n",
      "\n",
      "See the caveats in the documentation: https://pandas.pydata.org/pandas-docs/stable/user_guide/indexing.html#returning-a-view-versus-a-copy\n",
      "  df_selected_restaurants.drop(columns=\"ByAppointmentOnly\", inplace=True)\n"
     ]
    }
   ],
   "source": [
    "#Dropping selected column\n",
    "df_selected_restaurants.drop(columns=\"ByAppointmentOnly\", inplace=True)"
   ]
  },
  {
   "cell_type": "code",
   "execution_count": 33,
   "id": "2559af3e",
   "metadata": {},
   "outputs": [
    {
     "name": "stdout",
     "output_type": "stream",
     "text": [
      "We have 59 Columns left\n",
      "The columns we have left are: \n",
      " Index(['BusinessAcceptsCreditCards', 'BusinessParking_garage',\n",
      "       'BusinessParking_street', 'BusinessParking_validated',\n",
      "       'BusinessParking_lot', 'BusinessParking_valet',\n",
      "       'RestaurantsPriceRange2', 'GoodForKids', 'WheelchairAccessible',\n",
      "       'BikeParking', 'Alcohol', 'RestaurantsAttire', 'Ambience_romantic',\n",
      "       'Ambience_intimate', 'Ambience_classy', 'Ambience_hipster',\n",
      "       'Ambience_divey', 'Ambience_touristy', 'Ambience_trendy',\n",
      "       'Ambience_upscale', 'Ambience_casual', 'RestaurantsGoodForGroups',\n",
      "       'Caters', 'WiFi', 'RestaurantsReservations', 'RestaurantsTakeOut',\n",
      "       'HappyHour', 'RestaurantsTableService', 'OutdoorSeating',\n",
      "       'RestaurantsDelivery', 'BestNights_monday', 'BestNights_tuesday',\n",
      "       'BestNights_friday', 'BestNights_wednesday', 'BestNights_thursday',\n",
      "       'BestNights_sunday', 'BestNights_saturday', 'GoodForMeal_dessert',\n",
      "       'GoodForMeal_latenight', 'GoodForMeal_lunch', 'GoodForMeal_dinner',\n",
      "       'GoodForMeal_breakfast', 'GoodForMeal_brunch', 'CoatCheck', 'DriveThru',\n",
      "       'BusinessAcceptsBitcoin', 'Open24Hours', 'BYOBCorkage', 'BYOB',\n",
      "       'Corkage', 'DietaryRestrictions_dairy-free',\n",
      "       'DietaryRestrictions_gluten-free', 'DietaryRestrictions_vegan',\n",
      "       'DietaryRestrictions_kosher', 'DietaryRestrictions_halal',\n",
      "       'DietaryRestrictions_soy-free', 'DietaryRestrictions_vegetarian',\n",
      "       'AgesAllowed', 'RestaurantsCounterService'],\n",
      "      dtype='object')\n"
     ]
    }
   ],
   "source": [
    "#Checking if it was dropped correctly\n",
    "drop_check(df_selected_restaurants)"
   ]
  },
  {
   "cell_type": "markdown",
   "id": "9506b75d",
   "metadata": {},
   "source": [
    "The drop check shows that we've correctly dropped the column so we can proceed. "
   ]
  },
  {
   "cell_type": "markdown",
   "id": "dac21566",
   "metadata": {},
   "source": [
    "#### `BusinessAcceptsCreditCards` column"
   ]
  },
  {
   "cell_type": "code",
   "execution_count": 34,
   "id": "06edddc3",
   "metadata": {
    "scrolled": false
   },
   "outputs": [
    {
     "name": "stdout",
     "output_type": "stream",
     "text": [
      "Na       0.990505\n",
      "False    0.008850\n",
      "True     0.000645\n",
      "Name: BusinessAcceptsCreditCards, dtype: float64\n"
     ]
    },
    {
     "data": {
      "image/png": "[encoded data removed]",
      "text/plain": [
       "<Figure size 640x480 with 1 Axes>"
      ]
     },
     "metadata": {},
     "output_type": "display_data"
    }
   ],
   "source": [
    "#Applying categoryEDA method on the column \n",
    "category_EDA('BusinessAcceptsCreditCards',df_selected_restaurants)"
   ]
  },
  {
   "cell_type": "markdown",
   "id": "6b776520",
   "metadata": {},
   "source": [
    "More than 95% of the values in this column are Na so we'll drop this column. "
   ]
  },
  {
   "cell_type": "code",
   "execution_count": 35,
   "id": "8053f23d",
   "metadata": {},
   "outputs": [
    {
     "name": "stderr",
     "output_type": "stream",
     "text": [
      "/var/folders/wd/_ly9th917n5cfwyp82k_61wr0000gn/T/ipykernel_10978/19462658.py:2: SettingWithCopyWarning: \n",
      "A value is trying to be set on a copy of a slice from a DataFrame\n",
      "\n",
      "See the caveats in the documentation: https://pandas.pydata.org/pandas-docs/stable/user_guide/indexing.html#returning-a-view-versus-a-copy\n",
      "  df_selected_restaurants.drop(columns=\"BusinessAcceptsCreditCards\", inplace=True)\n"
     ]
    }
   ],
   "source": [
    "#Dropping selected columns\n",
    "df_selected_restaurants.drop(columns=\"BusinessAcceptsCreditCards\", inplace=True)"
   ]
  },
  {
   "cell_type": "code",
   "execution_count": 36,
   "id": "87b36280",
   "metadata": {
    "scrolled": true
   },
   "outputs": [
    {
     "name": "stdout",
     "output_type": "stream",
     "text": [
      "We have 58 Columns left\n",
      "The columns we have left are: \n",
      " Index(['BusinessParking_garage', 'BusinessParking_street',\n",
      "       'BusinessParking_validated', 'BusinessParking_lot',\n",
      "       'BusinessParking_valet', 'RestaurantsPriceRange2', 'GoodForKids',\n",
      "       'WheelchairAccessible', 'BikeParking', 'Alcohol', 'RestaurantsAttire',\n",
      "       'Ambience_romantic', 'Ambience_intimate', 'Ambience_classy',\n",
      "       'Ambience_hipster', 'Ambience_divey', 'Ambience_touristy',\n",
      "       'Ambience_trendy', 'Ambience_upscale', 'Ambience_casual',\n",
      "       'RestaurantsGoodForGroups', 'Caters', 'WiFi', 'RestaurantsReservations',\n",
      "       'RestaurantsTakeOut', 'HappyHour', 'RestaurantsTableService',\n",
      "       'OutdoorSeating', 'RestaurantsDelivery', 'BestNights_monday',\n",
      "       'BestNights_tuesday', 'BestNights_friday', 'BestNights_wednesday',\n",
      "       'BestNights_thursday', 'BestNights_sunday', 'BestNights_saturday',\n",
      "       'GoodForMeal_dessert', 'GoodForMeal_latenight', 'GoodForMeal_lunch',\n",
      "       'GoodForMeal_dinner', 'GoodForMeal_breakfast', 'GoodForMeal_brunch',\n",
      "       'CoatCheck', 'DriveThru', 'BusinessAcceptsBitcoin', 'Open24Hours',\n",
      "       'BYOBCorkage', 'BYOB', 'Corkage', 'DietaryRestrictions_dairy-free',\n",
      "       'DietaryRestrictions_gluten-free', 'DietaryRestrictions_vegan',\n",
      "       'DietaryRestrictions_kosher', 'DietaryRestrictions_halal',\n",
      "       'DietaryRestrictions_soy-free', 'DietaryRestrictions_vegetarian',\n",
      "       'AgesAllowed', 'RestaurantsCounterService'],\n",
      "      dtype='object')\n"
     ]
    }
   ],
   "source": [
    "#Checking if it was dropped correctly\n",
    "drop_check(df_selected_restaurants)"
   ]
  },
  {
   "cell_type": "markdown",
   "id": "51be9604",
   "metadata": {},
   "source": [
    "The drop check shows that we've correctly dropped the column so we can proceed. "
   ]
  },
  {
   "cell_type": "markdown",
   "id": "edb53cd0",
   "metadata": {},
   "source": [
    "#### `BusinessParking` columns"
   ]
  },
  {
   "cell_type": "code",
   "execution_count": 37,
   "id": "93d9d5dd",
   "metadata": {},
   "outputs": [
    {
     "name": "stdout",
     "output_type": "stream",
     "text": [
      "Na       0.996589\n",
      "True     0.003134\n",
      "False    0.000277\n",
      "Name: BusinessParking_garage, dtype: float64\n"
     ]
    },
    {
     "data": {
      "image/png": "[encoded data removed]",
      "text/plain": [
       "<Figure size 640x480 with 1 Axes>"
      ]
     },
     "metadata": {},
     "output_type": "display_data"
    }
   ],
   "source": [
    "#Applying categoryEDA method on the column\n",
    "category_EDA('BusinessParking_garage',df_selected_restaurants)"
   ]
  },
  {
   "cell_type": "markdown",
   "id": "9151e9c5",
   "metadata": {},
   "source": [
    "More than 95% of the values in this column are Na so we'll drop this column. "
   ]
  },
  {
   "cell_type": "code",
   "execution_count": 38,
   "id": "2f982766",
   "metadata": {},
   "outputs": [
    {
     "name": "stdout",
     "output_type": "stream",
     "text": [
      "False    0.486310\n",
      "Na       0.483145\n",
      "True     0.030544\n",
      "Name: BusinessParking_street, dtype: float64\n"
     ]
    },
    {
     "data": {
      "image/png": "[encoded data removed]",
      "text/plain": [
       "<Figure size 640x480 with 1 Axes>"
      ]
     },
     "metadata": {},
     "output_type": "display_data"
    }
   ],
   "source": [
    "#Applying categoryEDA method on the column\n",
    "category_EDA('BusinessParking_street',df_selected_restaurants)"
   ]
  },
  {
   "cell_type": "markdown",
   "id": "60a654fd",
   "metadata": {},
   "source": [
    "While 50% of the values are there, the NA values aren't obviously put in either section. Street Parking can be readily available in the city and it isn't obvious which one to put it in so we'll drop this column"
   ]
  },
  {
   "cell_type": "code",
   "execution_count": 39,
   "id": "1c8f4fef",
   "metadata": {},
   "outputs": [
    {
     "name": "stdout",
     "output_type": "stream",
     "text": [
      "Na       0.483145\n",
      "False    0.389423\n",
      "True     0.127431\n",
      "Name: BusinessParking_validated, dtype: float64\n"
     ]
    },
    {
     "data": {
      "image/png": "[encoded data removed]",
      "text/plain": [
       "<Figure size 640x480 with 1 Axes>"
      ]
     },
     "metadata": {},
     "output_type": "display_data"
    }
   ],
   "source": [
    "#Applying categoryEDA method on the column\n",
    "category_EDA('BusinessParking_validated',df_selected_restaurants)"
   ]
  },
  {
   "cell_type": "markdown",
   "id": "1e20eca1",
   "metadata": {},
   "source": [
    "While over 50% of the data is non Na, the issue with this column is similar to the other column, it isn't obvious how to fill the NA values. With that, we'll drop these column."
   ]
  },
  {
   "cell_type": "code",
   "execution_count": 40,
   "id": "c4801913",
   "metadata": {},
   "outputs": [
    {
     "name": "stdout",
     "output_type": "stream",
     "text": [
      "False    0.513935\n",
      "Na       0.483145\n",
      "True     0.002919\n",
      "Name: BusinessParking_lot, dtype: float64\n"
     ]
    },
    {
     "data": {
      "image/png": "[encoded data removed]",
      "text/plain": [
       "<Figure size 640x480 with 1 Axes>"
      ]
     },
     "metadata": {},
     "output_type": "display_data"
    }
   ],
   "source": [
    "#Applying categoryEDA method on the column\n",
    "category_EDA('BusinessParking_lot',df_selected_restaurants)"
   ]
  },
  {
   "cell_type": "markdown",
   "id": "61ac7a6e",
   "metadata": {},
   "source": [
    "Having such a large imbalance in true and false wouldn't make for a good column as it wouldn't make sense to fill the NA with True, but filling it with False would make it a 99:1 ratio imbalance. As a result we'll drop this column"
   ]
  },
  {
   "cell_type": "code",
   "execution_count": 41,
   "id": "fbed9a00",
   "metadata": {
    "scrolled": true
   },
   "outputs": [
    {
     "name": "stdout",
     "output_type": "stream",
     "text": [
      "Na       0.483145\n",
      "False    0.348185\n",
      "True     0.168669\n",
      "Name: BusinessParking_valet, dtype: float64\n"
     ]
    },
    {
     "data": {
      "image/png": "[encoded data removed]",
      "text/plain": [
       "<Figure size 640x480 with 1 Axes>"
      ]
     },
     "metadata": {},
     "output_type": "display_data"
    }
   ],
   "source": [
    "#Applying categoryEDA method on the column\n",
    "category_EDA('BusinessParking_valet',df_selected_restaurants)"
   ]
  },
  {
   "cell_type": "markdown",
   "id": "0b69e1ea",
   "metadata": {},
   "source": [
    "While there are a considerable amount of NA values with just under 50% being Na, it's reasonable to assume that if a restaurant isn't advertising this premium service, they likely don't have it. As well, we do have a decently sized true percentage which makes preserving this column valuable. As a result we'll add this to our dataset."
   ]
  },
  {
   "cell_type": "code",
   "execution_count": 42,
   "id": "18c7b2b6",
   "metadata": {},
   "outputs": [],
   "source": [
    "#Creating a new column in df_processed_attributes \n",
    "df_processed_attributes['BusinessParking_valet']=df_selected_restaurants['BusinessParking_valet']"
   ]
  },
  {
   "cell_type": "code",
   "execution_count": 43,
   "id": "c0899f08",
   "metadata": {
    "scrolled": true
   },
   "outputs": [
    {
     "data": {
      "text/plain": [
       "array(['Na', 'False', 'True'], dtype=object)"
      ]
     },
     "execution_count": 43,
     "metadata": {},
     "output_type": "execute_result"
    }
   ],
   "source": [
    "#checking unique values in the column\n",
    "df_processed_attributes['BusinessParking_valet'].unique()"
   ]
  },
  {
   "cell_type": "markdown",
   "id": "0c571eca",
   "metadata": {},
   "source": [
    "Here we're just checking to make sure that the values are the same, now we'll set NA and false as 0 and 1 as True. "
   ]
  },
  {
   "cell_type": "code",
   "execution_count": 44,
   "id": "feb918ce",
   "metadata": {},
   "outputs": [],
   "source": [
    "#Using the where method to make this a binary numeric column \n",
    "df_processed_attributes['BusinessParking_valet']=np.where(df_processed_attributes['BusinessParking_valet']=='True',1,0)"
   ]
  },
  {
   "cell_type": "code",
   "execution_count": 45,
   "id": "1393a927",
   "metadata": {
    "scrolled": true
   },
   "outputs": [
    {
     "data": {
      "text/plain": [
       "0    0.831331\n",
       "1    0.168669\n",
       "Name: BusinessParking_valet, dtype: float64"
      ]
     },
     "execution_count": 45,
     "metadata": {},
     "output_type": "execute_result"
    }
   ],
   "source": [
    "#checking the value counts\n",
    "df_processed_attributes['BusinessParking_valet'].value_counts(normalize=True)"
   ]
  },
  {
   "cell_type": "markdown",
   "id": "675805d6",
   "metadata": {},
   "source": [
    "After we've changed the values we checked the value counts and can see that the True values (assigned as 1) are still the same so we can conclude that we were successful. Now we can drop all the columns processed in this section."
   ]
  },
  {
   "cell_type": "code",
   "execution_count": 46,
   "id": "b4ee1b70",
   "metadata": {},
   "outputs": [
    {
     "name": "stderr",
     "output_type": "stream",
     "text": [
      "/var/folders/wd/_ly9th917n5cfwyp82k_61wr0000gn/T/ipykernel_10978/3915760108.py:2: SettingWithCopyWarning: \n",
      "A value is trying to be set on a copy of a slice from a DataFrame\n",
      "\n",
      "See the caveats in the documentation: https://pandas.pydata.org/pandas-docs/stable/user_guide/indexing.html#returning-a-view-versus-a-copy\n",
      "  df_selected_restaurants.drop(columns=['BusinessParking_garage', 'BusinessParking_street',\n"
     ]
    }
   ],
   "source": [
    "#Dropping selected columns\n",
    "df_selected_restaurants.drop(columns=['BusinessParking_garage', 'BusinessParking_street',\n",
    "       'BusinessParking_validated', 'BusinessParking_lot',\n",
    "       'BusinessParking_valet'], inplace=True)"
   ]
  },
  {
   "cell_type": "code",
   "execution_count": 47,
   "id": "95b53a5e",
   "metadata": {},
   "outputs": [
    {
     "name": "stdout",
     "output_type": "stream",
     "text": [
      "We have 53 Columns left\n",
      "The columns we have left are: \n",
      " Index(['RestaurantsPriceRange2', 'GoodForKids', 'WheelchairAccessible',\n",
      "       'BikeParking', 'Alcohol', 'RestaurantsAttire', 'Ambience_romantic',\n",
      "       'Ambience_intimate', 'Ambience_classy', 'Ambience_hipster',\n",
      "       'Ambience_divey', 'Ambience_touristy', 'Ambience_trendy',\n",
      "       'Ambience_upscale', 'Ambience_casual', 'RestaurantsGoodForGroups',\n",
      "       'Caters', 'WiFi', 'RestaurantsReservations', 'RestaurantsTakeOut',\n",
      "       'HappyHour', 'RestaurantsTableService', 'OutdoorSeating',\n",
      "       'RestaurantsDelivery', 'BestNights_monday', 'BestNights_tuesday',\n",
      "       'BestNights_friday', 'BestNights_wednesday', 'BestNights_thursday',\n",
      "       'BestNights_sunday', 'BestNights_saturday', 'GoodForMeal_dessert',\n",
      "       'GoodForMeal_latenight', 'GoodForMeal_lunch', 'GoodForMeal_dinner',\n",
      "       'GoodForMeal_breakfast', 'GoodForMeal_brunch', 'CoatCheck', 'DriveThru',\n",
      "       'BusinessAcceptsBitcoin', 'Open24Hours', 'BYOBCorkage', 'BYOB',\n",
      "       'Corkage', 'DietaryRestrictions_dairy-free',\n",
      "       'DietaryRestrictions_gluten-free', 'DietaryRestrictions_vegan',\n",
      "       'DietaryRestrictions_kosher', 'DietaryRestrictions_halal',\n",
      "       'DietaryRestrictions_soy-free', 'DietaryRestrictions_vegetarian',\n",
      "       'AgesAllowed', 'RestaurantsCounterService'],\n",
      "      dtype='object')\n"
     ]
    }
   ],
   "source": [
    "#Checking if it was dropped correctly\n",
    "drop_check(df_selected_restaurants)"
   ]
  },
  {
   "cell_type": "markdown",
   "id": "db41f1ee",
   "metadata": {},
   "source": [
    "The drop check shows that we've correctly dropped the columns so we can proceed. "
   ]
  },
  {
   "cell_type": "markdown",
   "id": "ad49f303",
   "metadata": {},
   "source": [
    "#### `RestaurantsPriceRange2` column "
   ]
  },
  {
   "cell_type": "code",
   "execution_count": 48,
   "id": "0c2de130",
   "metadata": {
    "scrolled": true
   },
   "outputs": [
    {
     "name": "stdout",
     "output_type": "stream",
     "text": [
      "Na    1.0\n",
      "Name: RestaurantsPriceRange2, dtype: float64\n"
     ]
    },
    {
     "data": {
      "image/png": "[encoded data removed]",
      "text/plain": [
       "<Figure size 640x480 with 1 Axes>"
      ]
     },
     "metadata": {},
     "output_type": "display_data"
    }
   ],
   "source": [
    "#Applying categoryEDA method on the column\n",
    "category_EDA('RestaurantsPriceRange2',df_selected_restaurants)"
   ]
  },
  {
   "cell_type": "markdown",
   "id": "477376d3",
   "metadata": {},
   "source": [
    "More than 95% of the values in this column are Na so we'll drop this column. "
   ]
  },
  {
   "cell_type": "code",
   "execution_count": 49,
   "id": "2d4c5792",
   "metadata": {},
   "outputs": [
    {
     "name": "stderr",
     "output_type": "stream",
     "text": [
      "/var/folders/wd/_ly9th917n5cfwyp82k_61wr0000gn/T/ipykernel_10978/1922336039.py:2: SettingWithCopyWarning: \n",
      "A value is trying to be set on a copy of a slice from a DataFrame\n",
      "\n",
      "See the caveats in the documentation: https://pandas.pydata.org/pandas-docs/stable/user_guide/indexing.html#returning-a-view-versus-a-copy\n",
      "  df_selected_restaurants.drop(columns='RestaurantsPriceRange2',inplace=True)\n"
     ]
    }
   ],
   "source": [
    "#Dropping selected columns\n",
    "df_selected_restaurants.drop(columns='RestaurantsPriceRange2',inplace=True)"
   ]
  },
  {
   "cell_type": "code",
   "execution_count": 50,
   "id": "98d5db54",
   "metadata": {
    "scrolled": true
   },
   "outputs": [
    {
     "name": "stdout",
     "output_type": "stream",
     "text": [
      "We have 52 Columns left\n",
      "The columns we have left are: \n",
      " Index(['GoodForKids', 'WheelchairAccessible', 'BikeParking', 'Alcohol',\n",
      "       'RestaurantsAttire', 'Ambience_romantic', 'Ambience_intimate',\n",
      "       'Ambience_classy', 'Ambience_hipster', 'Ambience_divey',\n",
      "       'Ambience_touristy', 'Ambience_trendy', 'Ambience_upscale',\n",
      "       'Ambience_casual', 'RestaurantsGoodForGroups', 'Caters', 'WiFi',\n",
      "       'RestaurantsReservations', 'RestaurantsTakeOut', 'HappyHour',\n",
      "       'RestaurantsTableService', 'OutdoorSeating', 'RestaurantsDelivery',\n",
      "       'BestNights_monday', 'BestNights_tuesday', 'BestNights_friday',\n",
      "       'BestNights_wednesday', 'BestNights_thursday', 'BestNights_sunday',\n",
      "       'BestNights_saturday', 'GoodForMeal_dessert', 'GoodForMeal_latenight',\n",
      "       'GoodForMeal_lunch', 'GoodForMeal_dinner', 'GoodForMeal_breakfast',\n",
      "       'GoodForMeal_brunch', 'CoatCheck', 'DriveThru',\n",
      "       'BusinessAcceptsBitcoin', 'Open24Hours', 'BYOBCorkage', 'BYOB',\n",
      "       'Corkage', 'DietaryRestrictions_dairy-free',\n",
      "       'DietaryRestrictions_gluten-free', 'DietaryRestrictions_vegan',\n",
      "       'DietaryRestrictions_kosher', 'DietaryRestrictions_halal',\n",
      "       'DietaryRestrictions_soy-free', 'DietaryRestrictions_vegetarian',\n",
      "       'AgesAllowed', 'RestaurantsCounterService'],\n",
      "      dtype='object')\n"
     ]
    }
   ],
   "source": [
    "#Checking if it was dropped correctly\n",
    "drop_check(df_selected_restaurants)"
   ]
  },
  {
   "cell_type": "markdown",
   "id": "6056cdf7",
   "metadata": {},
   "source": [
    "The drop check shows that we've correctly dropped the column so we can proceed. "
   ]
  },
  {
   "cell_type": "markdown",
   "id": "c220b471",
   "metadata": {},
   "source": [
    "#### `GoodForKids` column"
   ]
  },
  {
   "cell_type": "code",
   "execution_count": 51,
   "id": "9ec250e4",
   "metadata": {},
   "outputs": [
    {
     "name": "stdout",
     "output_type": "stream",
     "text": [
      "Na    0.977414\n",
      "2     0.011001\n",
      "1     0.007805\n",
      "3     0.003411\n",
      "4     0.000369\n",
      "Name: GoodForKids, dtype: float64\n"
     ]
    },
    {
     "data": {
      "image/png": "[encoded data removed]",
      "text/plain": [
       "<Figure size 640x480 with 1 Axes>"
      ]
     },
     "metadata": {},
     "output_type": "display_data"
    }
   ],
   "source": [
    "#Applying categoryEDA method on the column\n",
    "category_EDA('GoodForKids',df_selected_restaurants)"
   ]
  },
  {
   "cell_type": "markdown",
   "id": "2b4cb7fa",
   "metadata": {},
   "source": [
    "More than 95% of the values in this column are Na so we'll drop this column. "
   ]
  },
  {
   "cell_type": "code",
   "execution_count": 52,
   "id": "268daf18",
   "metadata": {},
   "outputs": [
    {
     "name": "stderr",
     "output_type": "stream",
     "text": [
      "/var/folders/wd/_ly9th917n5cfwyp82k_61wr0000gn/T/ipykernel_10978/3850891176.py:2: SettingWithCopyWarning: \n",
      "A value is trying to be set on a copy of a slice from a DataFrame\n",
      "\n",
      "See the caveats in the documentation: https://pandas.pydata.org/pandas-docs/stable/user_guide/indexing.html#returning-a-view-versus-a-copy\n",
      "  df_selected_restaurants.drop(columns='GoodForKids',inplace=True)\n"
     ]
    }
   ],
   "source": [
    "#Dropping selected columns\n",
    "df_selected_restaurants.drop(columns='GoodForKids',inplace=True)"
   ]
  },
  {
   "cell_type": "code",
   "execution_count": 53,
   "id": "834dbcce",
   "metadata": {},
   "outputs": [
    {
     "name": "stdout",
     "output_type": "stream",
     "text": [
      "We have 51 Columns left\n",
      "The columns we have left are: \n",
      " Index(['WheelchairAccessible', 'BikeParking', 'Alcohol', 'RestaurantsAttire',\n",
      "       'Ambience_romantic', 'Ambience_intimate', 'Ambience_classy',\n",
      "       'Ambience_hipster', 'Ambience_divey', 'Ambience_touristy',\n",
      "       'Ambience_trendy', 'Ambience_upscale', 'Ambience_casual',\n",
      "       'RestaurantsGoodForGroups', 'Caters', 'WiFi', 'RestaurantsReservations',\n",
      "       'RestaurantsTakeOut', 'HappyHour', 'RestaurantsTableService',\n",
      "       'OutdoorSeating', 'RestaurantsDelivery', 'BestNights_monday',\n",
      "       'BestNights_tuesday', 'BestNights_friday', 'BestNights_wednesday',\n",
      "       'BestNights_thursday', 'BestNights_sunday', 'BestNights_saturday',\n",
      "       'GoodForMeal_dessert', 'GoodForMeal_latenight', 'GoodForMeal_lunch',\n",
      "       'GoodForMeal_dinner', 'GoodForMeal_breakfast', 'GoodForMeal_brunch',\n",
      "       'CoatCheck', 'DriveThru', 'BusinessAcceptsBitcoin', 'Open24Hours',\n",
      "       'BYOBCorkage', 'BYOB', 'Corkage', 'DietaryRestrictions_dairy-free',\n",
      "       'DietaryRestrictions_gluten-free', 'DietaryRestrictions_vegan',\n",
      "       'DietaryRestrictions_kosher', 'DietaryRestrictions_halal',\n",
      "       'DietaryRestrictions_soy-free', 'DietaryRestrictions_vegetarian',\n",
      "       'AgesAllowed', 'RestaurantsCounterService'],\n",
      "      dtype='object')\n"
     ]
    }
   ],
   "source": [
    "#Checking if it was dropped correctly\n",
    "drop_check(df_selected_restaurants)"
   ]
  },
  {
   "cell_type": "markdown",
   "id": "5c8c121d",
   "metadata": {},
   "source": [
    "The drop check shows that we've correctly dropped the column so we can proceed. "
   ]
  },
  {
   "cell_type": "markdown",
   "id": "5ca3593f",
   "metadata": {},
   "source": [
    "####  `WheelchairAccessible` column"
   ]
  },
  {
   "cell_type": "code",
   "execution_count": 54,
   "id": "bf11736f",
   "metadata": {},
   "outputs": [
    {
     "name": "stdout",
     "output_type": "stream",
     "text": [
      "Na       0.714747\n",
      "True     0.246259\n",
      "False    0.038995\n",
      "Name: WheelchairAccessible, dtype: float64\n"
     ]
    },
    {
     "data": {
      "image/png": "[encoded data removed]",
      "text/plain": [
       "<Figure size 640x480 with 1 Axes>"
      ]
     },
     "metadata": {},
     "output_type": "display_data"
    }
   ],
   "source": [
    "#Applying categoryEDA method on the column\n",
    "category_EDA('WheelchairAccessible',df_selected_restaurants)"
   ]
  },
  {
   "cell_type": "markdown",
   "id": "cbf67d02",
   "metadata": {},
   "source": [
    "So we see that almost 25% of restaurants in our dataframe say they're wheelchair accessible while a very small percentage say they aren't with the vast majority not saying false or true. Its a reasonable assumption that accessibility is something that can make or break whether or not a customer will go to a restaurant. That means that it's reasonable to assume that if a restaurant does not advertise that they are wheelchair accessible, they would not be. Also from the perspective of the customer, this isn't like parking where you can just park slightly further. For people that are looking for restaurants with wheelchair accessibility, it is a vital trait that the restaurant needs to have for this group. Therefore, it wouldn't make sense to fill by True. Therefore we'll fill the NA values as false."
   ]
  },
  {
   "cell_type": "code",
   "execution_count": 55,
   "id": "e1400c20",
   "metadata": {},
   "outputs": [],
   "source": [
    "#Creating a new column in df_processed_attributes \n",
    "df_processed_attributes['WheelchairAccessible']=df_selected_restaurants['WheelchairAccessible']"
   ]
  },
  {
   "cell_type": "code",
   "execution_count": 56,
   "id": "15c9413e",
   "metadata": {
    "scrolled": true
   },
   "outputs": [
    {
     "data": {
      "text/plain": [
       "array(['Na', 'True', 'False'], dtype=object)"
      ]
     },
     "execution_count": 56,
     "metadata": {},
     "output_type": "execute_result"
    }
   ],
   "source": [
    "#checking unique values in the new column created\n",
    "df_processed_attributes['WheelchairAccessible'].unique()"
   ]
  },
  {
   "cell_type": "markdown",
   "id": "0c62eff1",
   "metadata": {},
   "source": [
    "After adding the column to the processed dataframe, we need to check to make sure we haven't added any unexpected values."
   ]
  },
  {
   "cell_type": "code",
   "execution_count": 57,
   "id": "2fe36294",
   "metadata": {},
   "outputs": [],
   "source": [
    "#using where method to change all NA values to false \n",
    "df_processed_attributes['WheelchairAccessible']=np.where(df_processed_attributes['WheelchairAccessible']=='True',1,0)"
   ]
  },
  {
   "cell_type": "code",
   "execution_count": 58,
   "id": "72cf141b",
   "metadata": {
    "scrolled": true
   },
   "outputs": [
    {
     "data": {
      "text/plain": [
       "0    0.753741\n",
       "1    0.246259\n",
       "Name: WheelchairAccessible, dtype: float64"
      ]
     },
     "execution_count": 58,
     "metadata": {},
     "output_type": "execute_result"
    }
   ],
   "source": [
    "#checking the value count on the new processed dataframe\n",
    "df_processed_attributes['WheelchairAccessible'].value_counts(normalize=True)"
   ]
  },
  {
   "cell_type": "markdown",
   "id": "7c74450b",
   "metadata": {},
   "source": [
    "After we changed True values to 1 and NA/False values to 0, we're seeing the same percentage of True values(1) therefore, we can proceed."
   ]
  },
  {
   "cell_type": "code",
   "execution_count": 59,
   "id": "e5777dd4",
   "metadata": {},
   "outputs": [
    {
     "name": "stderr",
     "output_type": "stream",
     "text": [
      "/var/folders/wd/_ly9th917n5cfwyp82k_61wr0000gn/T/ipykernel_10978/3192679942.py:2: SettingWithCopyWarning: \n",
      "A value is trying to be set on a copy of a slice from a DataFrame\n",
      "\n",
      "See the caveats in the documentation: https://pandas.pydata.org/pandas-docs/stable/user_guide/indexing.html#returning-a-view-versus-a-copy\n",
      "  df_selected_restaurants.drop(columns='WheelchairAccessible',inplace=True)\n"
     ]
    }
   ],
   "source": [
    "#Dropping selected columns\n",
    "df_selected_restaurants.drop(columns='WheelchairAccessible',inplace=True)"
   ]
  },
  {
   "cell_type": "code",
   "execution_count": 60,
   "id": "304dc68d",
   "metadata": {},
   "outputs": [
    {
     "name": "stdout",
     "output_type": "stream",
     "text": [
      "We have 50 Columns left\n",
      "The columns we have left are: \n",
      " Index(['BikeParking', 'Alcohol', 'RestaurantsAttire', 'Ambience_romantic',\n",
      "       'Ambience_intimate', 'Ambience_classy', 'Ambience_hipster',\n",
      "       'Ambience_divey', 'Ambience_touristy', 'Ambience_trendy',\n",
      "       'Ambience_upscale', 'Ambience_casual', 'RestaurantsGoodForGroups',\n",
      "       'Caters', 'WiFi', 'RestaurantsReservations', 'RestaurantsTakeOut',\n",
      "       'HappyHour', 'RestaurantsTableService', 'OutdoorSeating',\n",
      "       'RestaurantsDelivery', 'BestNights_monday', 'BestNights_tuesday',\n",
      "       'BestNights_friday', 'BestNights_wednesday', 'BestNights_thursday',\n",
      "       'BestNights_sunday', 'BestNights_saturday', 'GoodForMeal_dessert',\n",
      "       'GoodForMeal_latenight', 'GoodForMeal_lunch', 'GoodForMeal_dinner',\n",
      "       'GoodForMeal_breakfast', 'GoodForMeal_brunch', 'CoatCheck', 'DriveThru',\n",
      "       'BusinessAcceptsBitcoin', 'Open24Hours', 'BYOBCorkage', 'BYOB',\n",
      "       'Corkage', 'DietaryRestrictions_dairy-free',\n",
      "       'DietaryRestrictions_gluten-free', 'DietaryRestrictions_vegan',\n",
      "       'DietaryRestrictions_kosher', 'DietaryRestrictions_halal',\n",
      "       'DietaryRestrictions_soy-free', 'DietaryRestrictions_vegetarian',\n",
      "       'AgesAllowed', 'RestaurantsCounterService'],\n",
      "      dtype='object')\n"
     ]
    }
   ],
   "source": [
    "#Checking if it was dropped correctly\n",
    "drop_check(df_selected_restaurants)"
   ]
  },
  {
   "cell_type": "markdown",
   "id": "8af33c86",
   "metadata": {},
   "source": [
    "The drop check shows that we've correctly dropped the column so we can proceed. "
   ]
  },
  {
   "cell_type": "markdown",
   "id": "4bb352f1",
   "metadata": {},
   "source": [
    "#### `BikeParking` Column"
   ]
  },
  {
   "cell_type": "code",
   "execution_count": 61,
   "id": "cc7db24e",
   "metadata": {},
   "outputs": [
    {
     "name": "stdout",
     "output_type": "stream",
     "text": [
      "Na       0.718342\n",
      "True     0.226070\n",
      "False    0.055588\n",
      "Name: BikeParking, dtype: float64\n"
     ]
    },
    {
     "data": {
      "image/png": "[encoded data removed]",
      "text/plain": [
       "<Figure size 640x480 with 1 Axes>"
      ]
     },
     "metadata": {},
     "output_type": "display_data"
    }
   ],
   "source": [
    "#Applying categoryEDA method on the column\n",
    "category_EDA(\"BikeParking\",df_selected_restaurants)"
   ]
  },
  {
   "cell_type": "markdown",
   "id": "51d661c4",
   "metadata": {},
   "source": [
    "Bike parking while 22% have it as true, it wouldn't be the same as wheelchair accessibility for example, as many places have street bike parking and it wouldn't be reasonable to say that any business not advertising it on their yelp page, does not have it or have it at least nearby. Therefore it wouldn't be reasonable to fill by False so we'll have to drop the column. "
   ]
  },
  {
   "cell_type": "code",
   "execution_count": 62,
   "id": "e4a3a59f",
   "metadata": {},
   "outputs": [
    {
     "name": "stderr",
     "output_type": "stream",
     "text": [
      "/var/folders/wd/_ly9th917n5cfwyp82k_61wr0000gn/T/ipykernel_10978/2733248788.py:2: SettingWithCopyWarning: \n",
      "A value is trying to be set on a copy of a slice from a DataFrame\n",
      "\n",
      "See the caveats in the documentation: https://pandas.pydata.org/pandas-docs/stable/user_guide/indexing.html#returning-a-view-versus-a-copy\n",
      "  df_selected_restaurants.drop(columns=\"BikeParking\",inplace=True)\n"
     ]
    }
   ],
   "source": [
    "#Dropping selected columns\n",
    "df_selected_restaurants.drop(columns=\"BikeParking\",inplace=True)"
   ]
  },
  {
   "cell_type": "code",
   "execution_count": 63,
   "id": "adb3f43b",
   "metadata": {},
   "outputs": [
    {
     "name": "stdout",
     "output_type": "stream",
     "text": [
      "We have 49 Columns left\n",
      "The columns we have left are: \n",
      " Index(['Alcohol', 'RestaurantsAttire', 'Ambience_romantic',\n",
      "       'Ambience_intimate', 'Ambience_classy', 'Ambience_hipster',\n",
      "       'Ambience_divey', 'Ambience_touristy', 'Ambience_trendy',\n",
      "       'Ambience_upscale', 'Ambience_casual', 'RestaurantsGoodForGroups',\n",
      "       'Caters', 'WiFi', 'RestaurantsReservations', 'RestaurantsTakeOut',\n",
      "       'HappyHour', 'RestaurantsTableService', 'OutdoorSeating',\n",
      "       'RestaurantsDelivery', 'BestNights_monday', 'BestNights_tuesday',\n",
      "       'BestNights_friday', 'BestNights_wednesday', 'BestNights_thursday',\n",
      "       'BestNights_sunday', 'BestNights_saturday', 'GoodForMeal_dessert',\n",
      "       'GoodForMeal_latenight', 'GoodForMeal_lunch', 'GoodForMeal_dinner',\n",
      "       'GoodForMeal_breakfast', 'GoodForMeal_brunch', 'CoatCheck', 'DriveThru',\n",
      "       'BusinessAcceptsBitcoin', 'Open24Hours', 'BYOBCorkage', 'BYOB',\n",
      "       'Corkage', 'DietaryRestrictions_dairy-free',\n",
      "       'DietaryRestrictions_gluten-free', 'DietaryRestrictions_vegan',\n",
      "       'DietaryRestrictions_kosher', 'DietaryRestrictions_halal',\n",
      "       'DietaryRestrictions_soy-free', 'DietaryRestrictions_vegetarian',\n",
      "       'AgesAllowed', 'RestaurantsCounterService'],\n",
      "      dtype='object')\n"
     ]
    }
   ],
   "source": [
    "#Checking if it was dropped correctly\n",
    "drop_check(df_selected_restaurants)"
   ]
  },
  {
   "cell_type": "markdown",
   "id": "f9fc8315",
   "metadata": {},
   "source": [
    "The drop check shows that we've correctly dropped the column so we can proceed. "
   ]
  },
  {
   "cell_type": "markdown",
   "id": "0136edf0",
   "metadata": {},
   "source": [
    "#### `Alcohol` Column"
   ]
  },
  {
   "cell_type": "code",
   "execution_count": 64,
   "id": "a071383d",
   "metadata": {},
   "outputs": [
    {
     "name": "stdout",
     "output_type": "stream",
     "text": [
      "Na       0.972375\n",
      "True     0.020957\n",
      "False    0.006668\n",
      "Name: Alcohol, dtype: float64\n"
     ]
    },
    {
     "data": {
      "image/png": "[encoded data removed]",
      "text/plain": [
       "<Figure size 640x480 with 1 Axes>"
      ]
     },
     "metadata": {},
     "output_type": "display_data"
    }
   ],
   "source": [
    "#Applying categoryEDA method on the column\n",
    "category_EDA('Alcohol',df_selected_restaurants)"
   ]
  },
  {
   "cell_type": "markdown",
   "id": "90dc6db9",
   "metadata": {},
   "source": [
    "More than 95% of the values in this column are Na so we'll drop this column. "
   ]
  },
  {
   "cell_type": "code",
   "execution_count": 65,
   "id": "4e582cd6",
   "metadata": {},
   "outputs": [
    {
     "name": "stderr",
     "output_type": "stream",
     "text": [
      "/var/folders/wd/_ly9th917n5cfwyp82k_61wr0000gn/T/ipykernel_10978/3226870744.py:2: SettingWithCopyWarning: \n",
      "A value is trying to be set on a copy of a slice from a DataFrame\n",
      "\n",
      "See the caveats in the documentation: https://pandas.pydata.org/pandas-docs/stable/user_guide/indexing.html#returning-a-view-versus-a-copy\n",
      "  df_selected_restaurants.drop(columns='Alcohol',inplace=True)\n"
     ]
    }
   ],
   "source": [
    "#Dropping selected columns\n",
    "df_selected_restaurants.drop(columns='Alcohol',inplace=True)"
   ]
  },
  {
   "cell_type": "code",
   "execution_count": 66,
   "id": "92872cf9",
   "metadata": {},
   "outputs": [
    {
     "name": "stdout",
     "output_type": "stream",
     "text": [
      "We have 48 Columns left\n",
      "The columns we have left are: \n",
      " Index(['RestaurantsAttire', 'Ambience_romantic', 'Ambience_intimate',\n",
      "       'Ambience_classy', 'Ambience_hipster', 'Ambience_divey',\n",
      "       'Ambience_touristy', 'Ambience_trendy', 'Ambience_upscale',\n",
      "       'Ambience_casual', 'RestaurantsGoodForGroups', 'Caters', 'WiFi',\n",
      "       'RestaurantsReservations', 'RestaurantsTakeOut', 'HappyHour',\n",
      "       'RestaurantsTableService', 'OutdoorSeating', 'RestaurantsDelivery',\n",
      "       'BestNights_monday', 'BestNights_tuesday', 'BestNights_friday',\n",
      "       'BestNights_wednesday', 'BestNights_thursday', 'BestNights_sunday',\n",
      "       'BestNights_saturday', 'GoodForMeal_dessert', 'GoodForMeal_latenight',\n",
      "       'GoodForMeal_lunch', 'GoodForMeal_dinner', 'GoodForMeal_breakfast',\n",
      "       'GoodForMeal_brunch', 'CoatCheck', 'DriveThru',\n",
      "       'BusinessAcceptsBitcoin', 'Open24Hours', 'BYOBCorkage', 'BYOB',\n",
      "       'Corkage', 'DietaryRestrictions_dairy-free',\n",
      "       'DietaryRestrictions_gluten-free', 'DietaryRestrictions_vegan',\n",
      "       'DietaryRestrictions_kosher', 'DietaryRestrictions_halal',\n",
      "       'DietaryRestrictions_soy-free', 'DietaryRestrictions_vegetarian',\n",
      "       'AgesAllowed', 'RestaurantsCounterService'],\n",
      "      dtype='object')\n"
     ]
    }
   ],
   "source": [
    "#Checking if it was dropped correctly\n",
    "drop_check(df_selected_restaurants)"
   ]
  },
  {
   "cell_type": "markdown",
   "id": "0e7254d6",
   "metadata": {},
   "source": [
    "The drop check shows that we've correctly dropped the column so we can proceed. "
   ]
  },
  {
   "cell_type": "markdown",
   "id": "b3ba1d04",
   "metadata": {},
   "source": [
    "#### `RestaurantsAttire` column"
   ]
  },
  {
   "cell_type": "code",
   "execution_count": 67,
   "id": "42b7cc3a",
   "metadata": {},
   "outputs": [
    {
     "name": "stdout",
     "output_type": "stream",
     "text": [
      "Na         0.998709\n",
      "average    0.000768\n",
      "quiet      0.000369\n",
      "loud       0.000154\n",
      "Name: RestaurantsAttire, dtype: float64\n"
     ]
    },
    {
     "data": {
      "image/png": "[encoded data removed]",
      "text/plain": [
       "<Figure size 640x480 with 1 Axes>"
      ]
     },
     "metadata": {},
     "output_type": "display_data"
    }
   ],
   "source": [
    "#Applying categoryEDA method on the column\n",
    "category_EDA('RestaurantsAttire',df_selected_restaurants)"
   ]
  },
  {
   "cell_type": "markdown",
   "id": "10278f74",
   "metadata": {},
   "source": [
    "More than 95% of the values in this column are Na so we'll drop this column. "
   ]
  },
  {
   "cell_type": "code",
   "execution_count": 68,
   "id": "e1cdf428",
   "metadata": {
    "scrolled": true
   },
   "outputs": [
    {
     "name": "stderr",
     "output_type": "stream",
     "text": [
      "/var/folders/wd/_ly9th917n5cfwyp82k_61wr0000gn/T/ipykernel_10978/58763720.py:2: SettingWithCopyWarning: \n",
      "A value is trying to be set on a copy of a slice from a DataFrame\n",
      "\n",
      "See the caveats in the documentation: https://pandas.pydata.org/pandas-docs/stable/user_guide/indexing.html#returning-a-view-versus-a-copy\n",
      "  df_selected_restaurants.drop(columns='RestaurantsAttire',inplace=True)\n"
     ]
    }
   ],
   "source": [
    "#Dropping selected columns\n",
    "df_selected_restaurants.drop(columns='RestaurantsAttire',inplace=True)"
   ]
  },
  {
   "cell_type": "code",
   "execution_count": 69,
   "id": "6a1954ab",
   "metadata": {},
   "outputs": [
    {
     "name": "stdout",
     "output_type": "stream",
     "text": [
      "We have 47 Columns left\n",
      "The columns we have left are: \n",
      " Index(['Ambience_romantic', 'Ambience_intimate', 'Ambience_classy',\n",
      "       'Ambience_hipster', 'Ambience_divey', 'Ambience_touristy',\n",
      "       'Ambience_trendy', 'Ambience_upscale', 'Ambience_casual',\n",
      "       'RestaurantsGoodForGroups', 'Caters', 'WiFi', 'RestaurantsReservations',\n",
      "       'RestaurantsTakeOut', 'HappyHour', 'RestaurantsTableService',\n",
      "       'OutdoorSeating', 'RestaurantsDelivery', 'BestNights_monday',\n",
      "       'BestNights_tuesday', 'BestNights_friday', 'BestNights_wednesday',\n",
      "       'BestNights_thursday', 'BestNights_sunday', 'BestNights_saturday',\n",
      "       'GoodForMeal_dessert', 'GoodForMeal_latenight', 'GoodForMeal_lunch',\n",
      "       'GoodForMeal_dinner', 'GoodForMeal_breakfast', 'GoodForMeal_brunch',\n",
      "       'CoatCheck', 'DriveThru', 'BusinessAcceptsBitcoin', 'Open24Hours',\n",
      "       'BYOBCorkage', 'BYOB', 'Corkage', 'DietaryRestrictions_dairy-free',\n",
      "       'DietaryRestrictions_gluten-free', 'DietaryRestrictions_vegan',\n",
      "       'DietaryRestrictions_kosher', 'DietaryRestrictions_halal',\n",
      "       'DietaryRestrictions_soy-free', 'DietaryRestrictions_vegetarian',\n",
      "       'AgesAllowed', 'RestaurantsCounterService'],\n",
      "      dtype='object')\n"
     ]
    }
   ],
   "source": [
    "#Checking if it was dropped correctly\n",
    "drop_check(df_selected_restaurants)"
   ]
  },
  {
   "cell_type": "markdown",
   "id": "e05b3ae1",
   "metadata": {},
   "source": [
    "#### `Ambience` Columns"
   ]
  },
  {
   "cell_type": "code",
   "execution_count": 70,
   "id": "a4c36df8",
   "metadata": {},
   "outputs": [
    {
     "name": "stdout",
     "output_type": "stream",
     "text": [
      "Na       0.999846\n",
      "False    0.000154\n",
      "Name: Ambience_romantic, dtype: float64\n"
     ]
    },
    {
     "data": {
      "image/png": "[encoded data removed]",
      "text/plain": [
       "<Figure size 640x480 with 1 Axes>"
      ]
     },
     "metadata": {},
     "output_type": "display_data"
    }
   ],
   "source": [
    "#Applying categoryEDA method on the column\n",
    "category_EDA('Ambience_romantic',df_selected_restaurants)"
   ]
  },
  {
   "cell_type": "markdown",
   "id": "47105706",
   "metadata": {},
   "source": [
    "More than 95% of the values in this column are Na so we'll drop this column. "
   ]
  },
  {
   "cell_type": "code",
   "execution_count": 71,
   "id": "98a65320",
   "metadata": {},
   "outputs": [
    {
     "name": "stdout",
     "output_type": "stream",
     "text": [
      "Na       0.99917\n",
      "False    0.00083\n",
      "Name: Ambience_intimate, dtype: float64\n"
     ]
    },
    {
     "data": {
      "image/png": "[encoded data removed]",
      "text/plain": [
       "<Figure size 640x480 with 1 Axes>"
      ]
     },
     "metadata": {},
     "output_type": "display_data"
    }
   ],
   "source": [
    "#Applying categoryEDA method on the column\n",
    "category_EDA('Ambience_intimate',df_selected_restaurants)"
   ]
  },
  {
   "cell_type": "markdown",
   "id": "b9de2e02",
   "metadata": {},
   "source": [
    "More than 95% of the values in this column are Na so we'll drop this column. "
   ]
  },
  {
   "cell_type": "code",
   "execution_count": 72,
   "id": "9c15634e",
   "metadata": {},
   "outputs": [
    {
     "name": "stdout",
     "output_type": "stream",
     "text": [
      "Na       0.99917\n",
      "False    0.00083\n",
      "Name: Ambience_classy, dtype: float64\n"
     ]
    },
    {
     "data": {
      "image/png": "[encoded data removed]",
      "text/plain": [
       "<Figure size 640x480 with 1 Axes>"
      ]
     },
     "metadata": {},
     "output_type": "display_data"
    }
   ],
   "source": [
    "#Applying categoryEDA method on the column\n",
    "category_EDA('Ambience_classy',df_selected_restaurants)"
   ]
  },
  {
   "cell_type": "markdown",
   "id": "7b6fa892",
   "metadata": {},
   "source": [
    "More than 95% of the values in this column are Na so we'll drop this column. "
   ]
  },
  {
   "cell_type": "code",
   "execution_count": 73,
   "id": "7617a101",
   "metadata": {},
   "outputs": [
    {
     "name": "stdout",
     "output_type": "stream",
     "text": [
      "Na       0.99917\n",
      "False    0.00083\n",
      "Name: Ambience_hipster, dtype: float64\n"
     ]
    },
    {
     "data": {
      "image/png": "[encoded data removed]",
      "text/plain": [
       "<Figure size 640x480 with 1 Axes>"
      ]
     },
     "metadata": {},
     "output_type": "display_data"
    }
   ],
   "source": [
    "#Applying categoryEDA method on the column\n",
    "category_EDA('Ambience_hipster',df_selected_restaurants)"
   ]
  },
  {
   "cell_type": "markdown",
   "id": "4a443368",
   "metadata": {},
   "source": [
    "More than 95% of the values in this column are Na so we'll drop this column. "
   ]
  },
  {
   "cell_type": "code",
   "execution_count": 74,
   "id": "4e0c5f6d",
   "metadata": {},
   "outputs": [
    {
     "name": "stdout",
     "output_type": "stream",
     "text": [
      "Na       0.99917\n",
      "False    0.00083\n",
      "Name: Ambience_divey, dtype: float64\n"
     ]
    },
    {
     "data": {
      "image/png": "[encoded data removed]",
      "text/plain": [
       "<Figure size 640x480 with 1 Axes>"
      ]
     },
     "metadata": {},
     "output_type": "display_data"
    }
   ],
   "source": [
    "#Applying categoryEDA method on the column\n",
    "category_EDA('Ambience_divey',df_selected_restaurants)"
   ]
  },
  {
   "cell_type": "markdown",
   "id": "34007101",
   "metadata": {},
   "source": [
    "More than 95% of the values in this column are Na so we'll drop this column. "
   ]
  },
  {
   "cell_type": "code",
   "execution_count": 75,
   "id": "864046c0",
   "metadata": {},
   "outputs": [
    {
     "name": "stdout",
     "output_type": "stream",
     "text": [
      "Na       0.999939\n",
      "False    0.000061\n",
      "Name: Ambience_touristy, dtype: float64\n"
     ]
    },
    {
     "data": {
      "image/png": "[encoded data removed]",
      "text/plain": [
       "<Figure size 640x480 with 1 Axes>"
      ]
     },
     "metadata": {},
     "output_type": "display_data"
    }
   ],
   "source": [
    "#Applying categoryEDA method on the column\n",
    "category_EDA('Ambience_touristy',df_selected_restaurants)"
   ]
  },
  {
   "cell_type": "markdown",
   "id": "6f3ce464",
   "metadata": {},
   "source": [
    "More than 95% of the values in this column are Na so we'll drop this column. "
   ]
  },
  {
   "cell_type": "code",
   "execution_count": 76,
   "id": "4d36cba1",
   "metadata": {},
   "outputs": [
    {
     "name": "stdout",
     "output_type": "stream",
     "text": [
      "Na       0.99917\n",
      "False    0.00083\n",
      "Name: Ambience_trendy, dtype: float64\n"
     ]
    },
    {
     "data": {
      "image/png": "[encoded data removed]",
      "text/plain": [
       "<Figure size 640x480 with 1 Axes>"
      ]
     },
     "metadata": {},
     "output_type": "display_data"
    }
   ],
   "source": [
    "#Applying categoryEDA method on the column\n",
    "category_EDA('Ambience_trendy',df_selected_restaurants)"
   ]
  },
  {
   "cell_type": "code",
   "execution_count": 77,
   "id": "5d6b31c1",
   "metadata": {
    "scrolled": true
   },
   "outputs": [
    {
     "name": "stdout",
     "output_type": "stream",
     "text": [
      "Na       0.99917\n",
      "False    0.00083\n",
      "Name: Ambience_upscale, dtype: float64\n"
     ]
    },
    {
     "data": {
      "image/png": "[encoded data removed]",
      "text/plain": [
       "<Figure size 640x480 with 1 Axes>"
      ]
     },
     "metadata": {},
     "output_type": "display_data"
    }
   ],
   "source": [
    "#Applying categoryEDA method on the column\n",
    "category_EDA('Ambience_upscale',df_selected_restaurants)"
   ]
  },
  {
   "cell_type": "markdown",
   "id": "aefd66bf",
   "metadata": {},
   "source": [
    "More than 95% of the values in this column are Na so we'll drop this column. "
   ]
  },
  {
   "cell_type": "code",
   "execution_count": 78,
   "id": "24d5f3a0",
   "metadata": {
    "scrolled": true
   },
   "outputs": [
    {
     "name": "stdout",
     "output_type": "stream",
     "text": [
      "Na       0.99917\n",
      "False    0.00083\n",
      "Name: Ambience_casual, dtype: float64\n"
     ]
    },
    {
     "data": {
      "image/png": "[encoded data removed]",
      "text/plain": [
       "<Figure size 640x480 with 1 Axes>"
      ]
     },
     "metadata": {},
     "output_type": "display_data"
    }
   ],
   "source": [
    "#Applying categoryEDA method on the column\n",
    "category_EDA('Ambience_casual',df_selected_restaurants)"
   ]
  },
  {
   "cell_type": "markdown",
   "id": "abecdee2",
   "metadata": {},
   "source": [
    "More than 95% of the values in this column are Na so we'll drop this column. "
   ]
  },
  {
   "cell_type": "code",
   "execution_count": 79,
   "id": "e33d10e0",
   "metadata": {},
   "outputs": [
    {
     "name": "stderr",
     "output_type": "stream",
     "text": [
      "/var/folders/wd/_ly9th917n5cfwyp82k_61wr0000gn/T/ipykernel_10978/2429992404.py:2: SettingWithCopyWarning: \n",
      "A value is trying to be set on a copy of a slice from a DataFrame\n",
      "\n",
      "See the caveats in the documentation: https://pandas.pydata.org/pandas-docs/stable/user_guide/indexing.html#returning-a-view-versus-a-copy\n",
      "  df_selected_restaurants.drop(columns=['Ambience_romantic', 'Ambience_intimate', 'Ambience_classy',\n"
     ]
    }
   ],
   "source": [
    "#Dropping selected columns\n",
    "df_selected_restaurants.drop(columns=['Ambience_romantic', 'Ambience_intimate', 'Ambience_classy',\n",
    "       'Ambience_hipster', 'Ambience_divey', 'Ambience_touristy',\n",
    "       'Ambience_trendy', 'Ambience_upscale', 'Ambience_casual'], inplace=True)"
   ]
  },
  {
   "cell_type": "code",
   "execution_count": 80,
   "id": "7ee04b65",
   "metadata": {},
   "outputs": [
    {
     "name": "stdout",
     "output_type": "stream",
     "text": [
      "We have 38 Columns left\n",
      "The columns we have left are: \n",
      " Index(['RestaurantsGoodForGroups', 'Caters', 'WiFi', 'RestaurantsReservations',\n",
      "       'RestaurantsTakeOut', 'HappyHour', 'RestaurantsTableService',\n",
      "       'OutdoorSeating', 'RestaurantsDelivery', 'BestNights_monday',\n",
      "       'BestNights_tuesday', 'BestNights_friday', 'BestNights_wednesday',\n",
      "       'BestNights_thursday', 'BestNights_sunday', 'BestNights_saturday',\n",
      "       'GoodForMeal_dessert', 'GoodForMeal_latenight', 'GoodForMeal_lunch',\n",
      "       'GoodForMeal_dinner', 'GoodForMeal_breakfast', 'GoodForMeal_brunch',\n",
      "       'CoatCheck', 'DriveThru', 'BusinessAcceptsBitcoin', 'Open24Hours',\n",
      "       'BYOBCorkage', 'BYOB', 'Corkage', 'DietaryRestrictions_dairy-free',\n",
      "       'DietaryRestrictions_gluten-free', 'DietaryRestrictions_vegan',\n",
      "       'DietaryRestrictions_kosher', 'DietaryRestrictions_halal',\n",
      "       'DietaryRestrictions_soy-free', 'DietaryRestrictions_vegetarian',\n",
      "       'AgesAllowed', 'RestaurantsCounterService'],\n",
      "      dtype='object')\n"
     ]
    }
   ],
   "source": [
    "#Checking if it was dropped correctly\n",
    "drop_check(df_selected_restaurants)"
   ]
  },
  {
   "cell_type": "markdown",
   "id": "fb243523",
   "metadata": {},
   "source": [
    "The drop check shows that we've correctly dropped the column so we can proceed. "
   ]
  },
  {
   "cell_type": "markdown",
   "id": "b8299bd6",
   "metadata": {},
   "source": [
    "#### `RestaurantsGoodForGroups` column"
   ]
  },
  {
   "cell_type": "code",
   "execution_count": 81,
   "id": "eb2eb78a",
   "metadata": {
    "scrolled": true
   },
   "outputs": [
    {
     "name": "stdout",
     "output_type": "stream",
     "text": [
      "Na       0.99917\n",
      "False    0.00083\n",
      "Name: RestaurantsGoodForGroups, dtype: float64\n"
     ]
    },
    {
     "data": {
      "image/png": "[encoded data removed]",
      "text/plain": [
       "<Figure size 640x480 with 1 Axes>"
      ]
     },
     "metadata": {},
     "output_type": "display_data"
    }
   ],
   "source": [
    "#Applying categoryEDA method on the column\n",
    "category_EDA('RestaurantsGoodForGroups',df_selected_restaurants)"
   ]
  },
  {
   "cell_type": "markdown",
   "id": "1d4ef01c",
   "metadata": {},
   "source": [
    "More than 95% of the values in this column are Na so we'll drop this column. "
   ]
  },
  {
   "cell_type": "code",
   "execution_count": 82,
   "id": "9447c41d",
   "metadata": {},
   "outputs": [
    {
     "name": "stderr",
     "output_type": "stream",
     "text": [
      "/var/folders/wd/_ly9th917n5cfwyp82k_61wr0000gn/T/ipykernel_10978/2803196435.py:2: SettingWithCopyWarning: \n",
      "A value is trying to be set on a copy of a slice from a DataFrame\n",
      "\n",
      "See the caveats in the documentation: https://pandas.pydata.org/pandas-docs/stable/user_guide/indexing.html#returning-a-view-versus-a-copy\n",
      "  df_selected_restaurants.drop(columns='RestaurantsGoodForGroups',inplace=True)\n"
     ]
    }
   ],
   "source": [
    "#Dropping selected columns\n",
    "df_selected_restaurants.drop(columns='RestaurantsGoodForGroups',inplace=True)"
   ]
  },
  {
   "cell_type": "code",
   "execution_count": 83,
   "id": "f64ac3d8",
   "metadata": {},
   "outputs": [
    {
     "name": "stdout",
     "output_type": "stream",
     "text": [
      "We have 37 Columns left\n",
      "The columns we have left are: \n",
      " Index(['Caters', 'WiFi', 'RestaurantsReservations', 'RestaurantsTakeOut',\n",
      "       'HappyHour', 'RestaurantsTableService', 'OutdoorSeating',\n",
      "       'RestaurantsDelivery', 'BestNights_monday', 'BestNights_tuesday',\n",
      "       'BestNights_friday', 'BestNights_wednesday', 'BestNights_thursday',\n",
      "       'BestNights_sunday', 'BestNights_saturday', 'GoodForMeal_dessert',\n",
      "       'GoodForMeal_latenight', 'GoodForMeal_lunch', 'GoodForMeal_dinner',\n",
      "       'GoodForMeal_breakfast', 'GoodForMeal_brunch', 'CoatCheck', 'DriveThru',\n",
      "       'BusinessAcceptsBitcoin', 'Open24Hours', 'BYOBCorkage', 'BYOB',\n",
      "       'Corkage', 'DietaryRestrictions_dairy-free',\n",
      "       'DietaryRestrictions_gluten-free', 'DietaryRestrictions_vegan',\n",
      "       'DietaryRestrictions_kosher', 'DietaryRestrictions_halal',\n",
      "       'DietaryRestrictions_soy-free', 'DietaryRestrictions_vegetarian',\n",
      "       'AgesAllowed', 'RestaurantsCounterService'],\n",
      "      dtype='object')\n"
     ]
    }
   ],
   "source": [
    "#Checking if it was dropped correctly\n",
    "drop_check(df_selected_restaurants)"
   ]
  },
  {
   "cell_type": "markdown",
   "id": "cf4b55c1",
   "metadata": {},
   "source": [
    "#### `Caters` Column"
   ]
  },
  {
   "cell_type": "code",
   "execution_count": 84,
   "id": "b7d05c5b",
   "metadata": {},
   "outputs": [
    {
     "name": "stdout",
     "output_type": "stream",
     "text": [
      "Na       0.965092\n",
      "True     0.025873\n",
      "False    0.009034\n",
      "Name: Caters, dtype: float64\n"
     ]
    },
    {
     "data": {
      "image/png": "[encoded data removed]",
      "text/plain": [
       "<Figure size 640x480 with 1 Axes>"
      ]
     },
     "metadata": {},
     "output_type": "display_data"
    }
   ],
   "source": [
    "#Applying categoryEDA method on the column\n",
    "category_EDA('Caters',df_selected_restaurants)"
   ]
  },
  {
   "cell_type": "markdown",
   "id": "2fbe0f8f",
   "metadata": {},
   "source": [
    "More than 95% of the values in this column are Na so we'll drop this column. "
   ]
  },
  {
   "cell_type": "code",
   "execution_count": 85,
   "id": "29f4123c",
   "metadata": {},
   "outputs": [
    {
     "name": "stderr",
     "output_type": "stream",
     "text": [
      "/var/folders/wd/_ly9th917n5cfwyp82k_61wr0000gn/T/ipykernel_10978/639330854.py:2: SettingWithCopyWarning: \n",
      "A value is trying to be set on a copy of a slice from a DataFrame\n",
      "\n",
      "See the caveats in the documentation: https://pandas.pydata.org/pandas-docs/stable/user_guide/indexing.html#returning-a-view-versus-a-copy\n",
      "  df_selected_restaurants.drop(columns='Caters',inplace=True)\n"
     ]
    }
   ],
   "source": [
    "#Dropping selected columns\n",
    "df_selected_restaurants.drop(columns='Caters',inplace=True)"
   ]
  },
  {
   "cell_type": "code",
   "execution_count": 86,
   "id": "92b18811",
   "metadata": {},
   "outputs": [
    {
     "name": "stdout",
     "output_type": "stream",
     "text": [
      "We have 36 Columns left\n",
      "The columns we have left are: \n",
      " Index(['WiFi', 'RestaurantsReservations', 'RestaurantsTakeOut', 'HappyHour',\n",
      "       'RestaurantsTableService', 'OutdoorSeating', 'RestaurantsDelivery',\n",
      "       'BestNights_monday', 'BestNights_tuesday', 'BestNights_friday',\n",
      "       'BestNights_wednesday', 'BestNights_thursday', 'BestNights_sunday',\n",
      "       'BestNights_saturday', 'GoodForMeal_dessert', 'GoodForMeal_latenight',\n",
      "       'GoodForMeal_lunch', 'GoodForMeal_dinner', 'GoodForMeal_breakfast',\n",
      "       'GoodForMeal_brunch', 'CoatCheck', 'DriveThru',\n",
      "       'BusinessAcceptsBitcoin', 'Open24Hours', 'BYOBCorkage', 'BYOB',\n",
      "       'Corkage', 'DietaryRestrictions_dairy-free',\n",
      "       'DietaryRestrictions_gluten-free', 'DietaryRestrictions_vegan',\n",
      "       'DietaryRestrictions_kosher', 'DietaryRestrictions_halal',\n",
      "       'DietaryRestrictions_soy-free', 'DietaryRestrictions_vegetarian',\n",
      "       'AgesAllowed', 'RestaurantsCounterService'],\n",
      "      dtype='object')\n"
     ]
    }
   ],
   "source": [
    "#Checking if it was dropped correctly\n",
    "drop_check(df_selected_restaurants)"
   ]
  },
  {
   "cell_type": "markdown",
   "id": "391d3f61",
   "metadata": {},
   "source": [
    "The drop check shows that we've correctly dropped the column so we can proceed. "
   ]
  },
  {
   "cell_type": "markdown",
   "id": "998793b6",
   "metadata": {},
   "source": [
    "#### `Wifi` Column"
   ]
  },
  {
   "cell_type": "code",
   "execution_count": 87,
   "id": "884bf555",
   "metadata": {},
   "outputs": [
    {
     "name": "stdout",
     "output_type": "stream",
     "text": [
      "Na       0.998310\n",
      "True     0.001168\n",
      "False    0.000522\n",
      "Name: WiFi, dtype: float64\n"
     ]
    },
    {
     "data": {
      "image/png": "[encoded data removed]",
      "text/plain": [
       "<Figure size 640x480 with 1 Axes>"
      ]
     },
     "metadata": {},
     "output_type": "display_data"
    }
   ],
   "source": [
    "#Applying categoryEDA method on the column\n",
    "category_EDA('WiFi',df_selected_restaurants)"
   ]
  },
  {
   "cell_type": "markdown",
   "id": "88f772f6",
   "metadata": {},
   "source": [
    "More than 95% of the values in this column are Na so we'll drop this column. "
   ]
  },
  {
   "cell_type": "code",
   "execution_count": 88,
   "id": "f9db8b2c",
   "metadata": {},
   "outputs": [
    {
     "name": "stderr",
     "output_type": "stream",
     "text": [
      "/var/folders/wd/_ly9th917n5cfwyp82k_61wr0000gn/T/ipykernel_10978/304230014.py:2: SettingWithCopyWarning: \n",
      "A value is trying to be set on a copy of a slice from a DataFrame\n",
      "\n",
      "See the caveats in the documentation: https://pandas.pydata.org/pandas-docs/stable/user_guide/indexing.html#returning-a-view-versus-a-copy\n",
      "  df_selected_restaurants.drop(columns='WiFi',inplace=True)\n"
     ]
    }
   ],
   "source": [
    "#Dropping selected columns\n",
    "df_selected_restaurants.drop(columns='WiFi',inplace=True)"
   ]
  },
  {
   "cell_type": "code",
   "execution_count": 89,
   "id": "d5af0e4f",
   "metadata": {},
   "outputs": [
    {
     "name": "stdout",
     "output_type": "stream",
     "text": [
      "We have 35 Columns left\n",
      "The columns we have left are: \n",
      " Index(['RestaurantsReservations', 'RestaurantsTakeOut', 'HappyHour',\n",
      "       'RestaurantsTableService', 'OutdoorSeating', 'RestaurantsDelivery',\n",
      "       'BestNights_monday', 'BestNights_tuesday', 'BestNights_friday',\n",
      "       'BestNights_wednesday', 'BestNights_thursday', 'BestNights_sunday',\n",
      "       'BestNights_saturday', 'GoodForMeal_dessert', 'GoodForMeal_latenight',\n",
      "       'GoodForMeal_lunch', 'GoodForMeal_dinner', 'GoodForMeal_breakfast',\n",
      "       'GoodForMeal_brunch', 'CoatCheck', 'DriveThru',\n",
      "       'BusinessAcceptsBitcoin', 'Open24Hours', 'BYOBCorkage', 'BYOB',\n",
      "       'Corkage', 'DietaryRestrictions_dairy-free',\n",
      "       'DietaryRestrictions_gluten-free', 'DietaryRestrictions_vegan',\n",
      "       'DietaryRestrictions_kosher', 'DietaryRestrictions_halal',\n",
      "       'DietaryRestrictions_soy-free', 'DietaryRestrictions_vegetarian',\n",
      "       'AgesAllowed', 'RestaurantsCounterService'],\n",
      "      dtype='object')\n"
     ]
    }
   ],
   "source": [
    "#Checking if it was dropped correctly\n",
    "drop_check(df_selected_restaurants)"
   ]
  },
  {
   "cell_type": "markdown",
   "id": "6e17cae1",
   "metadata": {},
   "source": [
    "The drop check shows that we've correctly dropped the column so we can proceed. "
   ]
  },
  {
   "cell_type": "markdown",
   "id": "e6dff4be",
   "metadata": {},
   "source": [
    "#### `RestaurantsReservations` column"
   ]
  },
  {
   "cell_type": "code",
   "execution_count": 90,
   "id": "d49708c2",
   "metadata": {},
   "outputs": [
    {
     "name": "stdout",
     "output_type": "stream",
     "text": [
      "Na      0.997142\n",
      "no      0.001383\n",
      "free    0.001321\n",
      "paid    0.000154\n",
      "Name: RestaurantsReservations, dtype: float64\n"
     ]
    },
    {
     "data": {
      "image/png": "[encoded data removed]",
      "text/plain": [
       "<Figure size 640x480 with 1 Axes>"
      ]
     },
     "metadata": {},
     "output_type": "display_data"
    }
   ],
   "source": [
    "#Applying categoryEDA method on the column\n",
    "category_EDA('RestaurantsReservations',df_selected_restaurants)"
   ]
  },
  {
   "cell_type": "markdown",
   "id": "07d8a7d0",
   "metadata": {},
   "source": [
    "More than 95% of the values in this column are Na so we'll drop this column. "
   ]
  },
  {
   "cell_type": "code",
   "execution_count": 91,
   "id": "6c35bd0c",
   "metadata": {},
   "outputs": [
    {
     "name": "stderr",
     "output_type": "stream",
     "text": [
      "/var/folders/wd/_ly9th917n5cfwyp82k_61wr0000gn/T/ipykernel_10978/2755552141.py:2: SettingWithCopyWarning: \n",
      "A value is trying to be set on a copy of a slice from a DataFrame\n",
      "\n",
      "See the caveats in the documentation: https://pandas.pydata.org/pandas-docs/stable/user_guide/indexing.html#returning-a-view-versus-a-copy\n",
      "  df_selected_restaurants.drop(columns='RestaurantsReservations',inplace=True)\n"
     ]
    }
   ],
   "source": [
    "#Dropping selected columns\n",
    "df_selected_restaurants.drop(columns='RestaurantsReservations',inplace=True)"
   ]
  },
  {
   "cell_type": "code",
   "execution_count": 92,
   "id": "efd1340f",
   "metadata": {},
   "outputs": [
    {
     "name": "stdout",
     "output_type": "stream",
     "text": [
      "We have 34 Columns left\n",
      "The columns we have left are: \n",
      " Index(['RestaurantsTakeOut', 'HappyHour', 'RestaurantsTableService',\n",
      "       'OutdoorSeating', 'RestaurantsDelivery', 'BestNights_monday',\n",
      "       'BestNights_tuesday', 'BestNights_friday', 'BestNights_wednesday',\n",
      "       'BestNights_thursday', 'BestNights_sunday', 'BestNights_saturday',\n",
      "       'GoodForMeal_dessert', 'GoodForMeal_latenight', 'GoodForMeal_lunch',\n",
      "       'GoodForMeal_dinner', 'GoodForMeal_breakfast', 'GoodForMeal_brunch',\n",
      "       'CoatCheck', 'DriveThru', 'BusinessAcceptsBitcoin', 'Open24Hours',\n",
      "       'BYOBCorkage', 'BYOB', 'Corkage', 'DietaryRestrictions_dairy-free',\n",
      "       'DietaryRestrictions_gluten-free', 'DietaryRestrictions_vegan',\n",
      "       'DietaryRestrictions_kosher', 'DietaryRestrictions_halal',\n",
      "       'DietaryRestrictions_soy-free', 'DietaryRestrictions_vegetarian',\n",
      "       'AgesAllowed', 'RestaurantsCounterService'],\n",
      "      dtype='object')\n"
     ]
    }
   ],
   "source": [
    "#Checking if it was dropped correctly\n",
    "drop_check(df_selected_restaurants)"
   ]
  },
  {
   "cell_type": "markdown",
   "id": "4fbbaae2",
   "metadata": {},
   "source": [
    "The drop check shows that we've correctly dropped the column so we can proceed. "
   ]
  },
  {
   "cell_type": "markdown",
   "id": "e101f986",
   "metadata": {},
   "source": [
    "#### `RestaurantsTakeOut` column"
   ]
  },
  {
   "cell_type": "code",
   "execution_count": 93,
   "id": "326d44bc",
   "metadata": {},
   "outputs": [
    {
     "name": "stdout",
     "output_type": "stream",
     "text": [
      "Na       0.994776\n",
      "False    0.002981\n",
      "True     0.002243\n",
      "Name: RestaurantsTakeOut, dtype: float64\n"
     ]
    },
    {
     "data": {
      "image/png": "[encoded data removed]",
      "text/plain": [
       "<Figure size 640x480 with 1 Axes>"
      ]
     },
     "metadata": {},
     "output_type": "display_data"
    }
   ],
   "source": [
    "#Applying categoryEDA method on the column\n",
    "category_EDA('RestaurantsTakeOut',df_selected_restaurants)"
   ]
  },
  {
   "cell_type": "markdown",
   "id": "6ce679fc",
   "metadata": {},
   "source": [
    "More than 95% of the values in this column are Na so we'll drop this column. "
   ]
  },
  {
   "cell_type": "code",
   "execution_count": 94,
   "id": "39da270f",
   "metadata": {},
   "outputs": [
    {
     "name": "stderr",
     "output_type": "stream",
     "text": [
      "/var/folders/wd/_ly9th917n5cfwyp82k_61wr0000gn/T/ipykernel_10978/3349371815.py:2: SettingWithCopyWarning: \n",
      "A value is trying to be set on a copy of a slice from a DataFrame\n",
      "\n",
      "See the caveats in the documentation: https://pandas.pydata.org/pandas-docs/stable/user_guide/indexing.html#returning-a-view-versus-a-copy\n",
      "  df_selected_restaurants.drop(columns='RestaurantsTakeOut',inplace=True)\n"
     ]
    }
   ],
   "source": [
    "#Dropping selected columns\n",
    "df_selected_restaurants.drop(columns='RestaurantsTakeOut',inplace=True)"
   ]
  },
  {
   "cell_type": "code",
   "execution_count": 95,
   "id": "e0018996",
   "metadata": {},
   "outputs": [
    {
     "name": "stdout",
     "output_type": "stream",
     "text": [
      "We have 33 Columns left\n",
      "The columns we have left are: \n",
      " Index(['HappyHour', 'RestaurantsTableService', 'OutdoorSeating',\n",
      "       'RestaurantsDelivery', 'BestNights_monday', 'BestNights_tuesday',\n",
      "       'BestNights_friday', 'BestNights_wednesday', 'BestNights_thursday',\n",
      "       'BestNights_sunday', 'BestNights_saturday', 'GoodForMeal_dessert',\n",
      "       'GoodForMeal_latenight', 'GoodForMeal_lunch', 'GoodForMeal_dinner',\n",
      "       'GoodForMeal_breakfast', 'GoodForMeal_brunch', 'CoatCheck', 'DriveThru',\n",
      "       'BusinessAcceptsBitcoin', 'Open24Hours', 'BYOBCorkage', 'BYOB',\n",
      "       'Corkage', 'DietaryRestrictions_dairy-free',\n",
      "       'DietaryRestrictions_gluten-free', 'DietaryRestrictions_vegan',\n",
      "       'DietaryRestrictions_kosher', 'DietaryRestrictions_halal',\n",
      "       'DietaryRestrictions_soy-free', 'DietaryRestrictions_vegetarian',\n",
      "       'AgesAllowed', 'RestaurantsCounterService'],\n",
      "      dtype='object')\n"
     ]
    }
   ],
   "source": [
    "#Checking if it was dropped correctly\n",
    "drop_check(df_selected_restaurants)"
   ]
  },
  {
   "cell_type": "markdown",
   "id": "c11af0ae",
   "metadata": {},
   "source": [
    "The drop check shows that we've correctly dropped the column so we can proceed. "
   ]
  },
  {
   "cell_type": "markdown",
   "id": "7cc382b4",
   "metadata": {},
   "source": [
    "#### `HappyHour` column"
   ]
  },
  {
   "cell_type": "code",
   "execution_count": 96,
   "id": "c7b52601",
   "metadata": {},
   "outputs": [
    {
     "name": "stdout",
     "output_type": "stream",
     "text": [
      "Na       0.912024\n",
      "True     0.075869\n",
      "False    0.012107\n",
      "Name: HappyHour, dtype: float64\n"
     ]
    },
    {
     "data": {
      "image/png": "[encoded data removed]",
      "text/plain": [
       "<Figure size 640x480 with 1 Axes>"
      ]
     },
     "metadata": {},
     "output_type": "display_data"
    }
   ],
   "source": [
    "#Applying categoryEDA method on the column\n",
    "category_EDA('HappyHour',df_selected_restaurants)"
   ]
  },
  {
   "cell_type": "markdown",
   "id": "64544fcd",
   "metadata": {},
   "source": [
    "More than 90% of the values in this column are Na. From the perspective of a customer it isn't obvious if you should fill the NAs which strictly false or true. It's possible we could try to fill something like Bars differently than restaurants but happy hour isn't strictly a Bar special. With that being said theres still to much missing data to use this column."
   ]
  },
  {
   "cell_type": "code",
   "execution_count": 97,
   "id": "af555650",
   "metadata": {},
   "outputs": [
    {
     "name": "stderr",
     "output_type": "stream",
     "text": [
      "/var/folders/wd/_ly9th917n5cfwyp82k_61wr0000gn/T/ipykernel_10978/2638869074.py:2: SettingWithCopyWarning: \n",
      "A value is trying to be set on a copy of a slice from a DataFrame\n",
      "\n",
      "See the caveats in the documentation: https://pandas.pydata.org/pandas-docs/stable/user_guide/indexing.html#returning-a-view-versus-a-copy\n",
      "  df_selected_restaurants.drop(columns='HappyHour',inplace=True)\n"
     ]
    }
   ],
   "source": [
    "#Dropping selected columns\n",
    "df_selected_restaurants.drop(columns='HappyHour',inplace=True)"
   ]
  },
  {
   "cell_type": "code",
   "execution_count": 98,
   "id": "8cb48206",
   "metadata": {},
   "outputs": [
    {
     "name": "stdout",
     "output_type": "stream",
     "text": [
      "We have 32 Columns left\n",
      "The columns we have left are: \n",
      " Index(['RestaurantsTableService', 'OutdoorSeating', 'RestaurantsDelivery',\n",
      "       'BestNights_monday', 'BestNights_tuesday', 'BestNights_friday',\n",
      "       'BestNights_wednesday', 'BestNights_thursday', 'BestNights_sunday',\n",
      "       'BestNights_saturday', 'GoodForMeal_dessert', 'GoodForMeal_latenight',\n",
      "       'GoodForMeal_lunch', 'GoodForMeal_dinner', 'GoodForMeal_breakfast',\n",
      "       'GoodForMeal_brunch', 'CoatCheck', 'DriveThru',\n",
      "       'BusinessAcceptsBitcoin', 'Open24Hours', 'BYOBCorkage', 'BYOB',\n",
      "       'Corkage', 'DietaryRestrictions_dairy-free',\n",
      "       'DietaryRestrictions_gluten-free', 'DietaryRestrictions_vegan',\n",
      "       'DietaryRestrictions_kosher', 'DietaryRestrictions_halal',\n",
      "       'DietaryRestrictions_soy-free', 'DietaryRestrictions_vegetarian',\n",
      "       'AgesAllowed', 'RestaurantsCounterService'],\n",
      "      dtype='object')\n"
     ]
    }
   ],
   "source": [
    "#Checking if it was dropped correctly\n",
    "drop_check(df_selected_restaurants)"
   ]
  },
  {
   "cell_type": "markdown",
   "id": "726e0824",
   "metadata": {},
   "source": [
    "The drop check shows that we've correctly dropped the column so we can proceed. "
   ]
  },
  {
   "cell_type": "markdown",
   "id": "4685b50d",
   "metadata": {},
   "source": [
    "#### `RestaurantsTableService` column"
   ]
  },
  {
   "cell_type": "code",
   "execution_count": 99,
   "id": "4d7f90ab",
   "metadata": {},
   "outputs": [
    {
     "name": "stdout",
     "output_type": "stream",
     "text": [
      "Na       0.970685\n",
      "False    0.020066\n",
      "True     0.009249\n",
      "Name: RestaurantsTableService, dtype: float64\n"
     ]
    },
    {
     "data": {
      "image/png": "[encoded data removed]",
      "text/plain": [
       "<Figure size 640x480 with 1 Axes>"
      ]
     },
     "metadata": {},
     "output_type": "display_data"
    }
   ],
   "source": [
    "#Applying categoryEDA method on the column\n",
    "category_EDA('RestaurantsTableService',df_selected_restaurants)"
   ]
  },
  {
   "cell_type": "markdown",
   "id": "48e709a2",
   "metadata": {},
   "source": [
    "More than 95% of the values in this column are Na so we'll drop this column. "
   ]
  },
  {
   "cell_type": "code",
   "execution_count": 100,
   "id": "f2063a89",
   "metadata": {},
   "outputs": [
    {
     "name": "stderr",
     "output_type": "stream",
     "text": [
      "/var/folders/wd/_ly9th917n5cfwyp82k_61wr0000gn/T/ipykernel_10978/2610707562.py:2: SettingWithCopyWarning: \n",
      "A value is trying to be set on a copy of a slice from a DataFrame\n",
      "\n",
      "See the caveats in the documentation: https://pandas.pydata.org/pandas-docs/stable/user_guide/indexing.html#returning-a-view-versus-a-copy\n",
      "  df_selected_restaurants.drop(columns='RestaurantsTableService',inplace=True)\n"
     ]
    }
   ],
   "source": [
    "#Dropping selected columns\n",
    "df_selected_restaurants.drop(columns='RestaurantsTableService',inplace=True)"
   ]
  },
  {
   "cell_type": "code",
   "execution_count": 101,
   "id": "78a110d8",
   "metadata": {
    "scrolled": true
   },
   "outputs": [
    {
     "name": "stdout",
     "output_type": "stream",
     "text": [
      "We have 31 Columns left\n",
      "The columns we have left are: \n",
      " Index(['OutdoorSeating', 'RestaurantsDelivery', 'BestNights_monday',\n",
      "       'BestNights_tuesday', 'BestNights_friday', 'BestNights_wednesday',\n",
      "       'BestNights_thursday', 'BestNights_sunday', 'BestNights_saturday',\n",
      "       'GoodForMeal_dessert', 'GoodForMeal_latenight', 'GoodForMeal_lunch',\n",
      "       'GoodForMeal_dinner', 'GoodForMeal_breakfast', 'GoodForMeal_brunch',\n",
      "       'CoatCheck', 'DriveThru', 'BusinessAcceptsBitcoin', 'Open24Hours',\n",
      "       'BYOBCorkage', 'BYOB', 'Corkage', 'DietaryRestrictions_dairy-free',\n",
      "       'DietaryRestrictions_gluten-free', 'DietaryRestrictions_vegan',\n",
      "       'DietaryRestrictions_kosher', 'DietaryRestrictions_halal',\n",
      "       'DietaryRestrictions_soy-free', 'DietaryRestrictions_vegetarian',\n",
      "       'AgesAllowed', 'RestaurantsCounterService'],\n",
      "      dtype='object')\n"
     ]
    }
   ],
   "source": [
    "#Checking if it was dropped correctly\n",
    "drop_check(df_selected_restaurants)"
   ]
  },
  {
   "cell_type": "markdown",
   "id": "ca935a0c",
   "metadata": {},
   "source": [
    "The drop check shows that we've correctly dropped the column so we can proceed. "
   ]
  },
  {
   "cell_type": "markdown",
   "id": "650c91e2",
   "metadata": {},
   "source": [
    "#### `OutdoorSeating` column"
   ]
  },
  {
   "cell_type": "code",
   "execution_count": 102,
   "id": "bc2eeca0",
   "metadata": {},
   "outputs": [
    {
     "name": "stdout",
     "output_type": "stream",
     "text": [
      "Na       0.970009\n",
      "True     0.017638\n",
      "False    0.012353\n",
      "Name: OutdoorSeating, dtype: float64\n"
     ]
    },
    {
     "data": {
      "image/png": "[encoded data removed]",
      "text/plain": [
       "<Figure size 640x480 with 1 Axes>"
      ]
     },
     "metadata": {},
     "output_type": "display_data"
    }
   ],
   "source": [
    "#Applying categoryEDA method on the column\n",
    "category_EDA('OutdoorSeating',df_selected_restaurants)"
   ]
  },
  {
   "cell_type": "markdown",
   "id": "9220ec15",
   "metadata": {},
   "source": [
    "More than 95% of the values in this column are Na so we'll drop this column. "
   ]
  },
  {
   "cell_type": "code",
   "execution_count": 103,
   "id": "1befb860",
   "metadata": {},
   "outputs": [
    {
     "name": "stderr",
     "output_type": "stream",
     "text": [
      "/var/folders/wd/_ly9th917n5cfwyp82k_61wr0000gn/T/ipykernel_10978/2377589774.py:2: SettingWithCopyWarning: \n",
      "A value is trying to be set on a copy of a slice from a DataFrame\n",
      "\n",
      "See the caveats in the documentation: https://pandas.pydata.org/pandas-docs/stable/user_guide/indexing.html#returning-a-view-versus-a-copy\n",
      "  df_selected_restaurants.drop(columns='OutdoorSeating',inplace=True)\n"
     ]
    }
   ],
   "source": [
    "#Dropping selected columns\n",
    "df_selected_restaurants.drop(columns='OutdoorSeating',inplace=True)"
   ]
  },
  {
   "cell_type": "code",
   "execution_count": 104,
   "id": "291995aa",
   "metadata": {},
   "outputs": [
    {
     "name": "stdout",
     "output_type": "stream",
     "text": [
      "We have 30 Columns left\n",
      "The columns we have left are: \n",
      " Index(['RestaurantsDelivery', 'BestNights_monday', 'BestNights_tuesday',\n",
      "       'BestNights_friday', 'BestNights_wednesday', 'BestNights_thursday',\n",
      "       'BestNights_sunday', 'BestNights_saturday', 'GoodForMeal_dessert',\n",
      "       'GoodForMeal_latenight', 'GoodForMeal_lunch', 'GoodForMeal_dinner',\n",
      "       'GoodForMeal_breakfast', 'GoodForMeal_brunch', 'CoatCheck', 'DriveThru',\n",
      "       'BusinessAcceptsBitcoin', 'Open24Hours', 'BYOBCorkage', 'BYOB',\n",
      "       'Corkage', 'DietaryRestrictions_dairy-free',\n",
      "       'DietaryRestrictions_gluten-free', 'DietaryRestrictions_vegan',\n",
      "       'DietaryRestrictions_kosher', 'DietaryRestrictions_halal',\n",
      "       'DietaryRestrictions_soy-free', 'DietaryRestrictions_vegetarian',\n",
      "       'AgesAllowed', 'RestaurantsCounterService'],\n",
      "      dtype='object')\n"
     ]
    }
   ],
   "source": [
    "#Checking if it was dropped correctly\n",
    "drop_check(df_selected_restaurants)"
   ]
  },
  {
   "cell_type": "markdown",
   "id": "aa708e82",
   "metadata": {},
   "source": [
    "The drop check shows that we've correctly dropped the column so we can proceed. "
   ]
  },
  {
   "cell_type": "markdown",
   "id": "f223c1a1",
   "metadata": {},
   "source": [
    "#### `RestaurantsDelivery` column"
   ]
  },
  {
   "cell_type": "code",
   "execution_count": 105,
   "id": "954ea93e",
   "metadata": {},
   "outputs": [
    {
     "name": "stdout",
     "output_type": "stream",
     "text": [
      "Na       0.987862\n",
      "False    0.008389\n",
      "True     0.003749\n",
      "Name: RestaurantsDelivery, dtype: float64\n"
     ]
    },
    {
     "data": {
      "image/png": "[encoded data removed]",
      "text/plain": [
       "<Figure size 640x480 with 1 Axes>"
      ]
     },
     "metadata": {},
     "output_type": "display_data"
    }
   ],
   "source": [
    "#Applying categoryEDA method on the column\n",
    "category_EDA('RestaurantsDelivery',df_selected_restaurants)"
   ]
  },
  {
   "cell_type": "markdown",
   "id": "663b5b83",
   "metadata": {},
   "source": [
    "More than 95% of the values in this column are Na so we'll drop this column. "
   ]
  },
  {
   "cell_type": "code",
   "execution_count": 106,
   "id": "b7e229c9",
   "metadata": {},
   "outputs": [
    {
     "name": "stderr",
     "output_type": "stream",
     "text": [
      "/var/folders/wd/_ly9th917n5cfwyp82k_61wr0000gn/T/ipykernel_10978/3839646148.py:2: SettingWithCopyWarning: \n",
      "A value is trying to be set on a copy of a slice from a DataFrame\n",
      "\n",
      "See the caveats in the documentation: https://pandas.pydata.org/pandas-docs/stable/user_guide/indexing.html#returning-a-view-versus-a-copy\n",
      "  df_selected_restaurants.drop(columns='RestaurantsDelivery',inplace=True)\n"
     ]
    }
   ],
   "source": [
    "#Dropping selected columns\n",
    "df_selected_restaurants.drop(columns='RestaurantsDelivery',inplace=True)"
   ]
  },
  {
   "cell_type": "code",
   "execution_count": 107,
   "id": "c7594dd6",
   "metadata": {
    "scrolled": true
   },
   "outputs": [
    {
     "name": "stdout",
     "output_type": "stream",
     "text": [
      "We have 29 Columns left\n",
      "The columns we have left are: \n",
      " Index(['BestNights_monday', 'BestNights_tuesday', 'BestNights_friday',\n",
      "       'BestNights_wednesday', 'BestNights_thursday', 'BestNights_sunday',\n",
      "       'BestNights_saturday', 'GoodForMeal_dessert', 'GoodForMeal_latenight',\n",
      "       'GoodForMeal_lunch', 'GoodForMeal_dinner', 'GoodForMeal_breakfast',\n",
      "       'GoodForMeal_brunch', 'CoatCheck', 'DriveThru',\n",
      "       'BusinessAcceptsBitcoin', 'Open24Hours', 'BYOBCorkage', 'BYOB',\n",
      "       'Corkage', 'DietaryRestrictions_dairy-free',\n",
      "       'DietaryRestrictions_gluten-free', 'DietaryRestrictions_vegan',\n",
      "       'DietaryRestrictions_kosher', 'DietaryRestrictions_halal',\n",
      "       'DietaryRestrictions_soy-free', 'DietaryRestrictions_vegetarian',\n",
      "       'AgesAllowed', 'RestaurantsCounterService'],\n",
      "      dtype='object')\n"
     ]
    }
   ],
   "source": [
    "#Checking if it was dropped correctly\n",
    "drop_check(df_selected_restaurants)"
   ]
  },
  {
   "cell_type": "markdown",
   "id": "8eca0979",
   "metadata": {},
   "source": [
    "The drop check shows that we've correctly dropped the column so we can proceed. "
   ]
  },
  {
   "cell_type": "markdown",
   "id": "d55cb60e",
   "metadata": {},
   "source": [
    "#### `BestNights` Columns "
   ]
  },
  {
   "cell_type": "markdown",
   "id": "00f75cd0",
   "metadata": {},
   "source": [
    "We'll interpret these columns as if they are dummy variable columns. This means that a low true value for one of the columns is not necessarily bad, but we'll need to access them together."
   ]
  },
  {
   "cell_type": "code",
   "execution_count": 108,
   "id": "e9e6cd54",
   "metadata": {},
   "outputs": [
    {
     "name": "stdout",
     "output_type": "stream",
     "text": [
      "Na       0.967120\n",
      "False    0.021449\n",
      "True     0.011431\n",
      "Name: BestNights_monday, dtype: float64\n"
     ]
    },
    {
     "data": {
      "image/png": "[encoded data removed]",
      "text/plain": [
       "<Figure size 640x480 with 1 Axes>"
      ]
     },
     "metadata": {},
     "output_type": "display_data"
    }
   ],
   "source": [
    "#Applying categoryEDA method on the column\n",
    "category_EDA('BestNights_monday',df_selected_restaurants)"
   ]
  },
  {
   "cell_type": "code",
   "execution_count": 109,
   "id": "cce25df4",
   "metadata": {},
   "outputs": [
    {
     "name": "stdout",
     "output_type": "stream",
     "text": [
      "Na       0.999539\n",
      "False    0.000461\n",
      "Name: BestNights_tuesday, dtype: float64\n"
     ]
    },
    {
     "data": {
      "image/png": "[encoded data removed]",
      "text/plain": [
       "<Figure size 640x480 with 1 Axes>"
      ]
     },
     "metadata": {},
     "output_type": "display_data"
    }
   ],
   "source": [
    "#Applying categoryEDA method on the column\n",
    "category_EDA('BestNights_tuesday',df_selected_restaurants)"
   ]
  },
  {
   "cell_type": "code",
   "execution_count": 110,
   "id": "03981ba2",
   "metadata": {},
   "outputs": [
    {
     "name": "stdout",
     "output_type": "stream",
     "text": [
      "Na       0.999539\n",
      "False    0.000399\n",
      "True     0.000061\n",
      "Name: BestNights_friday, dtype: float64\n"
     ]
    },
    {
     "data": {
      "image/png": "[encoded data removed]",
      "text/plain": [
       "<Figure size 640x480 with 1 Axes>"
      ]
     },
     "metadata": {},
     "output_type": "display_data"
    }
   ],
   "source": [
    "#Applying categoryEDA method on the column\n",
    "category_EDA('BestNights_friday',df_selected_restaurants)"
   ]
  },
  {
   "cell_type": "code",
   "execution_count": 111,
   "id": "b3bf22a5",
   "metadata": {},
   "outputs": [
    {
     "name": "stdout",
     "output_type": "stream",
     "text": [
      "Na       0.999539\n",
      "True     0.000338\n",
      "False    0.000123\n",
      "Name: BestNights_wednesday, dtype: float64\n"
     ]
    },
    {
     "data": {
      "image/png": "[encoded data removed]",
      "text/plain": [
       "<Figure size 640x480 with 1 Axes>"
      ]
     },
     "metadata": {},
     "output_type": "display_data"
    }
   ],
   "source": [
    "#Applying categoryEDA method on the column\n",
    "category_EDA('BestNights_wednesday',df_selected_restaurants)"
   ]
  },
  {
   "cell_type": "code",
   "execution_count": 112,
   "id": "5cb85233",
   "metadata": {},
   "outputs": [
    {
     "name": "stdout",
     "output_type": "stream",
     "text": [
      "Na       0.999539\n",
      "False    0.000369\n",
      "True     0.000092\n",
      "Name: BestNights_thursday, dtype: float64\n"
     ]
    },
    {
     "data": {
      "image/png": "[encoded data removed]",
      "text/plain": [
       "<Figure size 640x480 with 1 Axes>"
      ]
     },
     "metadata": {},
     "output_type": "display_data"
    }
   ],
   "source": [
    "#Applying categoryEDA method on the column\n",
    "category_EDA('BestNights_thursday',df_selected_restaurants)"
   ]
  },
  {
   "cell_type": "code",
   "execution_count": 113,
   "id": "012b547a",
   "metadata": {},
   "outputs": [
    {
     "name": "stdout",
     "output_type": "stream",
     "text": [
      "Na       0.999539\n",
      "False    0.000307\n",
      "True     0.000154\n",
      "Name: BestNights_sunday, dtype: float64\n"
     ]
    },
    {
     "data": {
      "image/png": "[encoded data removed]",
      "text/plain": [
       "<Figure size 640x480 with 1 Axes>"
      ]
     },
     "metadata": {},
     "output_type": "display_data"
    }
   ],
   "source": [
    "#Applying categoryEDA method on the column\n",
    "category_EDA('BestNights_sunday',df_selected_restaurants)"
   ]
  },
  {
   "cell_type": "code",
   "execution_count": 114,
   "id": "a99fd719",
   "metadata": {},
   "outputs": [
    {
     "name": "stdout",
     "output_type": "stream",
     "text": [
      "Na       0.999539\n",
      "False    0.000430\n",
      "True     0.000031\n",
      "Name: BestNights_saturday, dtype: float64\n"
     ]
    },
    {
     "data": {
      "image/png": "[encoded data removed]",
      "text/plain": [
       "<Figure size 640x480 with 1 Axes>"
      ]
     },
     "metadata": {},
     "output_type": "display_data"
    }
   ],
   "source": [
    "#Applying categoryEDA method on the column\n",
    "category_EDA('BestNights_saturday',df_selected_restaurants)"
   ]
  },
  {
   "cell_type": "markdown",
   "id": "0c3e4ce3",
   "metadata": {},
   "source": [
    "One way to interpret these columns are that they were a dummy columns created. The issue is that even if we were to add all the true values from all the days and assign everything else as false, we'd still be well above 90% of NA values. This means that we'll have to drop all these columns. "
   ]
  },
  {
   "cell_type": "code",
   "execution_count": 115,
   "id": "366d7a9a",
   "metadata": {},
   "outputs": [
    {
     "name": "stderr",
     "output_type": "stream",
     "text": [
      "/var/folders/wd/_ly9th917n5cfwyp82k_61wr0000gn/T/ipykernel_10978/4200740656.py:2: SettingWithCopyWarning: \n",
      "A value is trying to be set on a copy of a slice from a DataFrame\n",
      "\n",
      "See the caveats in the documentation: https://pandas.pydata.org/pandas-docs/stable/user_guide/indexing.html#returning-a-view-versus-a-copy\n",
      "  df_selected_restaurants.drop(columns=['BestNights_monday', 'BestNights_tuesday', 'BestNights_friday',\n"
     ]
    }
   ],
   "source": [
    "#Dropping selected columns\n",
    "df_selected_restaurants.drop(columns=['BestNights_monday', 'BestNights_tuesday', 'BestNights_friday',\n",
    "       'BestNights_wednesday', 'BestNights_thursday', 'BestNights_sunday',\n",
    "       'BestNights_saturday'], inplace=True)"
   ]
  },
  {
   "cell_type": "code",
   "execution_count": 116,
   "id": "3a412fc0",
   "metadata": {},
   "outputs": [
    {
     "name": "stdout",
     "output_type": "stream",
     "text": [
      "We have 22 Columns left\n",
      "The columns we have left are: \n",
      " Index(['GoodForMeal_dessert', 'GoodForMeal_latenight', 'GoodForMeal_lunch',\n",
      "       'GoodForMeal_dinner', 'GoodForMeal_breakfast', 'GoodForMeal_brunch',\n",
      "       'CoatCheck', 'DriveThru', 'BusinessAcceptsBitcoin', 'Open24Hours',\n",
      "       'BYOBCorkage', 'BYOB', 'Corkage', 'DietaryRestrictions_dairy-free',\n",
      "       'DietaryRestrictions_gluten-free', 'DietaryRestrictions_vegan',\n",
      "       'DietaryRestrictions_kosher', 'DietaryRestrictions_halal',\n",
      "       'DietaryRestrictions_soy-free', 'DietaryRestrictions_vegetarian',\n",
      "       'AgesAllowed', 'RestaurantsCounterService'],\n",
      "      dtype='object')\n"
     ]
    }
   ],
   "source": [
    "#Checking if it was dropped correctly\n",
    "drop_check(df_selected_restaurants)"
   ]
  },
  {
   "cell_type": "markdown",
   "id": "9c9b435d",
   "metadata": {},
   "source": [
    "The drop check shows that we've correctly dropped the column so we can proceed. "
   ]
  },
  {
   "cell_type": "markdown",
   "id": "e2a14cc4",
   "metadata": {},
   "source": [
    "#### `GoodForMeal` columns"
   ]
  },
  {
   "cell_type": "markdown",
   "id": "2728a590",
   "metadata": {},
   "source": [
    "While previously we decided that for the BestNights we'd interpret it as dummy variables, this one is less obvious whether or not the values are mutually exclusive since something can be good as both a dessert and lunch. So we'll interpret them individually, and interpret as a group in the end."
   ]
  },
  {
   "cell_type": "code",
   "execution_count": 117,
   "id": "eeb70c91",
   "metadata": {},
   "outputs": [
    {
     "name": "stdout",
     "output_type": "stream",
     "text": [
      "Na       0.999539\n",
      "True     0.000307\n",
      "False    0.000154\n",
      "Name: GoodForMeal_dessert, dtype: float64\n"
     ]
    },
    {
     "data": {
      "image/png": "[encoded data removed]",
      "text/plain": [
       "<Figure size 640x480 with 1 Axes>"
      ]
     },
     "metadata": {},
     "output_type": "display_data"
    }
   ],
   "source": [
    "#Applying categoryEDA method on the column\n",
    "category_EDA('GoodForMeal_dessert',df_selected_restaurants)"
   ]
  },
  {
   "cell_type": "markdown",
   "id": "98ca93fe",
   "metadata": {},
   "source": [
    "More than 95% of the values in this column are Na so we'll drop this column. "
   ]
  },
  {
   "cell_type": "code",
   "execution_count": 118,
   "id": "bf2a1fc3",
   "metadata": {},
   "outputs": [
    {
     "name": "stdout",
     "output_type": "stream",
     "text": [
      "Na       0.983130\n",
      "False    0.014811\n",
      "True     0.002059\n",
      "Name: GoodForMeal_latenight, dtype: float64\n"
     ]
    },
    {
     "data": {
      "image/png": "[encoded data removed]",
      "text/plain": [
       "<Figure size 640x480 with 1 Axes>"
      ]
     },
     "metadata": {},
     "output_type": "display_data"
    }
   ],
   "source": [
    "#Applying categoryEDA method on the column\n",
    "category_EDA('GoodForMeal_latenight',df_selected_restaurants)"
   ]
  },
  {
   "cell_type": "markdown",
   "id": "4f0580df",
   "metadata": {},
   "source": [
    "More than 95% of the values in this column are Na so we'll drop this column. "
   ]
  },
  {
   "cell_type": "code",
   "execution_count": 119,
   "id": "0be4c35f",
   "metadata": {},
   "outputs": [
    {
     "name": "stdout",
     "output_type": "stream",
     "text": [
      "Na       0.983130\n",
      "False    0.015364\n",
      "True     0.001506\n",
      "Name: GoodForMeal_lunch, dtype: float64\n"
     ]
    },
    {
     "data": {
      "image/png": "[encoded data removed]",
      "text/plain": [
       "<Figure size 640x480 with 1 Axes>"
      ]
     },
     "metadata": {},
     "output_type": "display_data"
    }
   ],
   "source": [
    "#Applying categoryEDA method on the column\n",
    "category_EDA('GoodForMeal_lunch',df_selected_restaurants)"
   ]
  },
  {
   "cell_type": "markdown",
   "id": "7b7ccc37",
   "metadata": {},
   "source": [
    "More than 95% of the values in this column are Na so we'll drop this column. "
   ]
  },
  {
   "cell_type": "code",
   "execution_count": 120,
   "id": "cc88a175",
   "metadata": {},
   "outputs": [
    {
     "name": "stdout",
     "output_type": "stream",
     "text": [
      "Na       0.983130\n",
      "True     0.010079\n",
      "False    0.006791\n",
      "Name: GoodForMeal_dinner, dtype: float64\n"
     ]
    },
    {
     "data": {
      "image/png": "[encoded data removed]",
      "text/plain": [
       "<Figure size 640x480 with 1 Axes>"
      ]
     },
     "metadata": {},
     "output_type": "display_data"
    }
   ],
   "source": [
    "#Applying categoryEDA method on the column\n",
    "category_EDA('GoodForMeal_dinner',df_selected_restaurants)"
   ]
  },
  {
   "cell_type": "markdown",
   "id": "cfd5d3bf",
   "metadata": {},
   "source": [
    "More than 95% of the values in this column are Na so we'll drop this column. "
   ]
  },
  {
   "cell_type": "code",
   "execution_count": 121,
   "id": "9ca5f757",
   "metadata": {},
   "outputs": [
    {
     "name": "stdout",
     "output_type": "stream",
     "text": [
      "Na       0.983130\n",
      "True     0.009925\n",
      "False    0.006945\n",
      "Name: GoodForMeal_breakfast, dtype: float64\n"
     ]
    },
    {
     "data": {
      "image/png": "[encoded data removed]",
      "text/plain": [
       "<Figure size 640x480 with 1 Axes>"
      ]
     },
     "metadata": {},
     "output_type": "display_data"
    }
   ],
   "source": [
    "#Applying categoryEDA method on the column\n",
    "category_EDA('GoodForMeal_breakfast',df_selected_restaurants)"
   ]
  },
  {
   "cell_type": "markdown",
   "id": "9bf0699c",
   "metadata": {},
   "source": [
    "More than 95% of the values in this column are Na so we'll drop this column. "
   ]
  },
  {
   "cell_type": "code",
   "execution_count": 122,
   "id": "09f3e94d",
   "metadata": {},
   "outputs": [
    {
     "name": "stdout",
     "output_type": "stream",
     "text": [
      "Na       0.983130\n",
      "False    0.014504\n",
      "True     0.002366\n",
      "Name: GoodForMeal_brunch, dtype: float64\n"
     ]
    },
    {
     "data": {
      "image/png": "[encoded data removed]",
      "text/plain": [
       "<Figure size 640x480 with 1 Axes>"
      ]
     },
     "metadata": {},
     "output_type": "display_data"
    }
   ],
   "source": [
    "#Applying categoryEDA method on the column\n",
    "category_EDA('GoodForMeal_brunch',df_selected_restaurants)"
   ]
  },
  {
   "cell_type": "markdown",
   "id": "43eea793",
   "metadata": {},
   "source": [
    "More than 95% of the values in this column are Na so we'll drop this column. "
   ]
  },
  {
   "cell_type": "markdown",
   "id": "48c3d295",
   "metadata": {},
   "source": [
    "The issue is that if we were to add all the true values from all the days and assign everything else as false, we'd still be well above 90% of NA values. This means that we'll have to drop all these columns. "
   ]
  },
  {
   "cell_type": "code",
   "execution_count": 123,
   "id": "91c12b18",
   "metadata": {},
   "outputs": [
    {
     "name": "stderr",
     "output_type": "stream",
     "text": [
      "/var/folders/wd/_ly9th917n5cfwyp82k_61wr0000gn/T/ipykernel_10978/3931660631.py:2: SettingWithCopyWarning: \n",
      "A value is trying to be set on a copy of a slice from a DataFrame\n",
      "\n",
      "See the caveats in the documentation: https://pandas.pydata.org/pandas-docs/stable/user_guide/indexing.html#returning-a-view-versus-a-copy\n",
      "  df_selected_restaurants.drop(columns=['GoodForMeal_dessert', 'GoodForMeal_latenight', 'GoodForMeal_lunch',\n"
     ]
    }
   ],
   "source": [
    "#Dropping selected columns\n",
    "df_selected_restaurants.drop(columns=['GoodForMeal_dessert', 'GoodForMeal_latenight', 'GoodForMeal_lunch',\n",
    "       'GoodForMeal_dinner', 'GoodForMeal_breakfast', 'GoodForMeal_brunch'], inplace=True)"
   ]
  },
  {
   "cell_type": "code",
   "execution_count": 124,
   "id": "17b99e3b",
   "metadata": {},
   "outputs": [
    {
     "name": "stdout",
     "output_type": "stream",
     "text": [
      "We have 16 Columns left\n",
      "The columns we have left are: \n",
      " Index(['CoatCheck', 'DriveThru', 'BusinessAcceptsBitcoin', 'Open24Hours',\n",
      "       'BYOBCorkage', 'BYOB', 'Corkage', 'DietaryRestrictions_dairy-free',\n",
      "       'DietaryRestrictions_gluten-free', 'DietaryRestrictions_vegan',\n",
      "       'DietaryRestrictions_kosher', 'DietaryRestrictions_halal',\n",
      "       'DietaryRestrictions_soy-free', 'DietaryRestrictions_vegetarian',\n",
      "       'AgesAllowed', 'RestaurantsCounterService'],\n",
      "      dtype='object')\n"
     ]
    }
   ],
   "source": [
    "#Checking if it was dropped correctly\n",
    "drop_check(df_selected_restaurants)"
   ]
  },
  {
   "cell_type": "markdown",
   "id": "163be164",
   "metadata": {},
   "source": [
    "The drop check shows that we've correctly dropped the column so we can proceed. "
   ]
  },
  {
   "cell_type": "markdown",
   "id": "4148152d",
   "metadata": {},
   "source": [
    "#### `CoatCheck` column"
   ]
  },
  {
   "cell_type": "code",
   "execution_count": 125,
   "id": "4cf46afd",
   "metadata": {
    "scrolled": true
   },
   "outputs": [
    {
     "name": "stdout",
     "output_type": "stream",
     "text": [
      "Na       0.983130\n",
      "False    0.014227\n",
      "True     0.002643\n",
      "Name: CoatCheck, dtype: float64\n"
     ]
    },
    {
     "data": {
      "image/png": "[encoded data removed]",
      "text/plain": [
       "<Figure size 640x480 with 1 Axes>"
      ]
     },
     "metadata": {},
     "output_type": "display_data"
    }
   ],
   "source": [
    "#Applying categoryEDA method on the column\n",
    "category_EDA('CoatCheck',df_selected_restaurants)"
   ]
  },
  {
   "cell_type": "markdown",
   "id": "4ea98746",
   "metadata": {},
   "source": [
    "More than 95% of the values in this column are Na so we'll drop this column. "
   ]
  },
  {
   "cell_type": "code",
   "execution_count": 126,
   "id": "d7a4c2f5",
   "metadata": {},
   "outputs": [
    {
     "name": "stderr",
     "output_type": "stream",
     "text": [
      "/var/folders/wd/_ly9th917n5cfwyp82k_61wr0000gn/T/ipykernel_10978/46810107.py:2: SettingWithCopyWarning: \n",
      "A value is trying to be set on a copy of a slice from a DataFrame\n",
      "\n",
      "See the caveats in the documentation: https://pandas.pydata.org/pandas-docs/stable/user_guide/indexing.html#returning-a-view-versus-a-copy\n",
      "  df_selected_restaurants.drop(columns='CoatCheck',inplace=True)\n"
     ]
    }
   ],
   "source": [
    "#Dropping selected columns\n",
    "df_selected_restaurants.drop(columns='CoatCheck',inplace=True)"
   ]
  },
  {
   "cell_type": "code",
   "execution_count": 127,
   "id": "9f760e0c",
   "metadata": {},
   "outputs": [
    {
     "name": "stdout",
     "output_type": "stream",
     "text": [
      "We have 15 Columns left\n",
      "The columns we have left are: \n",
      " Index(['DriveThru', 'BusinessAcceptsBitcoin', 'Open24Hours', 'BYOBCorkage',\n",
      "       'BYOB', 'Corkage', 'DietaryRestrictions_dairy-free',\n",
      "       'DietaryRestrictions_gluten-free', 'DietaryRestrictions_vegan',\n",
      "       'DietaryRestrictions_kosher', 'DietaryRestrictions_halal',\n",
      "       'DietaryRestrictions_soy-free', 'DietaryRestrictions_vegetarian',\n",
      "       'AgesAllowed', 'RestaurantsCounterService'],\n",
      "      dtype='object')\n"
     ]
    }
   ],
   "source": [
    "#Checking if it was dropped correctly\n",
    "drop_check(df_selected_restaurants)"
   ]
  },
  {
   "cell_type": "markdown",
   "id": "8447ab71",
   "metadata": {},
   "source": [
    "The drop check shows that we've correctly dropped the column so we can proceed. "
   ]
  },
  {
   "cell_type": "markdown",
   "id": "116a5e58",
   "metadata": {},
   "source": [
    "#### `DriveThru` column"
   ]
  },
  {
   "cell_type": "code",
   "execution_count": 128,
   "id": "155b0e0b",
   "metadata": {},
   "outputs": [
    {
     "name": "stdout",
     "output_type": "stream",
     "text": [
      "Na         0.987862\n",
      "no         0.006207\n",
      "outdoor    0.003288\n",
      "yes        0.002643\n",
      "Name: DriveThru, dtype: float64\n"
     ]
    },
    {
     "data": {
      "image/png": "[encoded data removed]",
      "text/plain": [
       "<Figure size 640x480 with 1 Axes>"
      ]
     },
     "metadata": {},
     "output_type": "display_data"
    }
   ],
   "source": [
    "#Applying categoryEDA method on the column\n",
    "category_EDA('DriveThru',df_selected_restaurants)"
   ]
  },
  {
   "cell_type": "code",
   "execution_count": 129,
   "id": "499fb28a",
   "metadata": {},
   "outputs": [
    {
     "name": "stderr",
     "output_type": "stream",
     "text": [
      "/var/folders/wd/_ly9th917n5cfwyp82k_61wr0000gn/T/ipykernel_10978/1953328663.py:2: SettingWithCopyWarning: \n",
      "A value is trying to be set on a copy of a slice from a DataFrame\n",
      "\n",
      "See the caveats in the documentation: https://pandas.pydata.org/pandas-docs/stable/user_guide/indexing.html#returning-a-view-versus-a-copy\n",
      "  df_selected_restaurants.drop(columns='DriveThru',inplace=True)\n"
     ]
    }
   ],
   "source": [
    "#Dropping selected columns\n",
    "df_selected_restaurants.drop(columns='DriveThru',inplace=True)"
   ]
  },
  {
   "cell_type": "code",
   "execution_count": 130,
   "id": "fdabc214",
   "metadata": {},
   "outputs": [
    {
     "name": "stdout",
     "output_type": "stream",
     "text": [
      "We have 14 Columns left\n",
      "The columns we have left are: \n",
      " Index(['BusinessAcceptsBitcoin', 'Open24Hours', 'BYOBCorkage', 'BYOB',\n",
      "       'Corkage', 'DietaryRestrictions_dairy-free',\n",
      "       'DietaryRestrictions_gluten-free', 'DietaryRestrictions_vegan',\n",
      "       'DietaryRestrictions_kosher', 'DietaryRestrictions_halal',\n",
      "       'DietaryRestrictions_soy-free', 'DietaryRestrictions_vegetarian',\n",
      "       'AgesAllowed', 'RestaurantsCounterService'],\n",
      "      dtype='object')\n"
     ]
    }
   ],
   "source": [
    "#Checking if it was dropped correctly\n",
    "drop_check(df_selected_restaurants)"
   ]
  },
  {
   "cell_type": "markdown",
   "id": "14fd4a44",
   "metadata": {},
   "source": [
    "The drop check shows that we've correctly dropped the column so we can proceed. "
   ]
  },
  {
   "cell_type": "markdown",
   "id": "1478032c",
   "metadata": {},
   "source": [
    "#### `BusinessAcceptsBitcoin`"
   ]
  },
  {
   "cell_type": "code",
   "execution_count": 131,
   "id": "76b50c06",
   "metadata": {},
   "outputs": [
    {
     "name": "stdout",
     "output_type": "stream",
     "text": [
      "Na       0.999723\n",
      "False    0.000246\n",
      "True     0.000031\n",
      "Name: BusinessAcceptsBitcoin, dtype: float64\n"
     ]
    },
    {
     "data": {
      "image/png": "[encoded data removed]",
      "text/plain": [
       "<Figure size 640x480 with 1 Axes>"
      ]
     },
     "metadata": {},
     "output_type": "display_data"
    }
   ],
   "source": [
    "#Applying categoryEDA method on the column\n",
    "category_EDA('BusinessAcceptsBitcoin',df_selected_restaurants)"
   ]
  },
  {
   "cell_type": "markdown",
   "id": "d3f5bf85",
   "metadata": {},
   "source": [
    "More than 95% of the values in this column are Na so we'll drop this column. "
   ]
  },
  {
   "cell_type": "code",
   "execution_count": 132,
   "id": "1b26a191",
   "metadata": {},
   "outputs": [
    {
     "name": "stderr",
     "output_type": "stream",
     "text": [
      "/var/folders/wd/_ly9th917n5cfwyp82k_61wr0000gn/T/ipykernel_10978/84342547.py:2: SettingWithCopyWarning: \n",
      "A value is trying to be set on a copy of a slice from a DataFrame\n",
      "\n",
      "See the caveats in the documentation: https://pandas.pydata.org/pandas-docs/stable/user_guide/indexing.html#returning-a-view-versus-a-copy\n",
      "  df_selected_restaurants.drop(columns='BusinessAcceptsBitcoin',inplace=True)\n"
     ]
    }
   ],
   "source": [
    "#Dropping selected columns\n",
    "df_selected_restaurants.drop(columns='BusinessAcceptsBitcoin',inplace=True)"
   ]
  },
  {
   "cell_type": "code",
   "execution_count": 133,
   "id": "d052644c",
   "metadata": {},
   "outputs": [
    {
     "name": "stdout",
     "output_type": "stream",
     "text": [
      "We have 13 Columns left\n",
      "The columns we have left are: \n",
      " Index(['Open24Hours', 'BYOBCorkage', 'BYOB', 'Corkage',\n",
      "       'DietaryRestrictions_dairy-free', 'DietaryRestrictions_gluten-free',\n",
      "       'DietaryRestrictions_vegan', 'DietaryRestrictions_kosher',\n",
      "       'DietaryRestrictions_halal', 'DietaryRestrictions_soy-free',\n",
      "       'DietaryRestrictions_vegetarian', 'AgesAllowed',\n",
      "       'RestaurantsCounterService'],\n",
      "      dtype='object')\n"
     ]
    }
   ],
   "source": [
    "#Checking if it was dropped correctly\n",
    "drop_check(df_selected_restaurants)"
   ]
  },
  {
   "cell_type": "markdown",
   "id": "0bb80fc2",
   "metadata": {},
   "source": [
    "The drop check shows that we've correctly dropped the column so we can proceed. "
   ]
  },
  {
   "cell_type": "markdown",
   "id": "fa92fe55",
   "metadata": {},
   "source": [
    "#### `Open24Hours` Column "
   ]
  },
  {
   "cell_type": "code",
   "execution_count": 134,
   "id": "510b1a41",
   "metadata": {},
   "outputs": [
    {
     "name": "stdout",
     "output_type": "stream",
     "text": [
      "Na       0.999723\n",
      "False    0.000277\n",
      "Name: Open24Hours, dtype: float64\n"
     ]
    },
    {
     "data": {
      "image/png": "[encoded data removed]",
      "text/plain": [
       "<Figure size 640x480 with 1 Axes>"
      ]
     },
     "metadata": {},
     "output_type": "display_data"
    }
   ],
   "source": [
    "#Applying categoryEDA method on the column\n",
    "category_EDA('Open24Hours',df_selected_restaurants)"
   ]
  },
  {
   "cell_type": "markdown",
   "id": "63777f31",
   "metadata": {},
   "source": [
    "More than 95% of the values in this column are Na so we'll drop this column. "
   ]
  },
  {
   "cell_type": "code",
   "execution_count": 135,
   "id": "25125279",
   "metadata": {},
   "outputs": [
    {
     "name": "stderr",
     "output_type": "stream",
     "text": [
      "/var/folders/wd/_ly9th917n5cfwyp82k_61wr0000gn/T/ipykernel_10978/4171282287.py:2: SettingWithCopyWarning: \n",
      "A value is trying to be set on a copy of a slice from a DataFrame\n",
      "\n",
      "See the caveats in the documentation: https://pandas.pydata.org/pandas-docs/stable/user_guide/indexing.html#returning-a-view-versus-a-copy\n",
      "  df_selected_restaurants.drop(columns='Open24Hours',inplace=True)\n"
     ]
    }
   ],
   "source": [
    "#Dropping selected columns\n",
    "df_selected_restaurants.drop(columns='Open24Hours',inplace=True)"
   ]
  },
  {
   "cell_type": "code",
   "execution_count": 136,
   "id": "f7e68f03",
   "metadata": {},
   "outputs": [
    {
     "name": "stdout",
     "output_type": "stream",
     "text": [
      "We have 12 Columns left\n",
      "The columns we have left are: \n",
      " Index(['BYOBCorkage', 'BYOB', 'Corkage', 'DietaryRestrictions_dairy-free',\n",
      "       'DietaryRestrictions_gluten-free', 'DietaryRestrictions_vegan',\n",
      "       'DietaryRestrictions_kosher', 'DietaryRestrictions_halal',\n",
      "       'DietaryRestrictions_soy-free', 'DietaryRestrictions_vegetarian',\n",
      "       'AgesAllowed', 'RestaurantsCounterService'],\n",
      "      dtype='object')\n"
     ]
    }
   ],
   "source": [
    "#Checking if it was dropped correctly\n",
    "drop_check(df_selected_restaurants)"
   ]
  },
  {
   "cell_type": "markdown",
   "id": "1a701d99",
   "metadata": {},
   "source": [
    "The drop check shows that we've correctly dropped the column so we can proceed. "
   ]
  },
  {
   "cell_type": "markdown",
   "id": "fcf620af",
   "metadata": {},
   "source": [
    "#### `BYOB` Columns"
   ]
  },
  {
   "cell_type": "code",
   "execution_count": 137,
   "id": "2785b86f",
   "metadata": {},
   "outputs": [
    {
     "name": "stdout",
     "output_type": "stream",
     "text": [
      "Na    1.0\n",
      "Name: BYOBCorkage, dtype: float64\n"
     ]
    },
    {
     "data": {
      "image/png": "[encoded data removed]",
      "text/plain": [
       "<Figure size 640x480 with 1 Axes>"
      ]
     },
     "metadata": {},
     "output_type": "display_data"
    }
   ],
   "source": [
    "#Applying categoryEDA method on the column\n",
    "category_EDA('BYOBCorkage',df_selected_restaurants)"
   ]
  },
  {
   "cell_type": "markdown",
   "id": "f564a880",
   "metadata": {},
   "source": [
    "More than 95% of the values in this column are Na so we'll drop this column. "
   ]
  },
  {
   "cell_type": "code",
   "execution_count": 138,
   "id": "d5b73a04",
   "metadata": {},
   "outputs": [
    {
     "name": "stdout",
     "output_type": "stream",
     "text": [
      "Na             0.999693\n",
      "yes_free       0.000184\n",
      "yes_corkage    0.000092\n",
      "no             0.000031\n",
      "Name: BYOB, dtype: float64\n"
     ]
    },
    {
     "data": {
      "image/png": "[encoded data removed]",
      "text/plain": [
       "<Figure size 640x480 with 1 Axes>"
      ]
     },
     "metadata": {},
     "output_type": "display_data"
    }
   ],
   "source": [
    "#Applying categoryEDA method on the column\n",
    "category_EDA('BYOB',df_selected_restaurants)"
   ]
  },
  {
   "cell_type": "markdown",
   "id": "00ca2a64",
   "metadata": {},
   "source": [
    "More than 95% of the values in this column are Na so we'll drop this column. "
   ]
  },
  {
   "cell_type": "code",
   "execution_count": 139,
   "id": "e398e78d",
   "metadata": {},
   "outputs": [
    {
     "name": "stdout",
     "output_type": "stream",
     "text": [
      "Na    1.0\n",
      "Name: Corkage, dtype: float64\n"
     ]
    },
    {
     "data": {
      "image/png": "[encoded data removed]",
      "text/plain": [
       "<Figure size 640x480 with 1 Axes>"
      ]
     },
     "metadata": {},
     "output_type": "display_data"
    }
   ],
   "source": [
    "#Applying categoryEDA method on the column\n",
    "category_EDA('Corkage',df_selected_restaurants)"
   ]
  },
  {
   "cell_type": "markdown",
   "id": "b4ff184b",
   "metadata": {},
   "source": [
    "More than 95% of the values in this column are Na so we'll drop this column. "
   ]
  },
  {
   "cell_type": "code",
   "execution_count": 140,
   "id": "ab36f148",
   "metadata": {},
   "outputs": [
    {
     "name": "stderr",
     "output_type": "stream",
     "text": [
      "/var/folders/wd/_ly9th917n5cfwyp82k_61wr0000gn/T/ipykernel_10978/421403977.py:2: SettingWithCopyWarning: \n",
      "A value is trying to be set on a copy of a slice from a DataFrame\n",
      "\n",
      "See the caveats in the documentation: https://pandas.pydata.org/pandas-docs/stable/user_guide/indexing.html#returning-a-view-versus-a-copy\n",
      "  df_selected_restaurants.drop(columns=['BYOBCorkage', 'BYOB', 'Corkage'], inplace=True)\n"
     ]
    }
   ],
   "source": [
    "#Dropping selected columns\n",
    "df_selected_restaurants.drop(columns=['BYOBCorkage', 'BYOB', 'Corkage'], inplace=True)"
   ]
  },
  {
   "cell_type": "code",
   "execution_count": 141,
   "id": "7da2d36f",
   "metadata": {},
   "outputs": [
    {
     "name": "stdout",
     "output_type": "stream",
     "text": [
      "We have 9 Columns left\n",
      "The columns we have left are: \n",
      " Index(['DietaryRestrictions_dairy-free', 'DietaryRestrictions_gluten-free',\n",
      "       'DietaryRestrictions_vegan', 'DietaryRestrictions_kosher',\n",
      "       'DietaryRestrictions_halal', 'DietaryRestrictions_soy-free',\n",
      "       'DietaryRestrictions_vegetarian', 'AgesAllowed',\n",
      "       'RestaurantsCounterService'],\n",
      "      dtype='object')\n"
     ]
    }
   ],
   "source": [
    "#Checking if it was dropped correctly\n",
    "drop_check(df_selected_restaurants)"
   ]
  },
  {
   "cell_type": "markdown",
   "id": "544d65b8",
   "metadata": {},
   "source": [
    "The drop check shows that we've correctly dropped the column so we can proceed. "
   ]
  },
  {
   "cell_type": "markdown",
   "id": "1d8a982e",
   "metadata": {},
   "source": [
    "#### `DietaryRestrictions` Columns"
   ]
  },
  {
   "cell_type": "code",
   "execution_count": 142,
   "id": "bee92236",
   "metadata": {},
   "outputs": [
    {
     "name": "stdout",
     "output_type": "stream",
     "text": [
      "Na    1.0\n",
      "Name: DietaryRestrictions_dairy-free, dtype: float64\n"
     ]
    },
    {
     "data": {
      "image/png": "[encoded data removed]",
      "text/plain": [
       "<Figure size 640x480 with 1 Axes>"
      ]
     },
     "metadata": {},
     "output_type": "display_data"
    }
   ],
   "source": [
    "#Applying categoryEDA method on the column\n",
    "category_EDA('DietaryRestrictions_dairy-free',df_selected_restaurants)"
   ]
  },
  {
   "cell_type": "markdown",
   "id": "295c5976",
   "metadata": {},
   "source": [
    "More than 95% of the values in this column are Na so we'll drop this column. "
   ]
  },
  {
   "cell_type": "code",
   "execution_count": 143,
   "id": "c1b3bc89",
   "metadata": {},
   "outputs": [
    {
     "name": "stdout",
     "output_type": "stream",
     "text": [
      "Na       0.999601\n",
      "False    0.000307\n",
      "True     0.000092\n",
      "Name: DietaryRestrictions_gluten-free, dtype: float64\n"
     ]
    },
    {
     "data": {
      "image/png": "[encoded data removed]",
      "text/plain": [
       "<Figure size 640x480 with 1 Axes>"
      ]
     },
     "metadata": {},
     "output_type": "display_data"
    }
   ],
   "source": [
    "#Applying categoryEDA method on the column\n",
    "category_EDA('DietaryRestrictions_gluten-free',df_selected_restaurants)"
   ]
  },
  {
   "cell_type": "markdown",
   "id": "45546d3d",
   "metadata": {},
   "source": [
    "More than 95% of the values in this column are Na so we'll drop this column. "
   ]
  },
  {
   "cell_type": "code",
   "execution_count": 144,
   "id": "7a9d482c",
   "metadata": {},
   "outputs": [
    {
     "name": "stdout",
     "output_type": "stream",
     "text": [
      "Na       0.999601\n",
      "False    0.000307\n",
      "True     0.000092\n",
      "Name: DietaryRestrictions_vegan, dtype: float64\n"
     ]
    },
    {
     "data": {
      "image/png": "[encoded data removed]",
      "text/plain": [
       "<Figure size 640x480 with 1 Axes>"
      ]
     },
     "metadata": {},
     "output_type": "display_data"
    }
   ],
   "source": [
    "#Applying categoryEDA method on the column\n",
    "category_EDA('DietaryRestrictions_vegan',df_selected_restaurants)"
   ]
  },
  {
   "cell_type": "markdown",
   "id": "202e2349",
   "metadata": {},
   "source": [
    "More than 95% of the values in this column are Na so we'll drop this column. "
   ]
  },
  {
   "cell_type": "code",
   "execution_count": 145,
   "id": "1d7832cf",
   "metadata": {},
   "outputs": [
    {
     "name": "stdout",
     "output_type": "stream",
     "text": [
      "Na       0.999601\n",
      "True     0.000246\n",
      "False    0.000154\n",
      "Name: DietaryRestrictions_kosher, dtype: float64\n"
     ]
    },
    {
     "data": {
      "image/png": "[encoded data removed]",
      "text/plain": [
       "<Figure size 640x480 with 1 Axes>"
      ]
     },
     "metadata": {},
     "output_type": "display_data"
    }
   ],
   "source": [
    "#Applying categoryEDA method on the column\n",
    "category_EDA('DietaryRestrictions_kosher',df_selected_restaurants)"
   ]
  },
  {
   "cell_type": "markdown",
   "id": "c31f240e",
   "metadata": {},
   "source": [
    "More than 95% of the values in this column are Na so we'll drop this column. "
   ]
  },
  {
   "cell_type": "code",
   "execution_count": 146,
   "id": "04dd0c55",
   "metadata": {},
   "outputs": [
    {
     "name": "stdout",
     "output_type": "stream",
     "text": [
      "Na       0.999601\n",
      "False    0.000399\n",
      "Name: DietaryRestrictions_halal, dtype: float64\n"
     ]
    },
    {
     "data": {
      "image/png": "[encoded data removed]",
      "text/plain": [
       "<Figure size 640x480 with 1 Axes>"
      ]
     },
     "metadata": {},
     "output_type": "display_data"
    }
   ],
   "source": [
    "#Applying categoryEDA method on the column\n",
    "category_EDA('DietaryRestrictions_halal',df_selected_restaurants)"
   ]
  },
  {
   "cell_type": "markdown",
   "id": "4bda9b11",
   "metadata": {},
   "source": [
    "More than 95% of the values in this column are Na so we'll drop this column. "
   ]
  },
  {
   "cell_type": "code",
   "execution_count": 147,
   "id": "9a0c812e",
   "metadata": {},
   "outputs": [
    {
     "name": "stdout",
     "output_type": "stream",
     "text": [
      "Na       0.999601\n",
      "False    0.000369\n",
      "True     0.000031\n",
      "Name: DietaryRestrictions_soy-free, dtype: float64\n"
     ]
    },
    {
     "data": {
      "image/png": "[encoded data removed]",
      "text/plain": [
       "<Figure size 640x480 with 1 Axes>"
      ]
     },
     "metadata": {},
     "output_type": "display_data"
    }
   ],
   "source": [
    "#Applying categoryEDA method on the column\n",
    "category_EDA('DietaryRestrictions_soy-free',df_selected_restaurants)"
   ]
  },
  {
   "cell_type": "markdown",
   "id": "84394aac",
   "metadata": {},
   "source": [
    "More than 95% of the values in this column are Na so we'll drop this column. "
   ]
  },
  {
   "cell_type": "code",
   "execution_count": 148,
   "id": "afecdd26",
   "metadata": {},
   "outputs": [
    {
     "name": "stdout",
     "output_type": "stream",
     "text": [
      "Na       0.999601\n",
      "False    0.000369\n",
      "True     0.000031\n",
      "Name: DietaryRestrictions_vegetarian, dtype: float64\n"
     ]
    },
    {
     "data": {
      "image/png": "[encoded data removed]",
      "text/plain": [
       "<Figure size 640x480 with 1 Axes>"
      ]
     },
     "metadata": {},
     "output_type": "display_data"
    }
   ],
   "source": [
    "#Applying categoryEDA method on the column\n",
    "category_EDA('DietaryRestrictions_vegetarian',df_selected_restaurants)"
   ]
  },
  {
   "cell_type": "markdown",
   "id": "4bec8d53",
   "metadata": {},
   "source": [
    "More than 95% of the values in this column are Na so we'll drop this column. "
   ]
  },
  {
   "cell_type": "code",
   "execution_count": 149,
   "id": "31ae7692",
   "metadata": {},
   "outputs": [
    {
     "name": "stderr",
     "output_type": "stream",
     "text": [
      "/var/folders/wd/_ly9th917n5cfwyp82k_61wr0000gn/T/ipykernel_10978/297351721.py:2: SettingWithCopyWarning: \n",
      "A value is trying to be set on a copy of a slice from a DataFrame\n",
      "\n",
      "See the caveats in the documentation: https://pandas.pydata.org/pandas-docs/stable/user_guide/indexing.html#returning-a-view-versus-a-copy\n",
      "  df_selected_restaurants.drop(columns=['DietaryRestrictions_dairy-free', 'DietaryRestrictions_gluten-free',\n"
     ]
    }
   ],
   "source": [
    "#Dropping selected columns\n",
    "df_selected_restaurants.drop(columns=['DietaryRestrictions_dairy-free', 'DietaryRestrictions_gluten-free',\n",
    "       'DietaryRestrictions_vegan', 'DietaryRestrictions_kosher',\n",
    "       'DietaryRestrictions_halal', 'DietaryRestrictions_soy-free',\n",
    "       'DietaryRestrictions_vegetarian'], inplace=True)"
   ]
  },
  {
   "cell_type": "code",
   "execution_count": 150,
   "id": "d322017e",
   "metadata": {
    "scrolled": true
   },
   "outputs": [
    {
     "name": "stdout",
     "output_type": "stream",
     "text": [
      "We have 2 Columns left\n",
      "The columns we have left are: \n",
      " Index(['AgesAllowed', 'RestaurantsCounterService'], dtype='object')\n"
     ]
    }
   ],
   "source": [
    "#Checking if it was dropped correctly\n",
    "drop_check(df_selected_restaurants)"
   ]
  },
  {
   "cell_type": "markdown",
   "id": "e2a8d578",
   "metadata": {},
   "source": [
    "The drop check shows that we've correctly dropped the column so we can proceed. "
   ]
  },
  {
   "cell_type": "markdown",
   "id": "3a988e13",
   "metadata": {},
   "source": [
    "#### `AgesAllowed` column"
   ]
  },
  {
   "cell_type": "code",
   "execution_count": 151,
   "id": "4b6ff639",
   "metadata": {},
   "outputs": [
    {
     "name": "stdout",
     "output_type": "stream",
     "text": [
      "Na       0.999601\n",
      "True     0.000246\n",
      "False    0.000154\n",
      "Name: AgesAllowed, dtype: float64\n"
     ]
    },
    {
     "data": {
      "image/png": "[encoded data removed]",
      "text/plain": [
       "<Figure size 640x480 with 1 Axes>"
      ]
     },
     "metadata": {},
     "output_type": "display_data"
    }
   ],
   "source": [
    "#Applying categoryEDA method on the column\n",
    "category_EDA('AgesAllowed',df_selected_restaurants)"
   ]
  },
  {
   "cell_type": "markdown",
   "id": "3f28c2df",
   "metadata": {},
   "source": [
    "More than 95% of the values in this column are Na so we'll drop this column. "
   ]
  },
  {
   "cell_type": "code",
   "execution_count": 152,
   "id": "e60a6fd7",
   "metadata": {},
   "outputs": [
    {
     "name": "stderr",
     "output_type": "stream",
     "text": [
      "/var/folders/wd/_ly9th917n5cfwyp82k_61wr0000gn/T/ipykernel_10978/3066990940.py:2: SettingWithCopyWarning: \n",
      "A value is trying to be set on a copy of a slice from a DataFrame\n",
      "\n",
      "See the caveats in the documentation: https://pandas.pydata.org/pandas-docs/stable/user_guide/indexing.html#returning-a-view-versus-a-copy\n",
      "  df_selected_restaurants.drop(columns='AgesAllowed', inplace=True)\n"
     ]
    }
   ],
   "source": [
    "#Dropping selected columns\n",
    "df_selected_restaurants.drop(columns='AgesAllowed', inplace=True)"
   ]
  },
  {
   "cell_type": "code",
   "execution_count": 153,
   "id": "a3218628",
   "metadata": {},
   "outputs": [
    {
     "name": "stdout",
     "output_type": "stream",
     "text": [
      "We have 1 Columns left\n",
      "The columns we have left are: \n",
      " Index(['RestaurantsCounterService'], dtype='object')\n"
     ]
    }
   ],
   "source": [
    "#Checking if it was dropped correctly\n",
    "drop_check(df_selected_restaurants)"
   ]
  },
  {
   "cell_type": "markdown",
   "id": "dca256ff",
   "metadata": {},
   "source": [
    "The drop check shows that we've correctly dropped the column so we can proceed. "
   ]
  },
  {
   "cell_type": "markdown",
   "id": "201b55c4",
   "metadata": {},
   "source": [
    "#### `RestaurantsCounterService` column"
   ]
  },
  {
   "cell_type": "code",
   "execution_count": 154,
   "id": "4b95ed1a",
   "metadata": {
    "scrolled": true
   },
   "outputs": [
    {
     "name": "stdout",
     "output_type": "stream",
     "text": [
      "Na         0.999939\n",
      "allages    0.000031\n",
      "18plus     0.000031\n",
      "Name: RestaurantsCounterService, dtype: float64\n"
     ]
    },
    {
     "data": {
      "image/png": "[encoded data removed]",
      "text/plain": [
       "<Figure size 640x480 with 1 Axes>"
      ]
     },
     "metadata": {},
     "output_type": "display_data"
    }
   ],
   "source": [
    "#Applying categoryEDA method on the column\n",
    "category_EDA('RestaurantsCounterService',df_selected_restaurants)"
   ]
  },
  {
   "cell_type": "markdown",
   "id": "9768eab1",
   "metadata": {},
   "source": [
    "More than 95% of the values in this column are Na so we'll drop this column. "
   ]
  },
  {
   "cell_type": "code",
   "execution_count": 155,
   "id": "30224e3e",
   "metadata": {},
   "outputs": [
    {
     "name": "stderr",
     "output_type": "stream",
     "text": [
      "/var/folders/wd/_ly9th917n5cfwyp82k_61wr0000gn/T/ipykernel_10978/3564179831.py:2: SettingWithCopyWarning: \n",
      "A value is trying to be set on a copy of a slice from a DataFrame\n",
      "\n",
      "See the caveats in the documentation: https://pandas.pydata.org/pandas-docs/stable/user_guide/indexing.html#returning-a-view-versus-a-copy\n",
      "  df_selected_restaurants.drop(columns='RestaurantsCounterService', inplace=True)\n"
     ]
    }
   ],
   "source": [
    "#Dropping selected columns\n",
    "df_selected_restaurants.drop(columns='RestaurantsCounterService', inplace=True)"
   ]
  },
  {
   "cell_type": "code",
   "execution_count": 156,
   "id": "f60294c4",
   "metadata": {},
   "outputs": [
    {
     "name": "stdout",
     "output_type": "stream",
     "text": [
      "We have 0 Columns left\n",
      "The columns we have left are: \n",
      " Index([], dtype='object')\n"
     ]
    }
   ],
   "source": [
    "#Checking if it was dropped correctly\n",
    "drop_check(df_selected_restaurants)"
   ]
  },
  {
   "cell_type": "markdown",
   "id": "bfc017ea",
   "metadata": {},
   "source": [
    "The drop check shows that we've correctly dropped the column so we can proceed. "
   ]
  },
  {
   "cell_type": "code",
   "execution_count": 157,
   "id": "757a24f3",
   "metadata": {},
   "outputs": [],
   "source": [
    "#Now we'll merge the processed attributes with the df_state_business and overwrite it. \n",
    "df_state_business=pd.merge(df_state_business,df_processed_attributes,on='business_id')"
   ]
  },
  {
   "cell_type": "markdown",
   "id": "a1ef1f17",
   "metadata": {},
   "source": [
    "After processing the attributes, we've added two different columns to our main Dataframe. We'll now proceed with `df_state_business`"
   ]
  }
 ],
 "metadata": {
  "kernelspec": {
   "display_name": "Python [conda env:Recommender_capstone]",
   "language": "python",
   "name": "conda-env-Recommender_capstone-py"
  },
  "language_info": {
   "codemirror_mode": {
    "name": "ipython",
    "version": 3
   },
   "file_extension": ".py",
   "mimetype": "text/x-python",
   "name": "python",
   "nbconvert_exporter": "python",
   "pygments_lexer": "ipython3",
   "version": "3.8.15"
  }
 },
 "nbformat": 4,
 "nbformat_minor": 5
}
