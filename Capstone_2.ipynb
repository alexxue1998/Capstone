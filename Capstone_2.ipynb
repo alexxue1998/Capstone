{
 "cells": [
  {
   "cell_type": "markdown",
   "id": "6411ed5f",
   "metadata": {},
   "source": [
    "<div style=\"float:left\"><h1>  Your Personalized Food Travel Guide: Yelp Recommender System</h1></div>\n"
   ]
  },
  {
   "cell_type": "markdown",
   "id": "69220530",
   "metadata": {},
   "source": [
    "**Author:** Alex Xue \n",
    "\n",
    "**Contact:** alex.xue15@gmail.com\n",
    "\n",
    "**Date:** December 12th"
   ]
  },
  {
   "cell_type": "markdown",
   "id": "e9537f73",
   "metadata": {},
   "source": [
    "## Table Of Contents \n",
    "1. [Introduction to this Notebook](#Introduction-to-this-Notebook)\n",
    "    1. [Finalizing the Business Dataframe](#Finalizing-the-Business-Dataframe) \n",
    "2. [The Review Dataframe](#The-Review-Dataframe)\n",
    "    1. [Positive Review Vectorizer](#Positive-Review-Vectorizer)\n",
    "    2. [Negative Review Vectorizer](#Negative-Review-Vectorizer)\n",
    "3. [Conclusion to this Notebook](#Conclusion-to-this-Notebook)"
   ]
  },
  {
   "cell_type": "markdown",
   "id": "7e3d4507",
   "metadata": {},
   "source": [
    "## Introduction to this Notebook"
   ]
  },
  {
   "cell_type": "markdown",
   "id": "4d030cdb",
   "metadata": {},
   "source": [
    "In this notebook we'll be finalizing the business dataframe by exploring the remaining columns. As well we'll be beginning our exploration of the Review dataset. We'll be using a count vectorizer in order to generate features based on the reviews."
   ]
  },
  {
   "cell_type": "markdown",
   "id": "d5aeac59",
   "metadata": {},
   "source": [
    "### Finalizing the business dataframe"
   ]
  },
  {
   "cell_type": "markdown",
   "id": "57a8150b",
   "metadata": {},
   "source": [
    "We'll be loading in the dataframe from the last notebook as our checkpoint. We'll need to clean up one last remaining columns before we can finish the exploration of this notebook. "
   ]
  },
  {
   "cell_type": "code",
   "execution_count": 1,
   "id": "a8678145",
   "metadata": {},
   "outputs": [],
   "source": [
    "import numpy as np #importing numpy \n",
    "import pandas as pd #importing pandas \n",
    "import matplotlib.pyplot as plt #importing matplotlib\n",
    "import re #importing regex\n",
    "import seaborn as sns #importing seaborn\n",
    "from sklearn.feature_extraction.text import CountVectorizer #importing our count vectorizer "
   ]
  },
  {
   "cell_type": "code",
   "execution_count": 2,
   "id": "4584cb26",
   "metadata": {
    "scrolled": true
   },
   "outputs": [],
   "source": [
    "#Importing out where we left off in the last notebook\n",
    "df_business_checkpoint=pd.read_csv(\"data/Businesses_by_state3.csv\",index_col=0)"
   ]
  },
  {
   "cell_type": "code",
   "execution_count": 3,
   "id": "c99c2468",
   "metadata": {},
   "outputs": [
    {
     "data": {
      "text/html": [
       "<div>\n",
       "<style scoped>\n",
       "    .dataframe tbody tr th:only-of-type {\n",
       "        vertical-align: middle;\n",
       "    }\n",
       "\n",
       "    .dataframe tbody tr th {\n",
       "        vertical-align: top;\n",
       "    }\n",
       "\n",
       "    .dataframe thead th {\n",
       "        text-align: right;\n",
       "    }\n",
       "</style>\n",
       "<table border=\"1\" class=\"dataframe\">\n",
       "  <thead>\n",
       "    <tr style=\"text-align: right;\">\n",
       "      <th></th>\n",
       "      <th>business_id</th>\n",
       "      <th>name</th>\n",
       "      <th>state</th>\n",
       "      <th>stars</th>\n",
       "      <th>review_count</th>\n",
       "      <th>is_open</th>\n",
       "      <th>BusinessParking_valet</th>\n",
       "      <th>WheelchairAccessible</th>\n",
       "      <th>km_distance_from_center</th>\n",
       "      <th>active</th>\n",
       "      <th>...</th>\n",
       "      <th>wash</th>\n",
       "      <th>water</th>\n",
       "      <th>wedding</th>\n",
       "      <th>wholesale</th>\n",
       "      <th>wigs</th>\n",
       "      <th>wine</th>\n",
       "      <th>wineries</th>\n",
       "      <th>wings</th>\n",
       "      <th>wraps</th>\n",
       "      <th>yogurt</th>\n",
       "    </tr>\n",
       "  </thead>\n",
       "  <tbody>\n",
       "    <tr>\n",
       "      <th>0</th>\n",
       "      <td>xcgFnd-MwkZeO5G2HQ0gAQ</td>\n",
       "      <td>\"T &amp; T Bakery and Cafe\"</td>\n",
       "      <td>ON</td>\n",
       "      <td>4.0</td>\n",
       "      <td>38</td>\n",
       "      <td>1</td>\n",
       "      <td>0</td>\n",
       "      <td>0</td>\n",
       "      <td>26.389755</td>\n",
       "      <td>0</td>\n",
       "      <td>...</td>\n",
       "      <td>0</td>\n",
       "      <td>0</td>\n",
       "      <td>0</td>\n",
       "      <td>0</td>\n",
       "      <td>0</td>\n",
       "      <td>0</td>\n",
       "      <td>0</td>\n",
       "      <td>0</td>\n",
       "      <td>0</td>\n",
       "      <td>0</td>\n",
       "    </tr>\n",
       "    <tr>\n",
       "      <th>1</th>\n",
       "      <td>l09JfMeQ6ynYs5MCJtrcmQ</td>\n",
       "      <td>\"Alize Catering\"</td>\n",
       "      <td>ON</td>\n",
       "      <td>3.0</td>\n",
       "      <td>12</td>\n",
       "      <td>0</td>\n",
       "      <td>0</td>\n",
       "      <td>0</td>\n",
       "      <td>6.512472</td>\n",
       "      <td>0</td>\n",
       "      <td>...</td>\n",
       "      <td>0</td>\n",
       "      <td>0</td>\n",
       "      <td>0</td>\n",
       "      <td>0</td>\n",
       "      <td>0</td>\n",
       "      <td>0</td>\n",
       "      <td>0</td>\n",
       "      <td>0</td>\n",
       "      <td>0</td>\n",
       "      <td>0</td>\n",
       "    </tr>\n",
       "    <tr>\n",
       "      <th>2</th>\n",
       "      <td>Gu-xs3NIQTj3Mj2xYoN2aw</td>\n",
       "      <td>\"Maxim Bakery &amp; Restaurant\"</td>\n",
       "      <td>ON</td>\n",
       "      <td>3.5</td>\n",
       "      <td>34</td>\n",
       "      <td>1</td>\n",
       "      <td>1</td>\n",
       "      <td>0</td>\n",
       "      <td>23.841292</td>\n",
       "      <td>0</td>\n",
       "      <td>...</td>\n",
       "      <td>0</td>\n",
       "      <td>0</td>\n",
       "      <td>0</td>\n",
       "      <td>0</td>\n",
       "      <td>0</td>\n",
       "      <td>0</td>\n",
       "      <td>0</td>\n",
       "      <td>0</td>\n",
       "      <td>0</td>\n",
       "      <td>0</td>\n",
       "    </tr>\n",
       "    <tr>\n",
       "      <th>3</th>\n",
       "      <td>lHYiCS-y8AFjUitv6MGpxg</td>\n",
       "      <td>\"Starbucks\"</td>\n",
       "      <td>ON</td>\n",
       "      <td>4.0</td>\n",
       "      <td>21</td>\n",
       "      <td>1</td>\n",
       "      <td>0</td>\n",
       "      <td>0</td>\n",
       "      <td>3.516137</td>\n",
       "      <td>0</td>\n",
       "      <td>...</td>\n",
       "      <td>0</td>\n",
       "      <td>0</td>\n",
       "      <td>0</td>\n",
       "      <td>0</td>\n",
       "      <td>0</td>\n",
       "      <td>0</td>\n",
       "      <td>0</td>\n",
       "      <td>0</td>\n",
       "      <td>0</td>\n",
       "      <td>0</td>\n",
       "    </tr>\n",
       "    <tr>\n",
       "      <th>4</th>\n",
       "      <td>VSGcuYDV3q-AAZ9ZPq4fBQ</td>\n",
       "      <td>\"Sportster's\"</td>\n",
       "      <td>ON</td>\n",
       "      <td>2.5</td>\n",
       "      <td>7</td>\n",
       "      <td>1</td>\n",
       "      <td>0</td>\n",
       "      <td>0</td>\n",
       "      <td>5.358913</td>\n",
       "      <td>0</td>\n",
       "      <td>...</td>\n",
       "      <td>0</td>\n",
       "      <td>0</td>\n",
       "      <td>0</td>\n",
       "      <td>0</td>\n",
       "      <td>0</td>\n",
       "      <td>0</td>\n",
       "      <td>0</td>\n",
       "      <td>0</td>\n",
       "      <td>0</td>\n",
       "      <td>0</td>\n",
       "    </tr>\n",
       "  </tbody>\n",
       "</table>\n",
       "<p>5 rows × 288 columns</p>\n",
       "</div>"
      ],
      "text/plain": [
       "              business_id                         name state  stars  \\\n",
       "0  xcgFnd-MwkZeO5G2HQ0gAQ      \"T & T Bakery and Cafe\"    ON    4.0   \n",
       "1  l09JfMeQ6ynYs5MCJtrcmQ             \"Alize Catering\"    ON    3.0   \n",
       "2  Gu-xs3NIQTj3Mj2xYoN2aw  \"Maxim Bakery & Restaurant\"    ON    3.5   \n",
       "3  lHYiCS-y8AFjUitv6MGpxg                  \"Starbucks\"    ON    4.0   \n",
       "4  VSGcuYDV3q-AAZ9ZPq4fBQ                \"Sportster's\"    ON    2.5   \n",
       "\n",
       "   review_count  is_open  BusinessParking_valet  WheelchairAccessible  \\\n",
       "0            38        1                      0                     0   \n",
       "1            12        0                      0                     0   \n",
       "2            34        1                      1                     0   \n",
       "3            21        1                      0                     0   \n",
       "4             7        1                      0                     0   \n",
       "\n",
       "   km_distance_from_center  active  ...  wash  water  wedding  wholesale  \\\n",
       "0                26.389755       0  ...     0      0        0          0   \n",
       "1                 6.512472       0  ...     0      0        0          0   \n",
       "2                23.841292       0  ...     0      0        0          0   \n",
       "3                 3.516137       0  ...     0      0        0          0   \n",
       "4                 5.358913       0  ...     0      0        0          0   \n",
       "\n",
       "   wigs  wine  wineries  wings  wraps  yogurt  \n",
       "0     0     0         0      0      0       0  \n",
       "1     0     0         0      0      0       0  \n",
       "2     0     0         0      0      0       0  \n",
       "3     0     0         0      0      0       0  \n",
       "4     0     0         0      0      0       0  \n",
       "\n",
       "[5 rows x 288 columns]"
      ]
     },
     "execution_count": 3,
     "metadata": {},
     "output_type": "execute_result"
    }
   ],
   "source": [
    "#Looking at the first 5 rows \n",
    "df_business_checkpoint.head()"
   ]
  },
  {
   "cell_type": "code",
   "execution_count": 4,
   "id": "3fb26c16",
   "metadata": {
    "scrolled": true
   },
   "outputs": [
    {
     "data": {
      "text/html": [
       "<div>\n",
       "<style scoped>\n",
       "    .dataframe tbody tr th:only-of-type {\n",
       "        vertical-align: middle;\n",
       "    }\n",
       "\n",
       "    .dataframe tbody tr th {\n",
       "        vertical-align: top;\n",
       "    }\n",
       "\n",
       "    .dataframe thead th {\n",
       "        text-align: right;\n",
       "    }\n",
       "</style>\n",
       "<table border=\"1\" class=\"dataframe\">\n",
       "  <thead>\n",
       "    <tr style=\"text-align: right;\">\n",
       "      <th></th>\n",
       "      <th>business_id</th>\n",
       "      <th>name</th>\n",
       "      <th>state</th>\n",
       "      <th>stars</th>\n",
       "      <th>review_count</th>\n",
       "      <th>is_open</th>\n",
       "      <th>BusinessParking_valet</th>\n",
       "      <th>WheelchairAccessible</th>\n",
       "      <th>km_distance_from_center</th>\n",
       "      <th>active</th>\n",
       "      <th>...</th>\n",
       "      <th>wash</th>\n",
       "      <th>water</th>\n",
       "      <th>wedding</th>\n",
       "      <th>wholesale</th>\n",
       "      <th>wigs</th>\n",
       "      <th>wine</th>\n",
       "      <th>wineries</th>\n",
       "      <th>wings</th>\n",
       "      <th>wraps</th>\n",
       "      <th>yogurt</th>\n",
       "    </tr>\n",
       "  </thead>\n",
       "  <tbody>\n",
       "    <tr>\n",
       "      <th>32538</th>\n",
       "      <td>xqNpOnxY0XzdnUE4sjmg0w</td>\n",
       "      <td>\"Chaska\"</td>\n",
       "      <td>ON</td>\n",
       "      <td>4.0</td>\n",
       "      <td>4</td>\n",
       "      <td>0</td>\n",
       "      <td>0</td>\n",
       "      <td>0</td>\n",
       "      <td>1.013712</td>\n",
       "      <td>0</td>\n",
       "      <td>...</td>\n",
       "      <td>0</td>\n",
       "      <td>0</td>\n",
       "      <td>0</td>\n",
       "      <td>0</td>\n",
       "      <td>0</td>\n",
       "      <td>0</td>\n",
       "      <td>0</td>\n",
       "      <td>0</td>\n",
       "      <td>0</td>\n",
       "      <td>0</td>\n",
       "    </tr>\n",
       "    <tr>\n",
       "      <th>32539</th>\n",
       "      <td>SvW3WsatQWvR8c1iwAD_QA</td>\n",
       "      <td>\"Urban House Cafe\"</td>\n",
       "      <td>ON</td>\n",
       "      <td>4.0</td>\n",
       "      <td>32</td>\n",
       "      <td>0</td>\n",
       "      <td>0</td>\n",
       "      <td>0</td>\n",
       "      <td>1.326022</td>\n",
       "      <td>0</td>\n",
       "      <td>...</td>\n",
       "      <td>0</td>\n",
       "      <td>0</td>\n",
       "      <td>0</td>\n",
       "      <td>0</td>\n",
       "      <td>0</td>\n",
       "      <td>0</td>\n",
       "      <td>0</td>\n",
       "      <td>0</td>\n",
       "      <td>0</td>\n",
       "      <td>0</td>\n",
       "    </tr>\n",
       "    <tr>\n",
       "      <th>32540</th>\n",
       "      <td>nGjEV4bn0DPk8bcb0C6Aig</td>\n",
       "      <td>\"Sweet Serendipity Bake Shop\"</td>\n",
       "      <td>ON</td>\n",
       "      <td>4.5</td>\n",
       "      <td>22</td>\n",
       "      <td>1</td>\n",
       "      <td>0</td>\n",
       "      <td>0</td>\n",
       "      <td>5.173640</td>\n",
       "      <td>0</td>\n",
       "      <td>...</td>\n",
       "      <td>0</td>\n",
       "      <td>0</td>\n",
       "      <td>0</td>\n",
       "      <td>0</td>\n",
       "      <td>0</td>\n",
       "      <td>0</td>\n",
       "      <td>0</td>\n",
       "      <td>0</td>\n",
       "      <td>0</td>\n",
       "      <td>0</td>\n",
       "    </tr>\n",
       "    <tr>\n",
       "      <th>32541</th>\n",
       "      <td>pUhU5ohYv65g8B47dTXAKA</td>\n",
       "      <td>\"Starbucks\"</td>\n",
       "      <td>NV</td>\n",
       "      <td>2.5</td>\n",
       "      <td>35</td>\n",
       "      <td>1</td>\n",
       "      <td>0</td>\n",
       "      <td>0</td>\n",
       "      <td>2.295815</td>\n",
       "      <td>0</td>\n",
       "      <td>...</td>\n",
       "      <td>0</td>\n",
       "      <td>0</td>\n",
       "      <td>0</td>\n",
       "      <td>0</td>\n",
       "      <td>0</td>\n",
       "      <td>0</td>\n",
       "      <td>0</td>\n",
       "      <td>0</td>\n",
       "      <td>0</td>\n",
       "      <td>0</td>\n",
       "    </tr>\n",
       "    <tr>\n",
       "      <th>32542</th>\n",
       "      <td>kLFm_kehXNZkUc1oa2-Eaw</td>\n",
       "      <td>\"Nuno's Churrasqueira\"</td>\n",
       "      <td>ON</td>\n",
       "      <td>3.0</td>\n",
       "      <td>4</td>\n",
       "      <td>1</td>\n",
       "      <td>0</td>\n",
       "      <td>0</td>\n",
       "      <td>4.311081</td>\n",
       "      <td>0</td>\n",
       "      <td>...</td>\n",
       "      <td>0</td>\n",
       "      <td>0</td>\n",
       "      <td>0</td>\n",
       "      <td>0</td>\n",
       "      <td>0</td>\n",
       "      <td>0</td>\n",
       "      <td>0</td>\n",
       "      <td>0</td>\n",
       "      <td>0</td>\n",
       "      <td>0</td>\n",
       "    </tr>\n",
       "  </tbody>\n",
       "</table>\n",
       "<p>5 rows × 288 columns</p>\n",
       "</div>"
      ],
      "text/plain": [
       "                  business_id                           name state  stars  \\\n",
       "32538  xqNpOnxY0XzdnUE4sjmg0w                       \"Chaska\"    ON    4.0   \n",
       "32539  SvW3WsatQWvR8c1iwAD_QA             \"Urban House Cafe\"    ON    4.0   \n",
       "32540  nGjEV4bn0DPk8bcb0C6Aig  \"Sweet Serendipity Bake Shop\"    ON    4.5   \n",
       "32541  pUhU5ohYv65g8B47dTXAKA                    \"Starbucks\"    NV    2.5   \n",
       "32542  kLFm_kehXNZkUc1oa2-Eaw         \"Nuno's Churrasqueira\"    ON    3.0   \n",
       "\n",
       "       review_count  is_open  BusinessParking_valet  WheelchairAccessible  \\\n",
       "32538             4        0                      0                     0   \n",
       "32539            32        0                      0                     0   \n",
       "32540            22        1                      0                     0   \n",
       "32541            35        1                      0                     0   \n",
       "32542             4        1                      0                     0   \n",
       "\n",
       "       km_distance_from_center  active  ...  wash  water  wedding  wholesale  \\\n",
       "32538                 1.013712       0  ...     0      0        0          0   \n",
       "32539                 1.326022       0  ...     0      0        0          0   \n",
       "32540                 5.173640       0  ...     0      0        0          0   \n",
       "32541                 2.295815       0  ...     0      0        0          0   \n",
       "32542                 4.311081       0  ...     0      0        0          0   \n",
       "\n",
       "       wigs  wine  wineries  wings  wraps  yogurt  \n",
       "32538     0     0         0      0      0       0  \n",
       "32539     0     0         0      0      0       0  \n",
       "32540     0     0         0      0      0       0  \n",
       "32541     0     0         0      0      0       0  \n",
       "32542     0     0         0      0      0       0  \n",
       "\n",
       "[5 rows x 288 columns]"
      ]
     },
     "execution_count": 4,
     "metadata": {},
     "output_type": "execute_result"
    }
   ],
   "source": [
    "#looking at the last 5 rows \n",
    "df_business_checkpoint.tail()"
   ]
  },
  {
   "cell_type": "code",
   "execution_count": 5,
   "id": "ecbe675c",
   "metadata": {},
   "outputs": [
    {
     "data": {
      "text/plain": [
       "26506"
      ]
     },
     "execution_count": 5,
     "metadata": {},
     "output_type": "execute_result"
    }
   ],
   "source": [
    "#Finding the number of rows \n",
    "df_business_checkpoint.shape[0]"
   ]
  },
  {
   "cell_type": "markdown",
   "id": "eb1e9def",
   "metadata": {},
   "source": [
    "Looking at the top 5 rows and bottom 5 rows is a quick check to make sure everything was imported and read correctly. We also see the same number of columns as we had before. Looking at the tail is important here as we know that the indexes shouldn't have reset as we did take some businesses out of this dataframe. We can see this is the case because the last indexes are a larger number than the number of rows in the dataframe. Indexes will be important to keep track of as later on we may reset indexes in order to make the process simpler. However we will usually have business ID in order to get the original indexes. "
   ]
  },
  {
   "cell_type": "markdown",
   "id": "9f885400",
   "metadata": {},
   "source": [
    "Lets also do a quick null value check as we should have 0."
   ]
  },
  {
   "cell_type": "code",
   "execution_count": 6,
   "id": "5aa16f68",
   "metadata": {},
   "outputs": [
    {
     "data": {
      "text/plain": [
       "0"
      ]
     },
     "execution_count": 6,
     "metadata": {},
     "output_type": "execute_result"
    }
   ],
   "source": [
    "#Finding the null values\n",
    "df_business_checkpoint.isna().sum().sum()"
   ]
  },
  {
   "cell_type": "markdown",
   "id": "c31c5d4f",
   "metadata": {},
   "source": [
    "Now that we've done the preliminary checks on the dataframe, we should focus on processing the last numeric/non-descriptive column in the original business csv, which is `is_open`"
   ]
  },
  {
   "cell_type": "markdown",
   "id": "d1ce6485",
   "metadata": {},
   "source": [
    "#### `is_open` column"
   ]
  },
  {
   "cell_type": "code",
   "execution_count": 7,
   "id": "1fcf67b8",
   "metadata": {},
   "outputs": [
    {
     "data": {
      "text/plain": [
       "1    19542\n",
       "0     6964\n",
       "Name: is_open, dtype: int64"
      ]
     },
     "execution_count": 7,
     "metadata": {},
     "output_type": "execute_result"
    }
   ],
   "source": [
    "#Checking the value counts of is_open\n",
    "df_business_checkpoint['is_open'].value_counts()"
   ]
  },
  {
   "cell_type": "markdown",
   "id": "ec84ac2d",
   "metadata": {},
   "source": [
    "The immediate thought that comes up with this column, is that if a business isn't open we shouldn't include them in our recommender system. Thats a valid thought, but if we were to remove businesses we would be losing reviews and data on these businesses that could be used to train our system. Additionally, while in a real world situation you wouldn't want to recommend a business thats closed, the dataset we're using is from 2018, almost 5 years ago, and pre-pandemic which had a large impact on the industry. As we can't reliably trust this information, we'll drop the column in this case but acknowledge that when implementing this in a more recent dataset, or one that's actively being updated, this would be an additional filter used when recommending."
   ]
  },
  {
   "cell_type": "code",
   "execution_count": 8,
   "id": "bcdba0c5",
   "metadata": {},
   "outputs": [],
   "source": [
    "#Dropping the `is_open` column from our dataframe \n",
    "df_business_checkpoint.drop(columns='is_open',inplace=True)"
   ]
  },
  {
   "cell_type": "code",
   "execution_count": 9,
   "id": "adbd356d",
   "metadata": {},
   "outputs": [
    {
     "data": {
      "text/html": [
       "<div>\n",
       "<style scoped>\n",
       "    .dataframe tbody tr th:only-of-type {\n",
       "        vertical-align: middle;\n",
       "    }\n",
       "\n",
       "    .dataframe tbody tr th {\n",
       "        vertical-align: top;\n",
       "    }\n",
       "\n",
       "    .dataframe thead th {\n",
       "        text-align: right;\n",
       "    }\n",
       "</style>\n",
       "<table border=\"1\" class=\"dataframe\">\n",
       "  <thead>\n",
       "    <tr style=\"text-align: right;\">\n",
       "      <th></th>\n",
       "      <th>business_id</th>\n",
       "      <th>name</th>\n",
       "      <th>state</th>\n",
       "      <th>stars</th>\n",
       "      <th>review_count</th>\n",
       "      <th>BusinessParking_valet</th>\n",
       "      <th>WheelchairAccessible</th>\n",
       "      <th>km_distance_from_center</th>\n",
       "      <th>active</th>\n",
       "      <th>adult</th>\n",
       "      <th>...</th>\n",
       "      <th>wash</th>\n",
       "      <th>water</th>\n",
       "      <th>wedding</th>\n",
       "      <th>wholesale</th>\n",
       "      <th>wigs</th>\n",
       "      <th>wine</th>\n",
       "      <th>wineries</th>\n",
       "      <th>wings</th>\n",
       "      <th>wraps</th>\n",
       "      <th>yogurt</th>\n",
       "    </tr>\n",
       "  </thead>\n",
       "  <tbody>\n",
       "    <tr>\n",
       "      <th>0</th>\n",
       "      <td>xcgFnd-MwkZeO5G2HQ0gAQ</td>\n",
       "      <td>\"T &amp; T Bakery and Cafe\"</td>\n",
       "      <td>ON</td>\n",
       "      <td>4.0</td>\n",
       "      <td>38</td>\n",
       "      <td>0</td>\n",
       "      <td>0</td>\n",
       "      <td>26.389755</td>\n",
       "      <td>0</td>\n",
       "      <td>0</td>\n",
       "      <td>...</td>\n",
       "      <td>0</td>\n",
       "      <td>0</td>\n",
       "      <td>0</td>\n",
       "      <td>0</td>\n",
       "      <td>0</td>\n",
       "      <td>0</td>\n",
       "      <td>0</td>\n",
       "      <td>0</td>\n",
       "      <td>0</td>\n",
       "      <td>0</td>\n",
       "    </tr>\n",
       "  </tbody>\n",
       "</table>\n",
       "<p>1 rows × 287 columns</p>\n",
       "</div>"
      ],
      "text/plain": [
       "              business_id                     name state  stars  review_count  \\\n",
       "0  xcgFnd-MwkZeO5G2HQ0gAQ  \"T & T Bakery and Cafe\"    ON    4.0            38   \n",
       "\n",
       "   BusinessParking_valet  WheelchairAccessible  km_distance_from_center  \\\n",
       "0                      0                     0                26.389755   \n",
       "\n",
       "   active  adult  ...  wash  water  wedding  wholesale  wigs  wine  wineries  \\\n",
       "0       0      0  ...     0      0        0          0     0     0         0   \n",
       "\n",
       "   wings  wraps  yogurt  \n",
       "0      0      0       0  \n",
       "\n",
       "[1 rows x 287 columns]"
      ]
     },
     "execution_count": 9,
     "metadata": {},
     "output_type": "execute_result"
    }
   ],
   "source": [
    "#Looking at the top 1 row\n",
    "df_business_checkpoint.head(1)"
   ]
  },
  {
   "cell_type": "markdown",
   "id": "dab3a66a",
   "metadata": {},
   "source": [
    "Now that we've worked with the business dataframe, lets move onto the next dataset we had, which is the reviews data but first, we'll need to change the name of the stars column to not confuse it with the review stars column"
   ]
  },
  {
   "cell_type": "code",
   "execution_count": 10,
   "id": "853cefb2",
   "metadata": {},
   "outputs": [],
   "source": [
    "#Here we're changing the name of the business dataframe to not confuse it with the stars from reviews\n",
    "df_business_checkpoint=df_business_checkpoint.rename(columns={'stars':'avg_stars'})"
   ]
  },
  {
   "cell_type": "markdown",
   "id": "20b6aa01",
   "metadata": {},
   "source": [
    "## The Review Dataframe"
   ]
  },
  {
   "cell_type": "code",
   "execution_count": 11,
   "id": "ddd6c3e7",
   "metadata": {},
   "outputs": [],
   "source": [
    "#This is reading in the review dataframe \n",
    "df_reviews=pd.read_csv(\"data/Yelp_dataset_old/yelp_review.csv\")"
   ]
  },
  {
   "cell_type": "markdown",
   "id": "9c27ce12",
   "metadata": {},
   "source": [
    "Lets take a quick look at the reviews"
   ]
  },
  {
   "cell_type": "code",
   "execution_count": 12,
   "id": "6fa7db67",
   "metadata": {},
   "outputs": [
    {
     "data": {
      "text/html": [
       "<div>\n",
       "<style scoped>\n",
       "    .dataframe tbody tr th:only-of-type {\n",
       "        vertical-align: middle;\n",
       "    }\n",
       "\n",
       "    .dataframe tbody tr th {\n",
       "        vertical-align: top;\n",
       "    }\n",
       "\n",
       "    .dataframe thead th {\n",
       "        text-align: right;\n",
       "    }\n",
       "</style>\n",
       "<table border=\"1\" class=\"dataframe\">\n",
       "  <thead>\n",
       "    <tr style=\"text-align: right;\">\n",
       "      <th></th>\n",
       "      <th>review_id</th>\n",
       "      <th>user_id</th>\n",
       "      <th>business_id</th>\n",
       "      <th>stars</th>\n",
       "      <th>date</th>\n",
       "      <th>text</th>\n",
       "      <th>useful</th>\n",
       "      <th>funny</th>\n",
       "      <th>cool</th>\n",
       "    </tr>\n",
       "  </thead>\n",
       "  <tbody>\n",
       "    <tr>\n",
       "      <th>0</th>\n",
       "      <td>vkVSCC7xljjrAI4UGfnKEQ</td>\n",
       "      <td>bv2nCi5Qv5vroFiqKGopiw</td>\n",
       "      <td>AEx2SYEUJmTxVVB18LlCwA</td>\n",
       "      <td>5</td>\n",
       "      <td>2016-05-28</td>\n",
       "      <td>Super simple place but amazing nonetheless. It...</td>\n",
       "      <td>0</td>\n",
       "      <td>0</td>\n",
       "      <td>0</td>\n",
       "    </tr>\n",
       "    <tr>\n",
       "      <th>1</th>\n",
       "      <td>n6QzIUObkYshz4dz2QRJTw</td>\n",
       "      <td>bv2nCi5Qv5vroFiqKGopiw</td>\n",
       "      <td>VR6GpWIda3SfvPC-lg9H3w</td>\n",
       "      <td>5</td>\n",
       "      <td>2016-05-28</td>\n",
       "      <td>Small unassuming place that changes their menu...</td>\n",
       "      <td>0</td>\n",
       "      <td>0</td>\n",
       "      <td>0</td>\n",
       "    </tr>\n",
       "    <tr>\n",
       "      <th>2</th>\n",
       "      <td>MV3CcKScW05u5LVfF6ok0g</td>\n",
       "      <td>bv2nCi5Qv5vroFiqKGopiw</td>\n",
       "      <td>CKC0-MOWMqoeWf6s-szl8g</td>\n",
       "      <td>5</td>\n",
       "      <td>2016-05-28</td>\n",
       "      <td>Lester's is located in a beautiful neighborhoo...</td>\n",
       "      <td>0</td>\n",
       "      <td>0</td>\n",
       "      <td>0</td>\n",
       "    </tr>\n",
       "    <tr>\n",
       "      <th>3</th>\n",
       "      <td>IXvOzsEMYtiJI0CARmj77Q</td>\n",
       "      <td>bv2nCi5Qv5vroFiqKGopiw</td>\n",
       "      <td>ACFtxLv8pGrrxMm6EgjreA</td>\n",
       "      <td>4</td>\n",
       "      <td>2016-05-28</td>\n",
       "      <td>Love coming here. Yes the place always needs t...</td>\n",
       "      <td>0</td>\n",
       "      <td>0</td>\n",
       "      <td>0</td>\n",
       "    </tr>\n",
       "    <tr>\n",
       "      <th>4</th>\n",
       "      <td>L_9BTb55X0GDtThi6GlZ6w</td>\n",
       "      <td>bv2nCi5Qv5vroFiqKGopiw</td>\n",
       "      <td>s2I_Ni76bjJNK9yG60iD-Q</td>\n",
       "      <td>4</td>\n",
       "      <td>2016-05-28</td>\n",
       "      <td>Had their chocolate almond croissant and it wa...</td>\n",
       "      <td>0</td>\n",
       "      <td>0</td>\n",
       "      <td>0</td>\n",
       "    </tr>\n",
       "  </tbody>\n",
       "</table>\n",
       "</div>"
      ],
      "text/plain": [
       "                review_id                 user_id             business_id  \\\n",
       "0  vkVSCC7xljjrAI4UGfnKEQ  bv2nCi5Qv5vroFiqKGopiw  AEx2SYEUJmTxVVB18LlCwA   \n",
       "1  n6QzIUObkYshz4dz2QRJTw  bv2nCi5Qv5vroFiqKGopiw  VR6GpWIda3SfvPC-lg9H3w   \n",
       "2  MV3CcKScW05u5LVfF6ok0g  bv2nCi5Qv5vroFiqKGopiw  CKC0-MOWMqoeWf6s-szl8g   \n",
       "3  IXvOzsEMYtiJI0CARmj77Q  bv2nCi5Qv5vroFiqKGopiw  ACFtxLv8pGrrxMm6EgjreA   \n",
       "4  L_9BTb55X0GDtThi6GlZ6w  bv2nCi5Qv5vroFiqKGopiw  s2I_Ni76bjJNK9yG60iD-Q   \n",
       "\n",
       "   stars        date                                               text  \\\n",
       "0      5  2016-05-28  Super simple place but amazing nonetheless. It...   \n",
       "1      5  2016-05-28  Small unassuming place that changes their menu...   \n",
       "2      5  2016-05-28  Lester's is located in a beautiful neighborhoo...   \n",
       "3      4  2016-05-28  Love coming here. Yes the place always needs t...   \n",
       "4      4  2016-05-28  Had their chocolate almond croissant and it wa...   \n",
       "\n",
       "   useful  funny  cool  \n",
       "0       0      0     0  \n",
       "1       0      0     0  \n",
       "2       0      0     0  \n",
       "3       0      0     0  \n",
       "4       0      0     0  "
      ]
     },
     "execution_count": 12,
     "metadata": {},
     "output_type": "execute_result"
    }
   ],
   "source": [
    "df_reviews.head()"
   ]
  },
  {
   "cell_type": "code",
   "execution_count": 13,
   "id": "94403812",
   "metadata": {},
   "outputs": [
    {
     "data": {
      "text/plain": [
       "5261668"
      ]
     },
     "execution_count": 13,
     "metadata": {},
     "output_type": "execute_result"
    }
   ],
   "source": [
    "df_reviews.shape[0]"
   ]
  },
  {
   "cell_type": "markdown",
   "id": "093c3bbb",
   "metadata": {},
   "source": [
    "We can see that there are some identifier columns like user_id and review_id, additionally we see business_id which we can use to merge our dataframes. We also see that each review has a data and stars count attached to the general text. We also see the last 3 columns which are reactions that other users put on the review as a way of judging the review. First, lets rename the stars column to not confuse them. In total we have just over 5 million reviews."
   ]
  },
  {
   "cell_type": "code",
   "execution_count": 14,
   "id": "2ab4cd60",
   "metadata": {
    "scrolled": true
   },
   "outputs": [],
   "source": [
    "#renaming the stars columns \n",
    "df_reviews=df_reviews.rename(columns={'stars':'Review_star'})"
   ]
  },
  {
   "cell_type": "code",
   "execution_count": 15,
   "id": "552c3085",
   "metadata": {},
   "outputs": [
    {
     "data": {
      "text/html": [
       "<div>\n",
       "<style scoped>\n",
       "    .dataframe tbody tr th:only-of-type {\n",
       "        vertical-align: middle;\n",
       "    }\n",
       "\n",
       "    .dataframe tbody tr th {\n",
       "        vertical-align: top;\n",
       "    }\n",
       "\n",
       "    .dataframe thead th {\n",
       "        text-align: right;\n",
       "    }\n",
       "</style>\n",
       "<table border=\"1\" class=\"dataframe\">\n",
       "  <thead>\n",
       "    <tr style=\"text-align: right;\">\n",
       "      <th></th>\n",
       "      <th>review_id</th>\n",
       "      <th>user_id</th>\n",
       "      <th>business_id</th>\n",
       "      <th>Review_star</th>\n",
       "      <th>date</th>\n",
       "      <th>text</th>\n",
       "      <th>useful</th>\n",
       "      <th>funny</th>\n",
       "      <th>cool</th>\n",
       "    </tr>\n",
       "  </thead>\n",
       "  <tbody>\n",
       "    <tr>\n",
       "      <th>0</th>\n",
       "      <td>vkVSCC7xljjrAI4UGfnKEQ</td>\n",
       "      <td>bv2nCi5Qv5vroFiqKGopiw</td>\n",
       "      <td>AEx2SYEUJmTxVVB18LlCwA</td>\n",
       "      <td>5</td>\n",
       "      <td>2016-05-28</td>\n",
       "      <td>Super simple place but amazing nonetheless. It...</td>\n",
       "      <td>0</td>\n",
       "      <td>0</td>\n",
       "      <td>0</td>\n",
       "    </tr>\n",
       "    <tr>\n",
       "      <th>1</th>\n",
       "      <td>n6QzIUObkYshz4dz2QRJTw</td>\n",
       "      <td>bv2nCi5Qv5vroFiqKGopiw</td>\n",
       "      <td>VR6GpWIda3SfvPC-lg9H3w</td>\n",
       "      <td>5</td>\n",
       "      <td>2016-05-28</td>\n",
       "      <td>Small unassuming place that changes their menu...</td>\n",
       "      <td>0</td>\n",
       "      <td>0</td>\n",
       "      <td>0</td>\n",
       "    </tr>\n",
       "    <tr>\n",
       "      <th>2</th>\n",
       "      <td>MV3CcKScW05u5LVfF6ok0g</td>\n",
       "      <td>bv2nCi5Qv5vroFiqKGopiw</td>\n",
       "      <td>CKC0-MOWMqoeWf6s-szl8g</td>\n",
       "      <td>5</td>\n",
       "      <td>2016-05-28</td>\n",
       "      <td>Lester's is located in a beautiful neighborhoo...</td>\n",
       "      <td>0</td>\n",
       "      <td>0</td>\n",
       "      <td>0</td>\n",
       "    </tr>\n",
       "    <tr>\n",
       "      <th>3</th>\n",
       "      <td>IXvOzsEMYtiJI0CARmj77Q</td>\n",
       "      <td>bv2nCi5Qv5vroFiqKGopiw</td>\n",
       "      <td>ACFtxLv8pGrrxMm6EgjreA</td>\n",
       "      <td>4</td>\n",
       "      <td>2016-05-28</td>\n",
       "      <td>Love coming here. Yes the place always needs t...</td>\n",
       "      <td>0</td>\n",
       "      <td>0</td>\n",
       "      <td>0</td>\n",
       "    </tr>\n",
       "    <tr>\n",
       "      <th>4</th>\n",
       "      <td>L_9BTb55X0GDtThi6GlZ6w</td>\n",
       "      <td>bv2nCi5Qv5vroFiqKGopiw</td>\n",
       "      <td>s2I_Ni76bjJNK9yG60iD-Q</td>\n",
       "      <td>4</td>\n",
       "      <td>2016-05-28</td>\n",
       "      <td>Had their chocolate almond croissant and it wa...</td>\n",
       "      <td>0</td>\n",
       "      <td>0</td>\n",
       "      <td>0</td>\n",
       "    </tr>\n",
       "  </tbody>\n",
       "</table>\n",
       "</div>"
      ],
      "text/plain": [
       "                review_id                 user_id             business_id  \\\n",
       "0  vkVSCC7xljjrAI4UGfnKEQ  bv2nCi5Qv5vroFiqKGopiw  AEx2SYEUJmTxVVB18LlCwA   \n",
       "1  n6QzIUObkYshz4dz2QRJTw  bv2nCi5Qv5vroFiqKGopiw  VR6GpWIda3SfvPC-lg9H3w   \n",
       "2  MV3CcKScW05u5LVfF6ok0g  bv2nCi5Qv5vroFiqKGopiw  CKC0-MOWMqoeWf6s-szl8g   \n",
       "3  IXvOzsEMYtiJI0CARmj77Q  bv2nCi5Qv5vroFiqKGopiw  ACFtxLv8pGrrxMm6EgjreA   \n",
       "4  L_9BTb55X0GDtThi6GlZ6w  bv2nCi5Qv5vroFiqKGopiw  s2I_Ni76bjJNK9yG60iD-Q   \n",
       "\n",
       "   Review_star        date                                               text  \\\n",
       "0            5  2016-05-28  Super simple place but amazing nonetheless. It...   \n",
       "1            5  2016-05-28  Small unassuming place that changes their menu...   \n",
       "2            5  2016-05-28  Lester's is located in a beautiful neighborhoo...   \n",
       "3            4  2016-05-28  Love coming here. Yes the place always needs t...   \n",
       "4            4  2016-05-28  Had their chocolate almond croissant and it wa...   \n",
       "\n",
       "   useful  funny  cool  \n",
       "0       0      0     0  \n",
       "1       0      0     0  \n",
       "2       0      0     0  \n",
       "3       0      0     0  \n",
       "4       0      0     0  "
      ]
     },
     "execution_count": 15,
     "metadata": {},
     "output_type": "execute_result"
    }
   ],
   "source": [
    "#looking at the top 5 rows \n",
    "df_reviews.head()"
   ]
  },
  {
   "cell_type": "markdown",
   "id": "c7dfaf4f",
   "metadata": {},
   "source": [
    "We can see that our change has worked and we can proceed with merging the two `df_business_checkpoint` with the `df_reviews`"
   ]
  },
  {
   "cell_type": "markdown",
   "id": "c7c67031",
   "metadata": {},
   "source": [
    "We'll be doing a left join, which is to mean that we only want the reviews that are associated with the businesses we have selected but we don't want to lose businesses that have no reviews. We don't want to do a full join as we don't want reviews that aren't associated with the selected businesses."
   ]
  },
  {
   "cell_type": "code",
   "execution_count": 16,
   "id": "dd501366",
   "metadata": {},
   "outputs": [],
   "source": [
    "#Left join to keep businesses without reveiws\n",
    "df_reviews_merged=pd.merge(df_business_checkpoint,df_reviews,on='business_id',how='left')"
   ]
  },
  {
   "cell_type": "code",
   "execution_count": 17,
   "id": "a984cd88",
   "metadata": {},
   "outputs": [
    {
     "data": {
      "text/html": [
       "<div>\n",
       "<style scoped>\n",
       "    .dataframe tbody tr th:only-of-type {\n",
       "        vertical-align: middle;\n",
       "    }\n",
       "\n",
       "    .dataframe tbody tr th {\n",
       "        vertical-align: top;\n",
       "    }\n",
       "\n",
       "    .dataframe thead th {\n",
       "        text-align: right;\n",
       "    }\n",
       "</style>\n",
       "<table border=\"1\" class=\"dataframe\">\n",
       "  <thead>\n",
       "    <tr style=\"text-align: right;\">\n",
       "      <th></th>\n",
       "      <th>business_id</th>\n",
       "      <th>name</th>\n",
       "      <th>state</th>\n",
       "      <th>avg_stars</th>\n",
       "      <th>review_count</th>\n",
       "      <th>BusinessParking_valet</th>\n",
       "      <th>WheelchairAccessible</th>\n",
       "      <th>km_distance_from_center</th>\n",
       "      <th>active</th>\n",
       "      <th>adult</th>\n",
       "      <th>...</th>\n",
       "      <th>wraps</th>\n",
       "      <th>yogurt</th>\n",
       "      <th>review_id</th>\n",
       "      <th>user_id</th>\n",
       "      <th>Review_star</th>\n",
       "      <th>date</th>\n",
       "      <th>text</th>\n",
       "      <th>useful</th>\n",
       "      <th>funny</th>\n",
       "      <th>cool</th>\n",
       "    </tr>\n",
       "  </thead>\n",
       "  <tbody>\n",
       "    <tr>\n",
       "      <th>0</th>\n",
       "      <td>xcgFnd-MwkZeO5G2HQ0gAQ</td>\n",
       "      <td>\"T &amp; T Bakery and Cafe\"</td>\n",
       "      <td>ON</td>\n",
       "      <td>4.0</td>\n",
       "      <td>38</td>\n",
       "      <td>0</td>\n",
       "      <td>0</td>\n",
       "      <td>26.389755</td>\n",
       "      <td>0</td>\n",
       "      <td>0</td>\n",
       "      <td>...</td>\n",
       "      <td>0</td>\n",
       "      <td>0</td>\n",
       "      <td>0WaSfUvfuw_py2t6rYfgcA</td>\n",
       "      <td>JnXYIUYuFkGGxgneBkmeBw</td>\n",
       "      <td>5</td>\n",
       "      <td>2016-06-05</td>\n",
       "      <td>It's sad to read all these shallow reviews of ...</td>\n",
       "      <td>2</td>\n",
       "      <td>0</td>\n",
       "      <td>0</td>\n",
       "    </tr>\n",
       "    <tr>\n",
       "      <th>1</th>\n",
       "      <td>xcgFnd-MwkZeO5G2HQ0gAQ</td>\n",
       "      <td>\"T &amp; T Bakery and Cafe\"</td>\n",
       "      <td>ON</td>\n",
       "      <td>4.0</td>\n",
       "      <td>38</td>\n",
       "      <td>0</td>\n",
       "      <td>0</td>\n",
       "      <td>26.389755</td>\n",
       "      <td>0</td>\n",
       "      <td>0</td>\n",
       "      <td>...</td>\n",
       "      <td>0</td>\n",
       "      <td>0</td>\n",
       "      <td>npO0_q1OAnoGz5oyXz9t1A</td>\n",
       "      <td>PBV_oQCoABX958-zjiLGwQ</td>\n",
       "      <td>2</td>\n",
       "      <td>2015-10-21</td>\n",
       "      <td>Re-reviewing this restaurant after our last 2 ...</td>\n",
       "      <td>2</td>\n",
       "      <td>1</td>\n",
       "      <td>0</td>\n",
       "    </tr>\n",
       "    <tr>\n",
       "      <th>2</th>\n",
       "      <td>xcgFnd-MwkZeO5G2HQ0gAQ</td>\n",
       "      <td>\"T &amp; T Bakery and Cafe\"</td>\n",
       "      <td>ON</td>\n",
       "      <td>4.0</td>\n",
       "      <td>38</td>\n",
       "      <td>0</td>\n",
       "      <td>0</td>\n",
       "      <td>26.389755</td>\n",
       "      <td>0</td>\n",
       "      <td>0</td>\n",
       "      <td>...</td>\n",
       "      <td>0</td>\n",
       "      <td>0</td>\n",
       "      <td>-qf5sss_W53W0hN8bXTVYw</td>\n",
       "      <td>_f5fHijZb6xocu_jNeZvPA</td>\n",
       "      <td>5</td>\n",
       "      <td>2012-08-19</td>\n",
       "      <td>I'm always excited to go there for breakfast! ...</td>\n",
       "      <td>2</td>\n",
       "      <td>1</td>\n",
       "      <td>1</td>\n",
       "    </tr>\n",
       "    <tr>\n",
       "      <th>3</th>\n",
       "      <td>xcgFnd-MwkZeO5G2HQ0gAQ</td>\n",
       "      <td>\"T &amp; T Bakery and Cafe\"</td>\n",
       "      <td>ON</td>\n",
       "      <td>4.0</td>\n",
       "      <td>38</td>\n",
       "      <td>0</td>\n",
       "      <td>0</td>\n",
       "      <td>26.389755</td>\n",
       "      <td>0</td>\n",
       "      <td>0</td>\n",
       "      <td>...</td>\n",
       "      <td>0</td>\n",
       "      <td>0</td>\n",
       "      <td>asbgm-pDBk55ZIy9NuRnug</td>\n",
       "      <td>148jNH5eI1ZHXLOm1DHiFg</td>\n",
       "      <td>5</td>\n",
       "      <td>2015-04-05</td>\n",
       "      <td>This place is absolutely awesome.\\n\\nCheap, go...</td>\n",
       "      <td>1</td>\n",
       "      <td>2</td>\n",
       "      <td>0</td>\n",
       "    </tr>\n",
       "    <tr>\n",
       "      <th>4</th>\n",
       "      <td>xcgFnd-MwkZeO5G2HQ0gAQ</td>\n",
       "      <td>\"T &amp; T Bakery and Cafe\"</td>\n",
       "      <td>ON</td>\n",
       "      <td>4.0</td>\n",
       "      <td>38</td>\n",
       "      <td>0</td>\n",
       "      <td>0</td>\n",
       "      <td>26.389755</td>\n",
       "      <td>0</td>\n",
       "      <td>0</td>\n",
       "      <td>...</td>\n",
       "      <td>0</td>\n",
       "      <td>0</td>\n",
       "      <td>_E-LFY0YnjwwiZ1K0m8cuw</td>\n",
       "      <td>abG99DJ23yOBkhaqICuFyA</td>\n",
       "      <td>5</td>\n",
       "      <td>2014-02-03</td>\n",
       "      <td>This place is an iconic spot in Markham Villag...</td>\n",
       "      <td>1</td>\n",
       "      <td>0</td>\n",
       "      <td>0</td>\n",
       "    </tr>\n",
       "  </tbody>\n",
       "</table>\n",
       "<p>5 rows × 295 columns</p>\n",
       "</div>"
      ],
      "text/plain": [
       "              business_id                     name state  avg_stars  \\\n",
       "0  xcgFnd-MwkZeO5G2HQ0gAQ  \"T & T Bakery and Cafe\"    ON        4.0   \n",
       "1  xcgFnd-MwkZeO5G2HQ0gAQ  \"T & T Bakery and Cafe\"    ON        4.0   \n",
       "2  xcgFnd-MwkZeO5G2HQ0gAQ  \"T & T Bakery and Cafe\"    ON        4.0   \n",
       "3  xcgFnd-MwkZeO5G2HQ0gAQ  \"T & T Bakery and Cafe\"    ON        4.0   \n",
       "4  xcgFnd-MwkZeO5G2HQ0gAQ  \"T & T Bakery and Cafe\"    ON        4.0   \n",
       "\n",
       "   review_count  BusinessParking_valet  WheelchairAccessible  \\\n",
       "0            38                      0                     0   \n",
       "1            38                      0                     0   \n",
       "2            38                      0                     0   \n",
       "3            38                      0                     0   \n",
       "4            38                      0                     0   \n",
       "\n",
       "   km_distance_from_center  active  adult  ...  wraps  yogurt  \\\n",
       "0                26.389755       0      0  ...      0       0   \n",
       "1                26.389755       0      0  ...      0       0   \n",
       "2                26.389755       0      0  ...      0       0   \n",
       "3                26.389755       0      0  ...      0       0   \n",
       "4                26.389755       0      0  ...      0       0   \n",
       "\n",
       "                review_id                 user_id  Review_star        date  \\\n",
       "0  0WaSfUvfuw_py2t6rYfgcA  JnXYIUYuFkGGxgneBkmeBw            5  2016-06-05   \n",
       "1  npO0_q1OAnoGz5oyXz9t1A  PBV_oQCoABX958-zjiLGwQ            2  2015-10-21   \n",
       "2  -qf5sss_W53W0hN8bXTVYw  _f5fHijZb6xocu_jNeZvPA            5  2012-08-19   \n",
       "3  asbgm-pDBk55ZIy9NuRnug  148jNH5eI1ZHXLOm1DHiFg            5  2015-04-05   \n",
       "4  _E-LFY0YnjwwiZ1K0m8cuw  abG99DJ23yOBkhaqICuFyA            5  2014-02-03   \n",
       "\n",
       "                                                text  useful  funny  cool  \n",
       "0  It's sad to read all these shallow reviews of ...       2      0     0  \n",
       "1  Re-reviewing this restaurant after our last 2 ...       2      1     0  \n",
       "2  I'm always excited to go there for breakfast! ...       2      1     1  \n",
       "3  This place is absolutely awesome.\\n\\nCheap, go...       1      2     0  \n",
       "4  This place is an iconic spot in Markham Villag...       1      0     0  \n",
       "\n",
       "[5 rows x 295 columns]"
      ]
     },
     "execution_count": 17,
     "metadata": {},
     "output_type": "execute_result"
    }
   ],
   "source": [
    "#looking at the first 5 rows of the newly merged df\n",
    "df_reviews_merged.head()"
   ]
  },
  {
   "cell_type": "markdown",
   "id": "78dbcab2",
   "metadata": {},
   "source": [
    "We can see that we were successful in our merge, now lets see how many different reviews we lost and how many are left over."
   ]
  },
  {
   "cell_type": "code",
   "execution_count": 18,
   "id": "fc0cf4ea",
   "metadata": {},
   "outputs": [
    {
     "data": {
      "text/plain": [
       "3567660"
      ]
     },
     "execution_count": 18,
     "metadata": {},
     "output_type": "execute_result"
    }
   ],
   "source": [
    "#Looking at how many reviews we lost \n",
    "df_reviews.shape[0]-df_reviews_merged.shape[0]"
   ]
  },
  {
   "cell_type": "code",
   "execution_count": 19,
   "id": "eb47b7d1",
   "metadata": {
    "scrolled": true
   },
   "outputs": [
    {
     "data": {
      "text/plain": [
       "1694008"
      ]
     },
     "execution_count": 19,
     "metadata": {},
     "output_type": "execute_result"
    }
   ],
   "source": [
    "#looking at how many reviews we had \n",
    "df_reviews_merged.shape[0]"
   ]
  },
  {
   "cell_type": "code",
   "execution_count": 20,
   "id": "3364c7ce",
   "metadata": {},
   "outputs": [
    {
     "data": {
      "text/plain": [
       "array([5, 2, 1, 3, 4])"
      ]
     },
     "execution_count": 20,
     "metadata": {},
     "output_type": "execute_result"
    }
   ],
   "source": [
    "#Looking at unique values for reviews \n",
    "df_reviews_merged['Review_star'].unique()"
   ]
  },
  {
   "cell_type": "markdown",
   "id": "16e262fe",
   "metadata": {},
   "source": [
    "We lost around 2/3 of the reviews and were left with 1/3 of the total reviews. ~1.7 million is still a large enough number for us to use for our purpose. We also see the reviews are integers from 1-5. This means there are no .5 ratings. This will be important when we're splitting up the data into good versus bad review."
   ]
  },
  {
   "cell_type": "markdown",
   "id": "00342ab2",
   "metadata": {},
   "source": [
    "Now lets take a look and see if we can see any difference in the way Ontario businesses and Nevada are rated"
   ]
  },
  {
   "cell_type": "code",
   "execution_count": 21,
   "id": "d5f583b8",
   "metadata": {},
   "outputs": [],
   "source": [
    "#looking at the reviews from ontario Businesses \n",
    "df_Ontario_reviews=df_reviews_merged[df_reviews_merged['state'].str.contains('ON')]"
   ]
  },
  {
   "cell_type": "code",
   "execution_count": 22,
   "id": "2a659e76",
   "metadata": {},
   "outputs": [],
   "source": [
    "#looking at the reviews from Nevada businesses \n",
    "df_nevada_reviews=df_reviews_merged[df_reviews_merged['state'].str.contains('NV')]"
   ]
  },
  {
   "cell_type": "markdown",
   "id": "551faf37",
   "metadata": {},
   "source": [
    "Here we create separate for our Nevada and Ontario data "
   ]
  },
  {
   "cell_type": "code",
   "execution_count": 23,
   "id": "afc8e9d1",
   "metadata": {},
   "outputs": [
    {
     "data": {
      "text/plain": [
       "mean    3.559800\n",
       "std     1.274341\n",
       "min     1.000000\n",
       "25%     3.000000\n",
       "50%     4.000000\n",
       "75%     5.000000\n",
       "max     5.000000\n",
       "Name: Review_star, dtype: float64"
      ]
     },
     "execution_count": 23,
     "metadata": {},
     "output_type": "execute_result"
    }
   ],
   "source": [
    "#looking at the summary stats of the Ontario reviews\n",
    "df_Ontario_reviews['Review_star'].describe()[1:]"
   ]
  },
  {
   "cell_type": "code",
   "execution_count": 24,
   "id": "cdbbf9a3",
   "metadata": {},
   "outputs": [
    {
     "data": {
      "text/plain": [
       "mean    3.739595\n",
       "std     1.375491\n",
       "min     1.000000\n",
       "25%     3.000000\n",
       "50%     4.000000\n",
       "75%     5.000000\n",
       "max     5.000000\n",
       "Name: Review_star, dtype: float64"
      ]
     },
     "execution_count": 24,
     "metadata": {},
     "output_type": "execute_result"
    }
   ],
   "source": [
    "#Looking at the summary stats of the Nevada Dataframe \n",
    "df_nevada_reviews['Review_star'].describe()[1:]"
   ]
  },
  {
   "cell_type": "markdown",
   "id": "0cda464c",
   "metadata": {},
   "source": [
    "Both of them seem to have similar means with Ontario having a slightly lower mean. The 50% median for both is 4.0, so we could use that as the divider for a good versus a bad review. Since the scale is 1-5 without floats, it's possible that 4 actual covers a much wider net than we hope, making the split not exactly 50:50. So another perfectly reasonable explanation may be that 3 or even 5 is actually the divider as to what is a bad or good review, but to start lets see the value counts of each number. "
   ]
  },
  {
   "cell_type": "code",
   "execution_count": 25,
   "id": "9fff15a3",
   "metadata": {},
   "outputs": [
    {
     "data": {
      "image/png": "[encoded data removed]",
      "text/plain": [
       "<Figure size 640x480 with 1 Axes>"
      ]
     },
     "metadata": {},
     "output_type": "display_data"
    }
   ],
   "source": [
    "#Looking at the value counts \n",
    "plt.figure()\n",
    "df_reviews_merged['Review_star'].value_counts(normalize=True).plot(kind='bar')\n",
    "plt.xlabel('Number of Stars')\n",
    "plt.ylabel('Number of Reviews')\n",
    "plt.xticks(rotation=0)\n",
    "plt.title('Number of Reviews vs Number of Stars')\n",
    "plt.show()"
   ]
  },
  {
   "cell_type": "markdown",
   "id": "113cefa1",
   "metadata": {},
   "source": [
    "We see that picking 5 as the breakpoint for create a similar 65:35 split in this case for negative reviews, and splitting by 3 would just create a bigger imbalance. As a result, we'll choose 4 as our breakpoint"
   ]
  },
  {
   "cell_type": "code",
   "execution_count": 26,
   "id": "00f834f9",
   "metadata": {},
   "outputs": [],
   "source": [
    "#Creating a new column where a review is marked as a positive review if its above or equal to 4\n",
    "df_reviews_merged['positive_review']=np.where(df_reviews_merged['Review_star']>=4.0,1,0)"
   ]
  },
  {
   "cell_type": "code",
   "execution_count": 27,
   "id": "bf13d3c8",
   "metadata": {},
   "outputs": [
    {
     "data": {
      "text/plain": [
       "1086565"
      ]
     },
     "execution_count": 27,
     "metadata": {},
     "output_type": "execute_result"
    }
   ],
   "source": [
    "#checking the number of positive reviews \n",
    "df_reviews_merged['positive_review'].sum()"
   ]
  },
  {
   "cell_type": "markdown",
   "id": "ee0948aa",
   "metadata": {},
   "source": [
    "In this case we have just under 1.1 million positive reviews and the rest is labeled as non-positive reviews."
   ]
  },
  {
   "cell_type": "markdown",
   "id": "0f6aa7b1",
   "metadata": {},
   "source": [
    "We'll do the same thing with negative reviews."
   ]
  },
  {
   "cell_type": "code",
   "execution_count": 28,
   "id": "53dd8d9a",
   "metadata": {},
   "outputs": [],
   "source": [
    "#Creating the negative_review column \n",
    "df_reviews_merged['negative_review']=np.where(df_reviews_merged['Review_star']<4.0,1,0)"
   ]
  },
  {
   "cell_type": "code",
   "execution_count": 29,
   "id": "f46fd681",
   "metadata": {},
   "outputs": [
    {
     "data": {
      "text/plain": [
       "607443"
      ]
     },
     "execution_count": 29,
     "metadata": {},
     "output_type": "execute_result"
    }
   ],
   "source": [
    "#Finding the number of total negative reviews \n",
    "df_reviews_merged['negative_review'].sum()"
   ]
  },
  {
   "cell_type": "markdown",
   "id": "12a6c535",
   "metadata": {},
   "source": [
    "We see we have around ~600k negative reviews. Now that we have both columns, we'll add the amount to each business in order to add 2 features to each business. So each business will have one column which is the number of positive reviews and the other is the number of negative reviews. "
   ]
  },
  {
   "cell_type": "code",
   "execution_count": 30,
   "id": "ee5332d3",
   "metadata": {},
   "outputs": [
    {
     "name": "stderr",
     "output_type": "stream",
     "text": [
      "/var/folders/wd/_ly9th917n5cfwyp82k_61wr0000gn/T/ipykernel_22077/3081560405.py:2: FutureWarning: The default value of numeric_only in DataFrameGroupBy.sum is deprecated. In a future version, numeric_only will default to False. Either specify numeric_only or select only columns which should be valid for the function.\n",
      "  df_number_reviews=df_reviews_merged.groupby('business_id').sum()[['positive_review','negative_review']]\n"
     ]
    }
   ],
   "source": [
    "#Creating the two columns for each business\n",
    "df_number_reviews=df_reviews_merged.groupby('business_id').sum()[['positive_review','negative_review']]"
   ]
  },
  {
   "cell_type": "code",
   "execution_count": 31,
   "id": "6796b1e8",
   "metadata": {},
   "outputs": [
    {
     "data": {
      "text/html": [
       "<div>\n",
       "<style scoped>\n",
       "    .dataframe tbody tr th:only-of-type {\n",
       "        vertical-align: middle;\n",
       "    }\n",
       "\n",
       "    .dataframe tbody tr th {\n",
       "        vertical-align: top;\n",
       "    }\n",
       "\n",
       "    .dataframe thead th {\n",
       "        text-align: right;\n",
       "    }\n",
       "</style>\n",
       "<table border=\"1\" class=\"dataframe\">\n",
       "  <thead>\n",
       "    <tr style=\"text-align: right;\">\n",
       "      <th></th>\n",
       "      <th>positive_review</th>\n",
       "      <th>negative_review</th>\n",
       "    </tr>\n",
       "    <tr>\n",
       "      <th>business_id</th>\n",
       "      <th></th>\n",
       "      <th></th>\n",
       "    </tr>\n",
       "  </thead>\n",
       "  <tbody>\n",
       "    <tr>\n",
       "      <th>--6MefnULPED_I942VcFNA</th>\n",
       "      <td>17</td>\n",
       "      <td>20</td>\n",
       "    </tr>\n",
       "    <tr>\n",
       "      <th>--9e1ONYQuAa-CB_Rrw7Tw</th>\n",
       "      <td>1104</td>\n",
       "      <td>347</td>\n",
       "    </tr>\n",
       "    <tr>\n",
       "      <th>--DaPTJW3-tB1vP-PfdTEg</th>\n",
       "      <td>25</td>\n",
       "      <td>14</td>\n",
       "    </tr>\n",
       "    <tr>\n",
       "      <th>--FBCX-N37CMYDfs790Bnw</th>\n",
       "      <td>75</td>\n",
       "      <td>33</td>\n",
       "    </tr>\n",
       "    <tr>\n",
       "      <th>--SrzpvFLwP_YFwB_Cetow</th>\n",
       "      <td>26</td>\n",
       "      <td>18</td>\n",
       "    </tr>\n",
       "  </tbody>\n",
       "</table>\n",
       "</div>"
      ],
      "text/plain": [
       "                        positive_review  negative_review\n",
       "business_id                                             \n",
       "--6MefnULPED_I942VcFNA               17               20\n",
       "--9e1ONYQuAa-CB_Rrw7Tw             1104              347\n",
       "--DaPTJW3-tB1vP-PfdTEg               25               14\n",
       "--FBCX-N37CMYDfs790Bnw               75               33\n",
       "--SrzpvFLwP_YFwB_Cetow               26               18"
      ]
     },
     "execution_count": 31,
     "metadata": {},
     "output_type": "execute_result"
    }
   ],
   "source": [
    "#Taking a look at the first 5 of the created df\n",
    "df_number_reviews.head()"
   ]
  },
  {
   "cell_type": "markdown",
   "id": "3ad4cc86",
   "metadata": {},
   "source": [
    "We can see that for some businesses they have a large number of positive reveiws and negative reviews, while others have slightly more negative than positive.  Now we can merge this back to our `df_business_checkpoint`. Again we'll use a left join. "
   ]
  },
  {
   "cell_type": "code",
   "execution_count": 32,
   "id": "4964c5c9",
   "metadata": {},
   "outputs": [],
   "source": [
    "#Left join of the businesses and positive and negative reviews\n",
    "df_business_reviews_merged=pd.merge(df_business_checkpoint,df_number_reviews,on='business_id',how='left')"
   ]
  },
  {
   "cell_type": "markdown",
   "id": "05076d8f",
   "metadata": {},
   "source": [
    "Now that we've merged our dataframes, lets take a look at how the areas compare"
   ]
  },
  {
   "cell_type": "code",
   "execution_count": 33,
   "id": "2a558374",
   "metadata": {},
   "outputs": [
    {
     "name": "stderr",
     "output_type": "stream",
     "text": [
      "/var/folders/wd/_ly9th917n5cfwyp82k_61wr0000gn/T/ipykernel_22077/888385203.py:5: FutureWarning: The default value of numeric_only in DataFrameGroupBy.mean is deprecated. In a future version, numeric_only will default to False. Either specify numeric_only or select only columns which should be valid for the function.\n",
      "  df_business_reviews_merged.groupby('state').mean()['positive_review'].plot(kind='bar') #Creating a bar plot\n",
      "/var/folders/wd/_ly9th917n5cfwyp82k_61wr0000gn/T/ipykernel_22077/888385203.py:14: FutureWarning: The default value of numeric_only in DataFrameGroupBy.mean is deprecated. In a future version, numeric_only will default to False. Either specify numeric_only or select only columns which should be valid for the function.\n",
      "  df_business_reviews_merged.groupby('state').mean()['negative_review'].plot(kind='bar') #Creating a bar plot\n"
     ]
    },
    {
     "data": {
      "image/png": "[encoded data removed]",
      "text/plain": [
       "<Figure size 1000x500 with 2 Axes>"
      ]
     },
     "metadata": {},
     "output_type": "display_data"
    }
   ],
   "source": [
    "plt.subplots(1,2,figsize=(10,5)) #Creating the subplot\n",
    "\n",
    "plt.subplot(1,2,1) #Selecting the grid position \n",
    "#ploting the positive reviews \n",
    "df_business_reviews_merged.groupby('state').mean()['positive_review'].plot(kind='bar') #Creating a bar plot\n",
    "plt.xlabel('Region')\n",
    "plt.ylabel('Average Number of Positive Reviews')\n",
    "plt.xticks(rotation=0)\n",
    "plt.title('Average Number of Positive Reviews vs Region')\n",
    "sns.despine() #Despining the graph\n",
    "\n",
    "plt.subplot(1,2,2) #Selecting the grid position \n",
    "#plotting the negative reviews\n",
    "df_business_reviews_merged.groupby('state').mean()['negative_review'].plot(kind='bar') #Creating a bar plot\n",
    "plt.xlabel('Region')\n",
    "plt.ylabel('Average Number of Negative Reviews')\n",
    "plt.xticks(rotation=0)\n",
    "plt.title('Average Number of Negative Reviews vs Region')\n",
    "sns.despine()#Despining the graph\n",
    "\n",
    "plt.tight_layout() #making the graphs tight beside each other  \n",
    "plt.show() #showing the graphs"
   ]
  },
  {
   "cell_type": "markdown",
   "id": "2f0916e8",
   "metadata": {},
   "source": [
    "We can see that the Average Number of Positive Reviews for NV and ON are different. This is to be expected as Nevada had a much larger average number of reviews per business. We see a similar visual with negative, with the negative proportion being slightly larger in Ontario. This is expected as Ontario had a slightly lower mean. Now we can proceed to try to create some features out of the text in these columns."
   ]
  },
  {
   "cell_type": "markdown",
   "id": "efa607c4",
   "metadata": {},
   "source": [
    "### Positive Review Vectorizer "
   ]
  },
  {
   "cell_type": "markdown",
   "id": "6d033d10",
   "metadata": {},
   "source": [
    "In order to get features out of the text data, we'll be trying to use a count vectorizer to try to get some common words that appear in these reviews. To do this we'll be splitting them into common words in positive reviews and common words in negative words. While the traditional approach is to try to find the best words that are indicative of some target variable, in our case we're just simply looking for common words that can link different restaurants together as we don't necessarily have a target variable. "
   ]
  },
  {
   "cell_type": "code",
   "execution_count": 34,
   "id": "f7d46a82",
   "metadata": {
    "scrolled": true
   },
   "outputs": [
    {
     "data": {
      "text/html": [
       "<div>\n",
       "<style scoped>\n",
       "    .dataframe tbody tr th:only-of-type {\n",
       "        vertical-align: middle;\n",
       "    }\n",
       "\n",
       "    .dataframe tbody tr th {\n",
       "        vertical-align: top;\n",
       "    }\n",
       "\n",
       "    .dataframe thead th {\n",
       "        text-align: right;\n",
       "    }\n",
       "</style>\n",
       "<table border=\"1\" class=\"dataframe\">\n",
       "  <thead>\n",
       "    <tr style=\"text-align: right;\">\n",
       "      <th></th>\n",
       "      <th>business_id</th>\n",
       "      <th>name</th>\n",
       "      <th>state</th>\n",
       "      <th>avg_stars</th>\n",
       "      <th>review_count</th>\n",
       "      <th>BusinessParking_valet</th>\n",
       "      <th>WheelchairAccessible</th>\n",
       "      <th>km_distance_from_center</th>\n",
       "      <th>active</th>\n",
       "      <th>adult</th>\n",
       "      <th>...</th>\n",
       "      <th>review_id</th>\n",
       "      <th>user_id</th>\n",
       "      <th>Review_star</th>\n",
       "      <th>date</th>\n",
       "      <th>text</th>\n",
       "      <th>useful</th>\n",
       "      <th>funny</th>\n",
       "      <th>cool</th>\n",
       "      <th>positive_review</th>\n",
       "      <th>negative_review</th>\n",
       "    </tr>\n",
       "  </thead>\n",
       "  <tbody>\n",
       "    <tr>\n",
       "      <th>0</th>\n",
       "      <td>xcgFnd-MwkZeO5G2HQ0gAQ</td>\n",
       "      <td>\"T &amp; T Bakery and Cafe\"</td>\n",
       "      <td>ON</td>\n",
       "      <td>4.0</td>\n",
       "      <td>38</td>\n",
       "      <td>0</td>\n",
       "      <td>0</td>\n",
       "      <td>26.389755</td>\n",
       "      <td>0</td>\n",
       "      <td>0</td>\n",
       "      <td>...</td>\n",
       "      <td>0WaSfUvfuw_py2t6rYfgcA</td>\n",
       "      <td>JnXYIUYuFkGGxgneBkmeBw</td>\n",
       "      <td>5</td>\n",
       "      <td>2016-06-05</td>\n",
       "      <td>It's sad to read all these shallow reviews of ...</td>\n",
       "      <td>2</td>\n",
       "      <td>0</td>\n",
       "      <td>0</td>\n",
       "      <td>1</td>\n",
       "      <td>0</td>\n",
       "    </tr>\n",
       "    <tr>\n",
       "      <th>1</th>\n",
       "      <td>xcgFnd-MwkZeO5G2HQ0gAQ</td>\n",
       "      <td>\"T &amp; T Bakery and Cafe\"</td>\n",
       "      <td>ON</td>\n",
       "      <td>4.0</td>\n",
       "      <td>38</td>\n",
       "      <td>0</td>\n",
       "      <td>0</td>\n",
       "      <td>26.389755</td>\n",
       "      <td>0</td>\n",
       "      <td>0</td>\n",
       "      <td>...</td>\n",
       "      <td>npO0_q1OAnoGz5oyXz9t1A</td>\n",
       "      <td>PBV_oQCoABX958-zjiLGwQ</td>\n",
       "      <td>2</td>\n",
       "      <td>2015-10-21</td>\n",
       "      <td>Re-reviewing this restaurant after our last 2 ...</td>\n",
       "      <td>2</td>\n",
       "      <td>1</td>\n",
       "      <td>0</td>\n",
       "      <td>0</td>\n",
       "      <td>1</td>\n",
       "    </tr>\n",
       "    <tr>\n",
       "      <th>2</th>\n",
       "      <td>xcgFnd-MwkZeO5G2HQ0gAQ</td>\n",
       "      <td>\"T &amp; T Bakery and Cafe\"</td>\n",
       "      <td>ON</td>\n",
       "      <td>4.0</td>\n",
       "      <td>38</td>\n",
       "      <td>0</td>\n",
       "      <td>0</td>\n",
       "      <td>26.389755</td>\n",
       "      <td>0</td>\n",
       "      <td>0</td>\n",
       "      <td>...</td>\n",
       "      <td>-qf5sss_W53W0hN8bXTVYw</td>\n",
       "      <td>_f5fHijZb6xocu_jNeZvPA</td>\n",
       "      <td>5</td>\n",
       "      <td>2012-08-19</td>\n",
       "      <td>I'm always excited to go there for breakfast! ...</td>\n",
       "      <td>2</td>\n",
       "      <td>1</td>\n",
       "      <td>1</td>\n",
       "      <td>1</td>\n",
       "      <td>0</td>\n",
       "    </tr>\n",
       "    <tr>\n",
       "      <th>3</th>\n",
       "      <td>xcgFnd-MwkZeO5G2HQ0gAQ</td>\n",
       "      <td>\"T &amp; T Bakery and Cafe\"</td>\n",
       "      <td>ON</td>\n",
       "      <td>4.0</td>\n",
       "      <td>38</td>\n",
       "      <td>0</td>\n",
       "      <td>0</td>\n",
       "      <td>26.389755</td>\n",
       "      <td>0</td>\n",
       "      <td>0</td>\n",
       "      <td>...</td>\n",
       "      <td>asbgm-pDBk55ZIy9NuRnug</td>\n",
       "      <td>148jNH5eI1ZHXLOm1DHiFg</td>\n",
       "      <td>5</td>\n",
       "      <td>2015-04-05</td>\n",
       "      <td>This place is absolutely awesome.\\n\\nCheap, go...</td>\n",
       "      <td>1</td>\n",
       "      <td>2</td>\n",
       "      <td>0</td>\n",
       "      <td>1</td>\n",
       "      <td>0</td>\n",
       "    </tr>\n",
       "    <tr>\n",
       "      <th>4</th>\n",
       "      <td>xcgFnd-MwkZeO5G2HQ0gAQ</td>\n",
       "      <td>\"T &amp; T Bakery and Cafe\"</td>\n",
       "      <td>ON</td>\n",
       "      <td>4.0</td>\n",
       "      <td>38</td>\n",
       "      <td>0</td>\n",
       "      <td>0</td>\n",
       "      <td>26.389755</td>\n",
       "      <td>0</td>\n",
       "      <td>0</td>\n",
       "      <td>...</td>\n",
       "      <td>_E-LFY0YnjwwiZ1K0m8cuw</td>\n",
       "      <td>abG99DJ23yOBkhaqICuFyA</td>\n",
       "      <td>5</td>\n",
       "      <td>2014-02-03</td>\n",
       "      <td>This place is an iconic spot in Markham Villag...</td>\n",
       "      <td>1</td>\n",
       "      <td>0</td>\n",
       "      <td>0</td>\n",
       "      <td>1</td>\n",
       "      <td>0</td>\n",
       "    </tr>\n",
       "  </tbody>\n",
       "</table>\n",
       "<p>5 rows × 297 columns</p>\n",
       "</div>"
      ],
      "text/plain": [
       "              business_id                     name state  avg_stars  \\\n",
       "0  xcgFnd-MwkZeO5G2HQ0gAQ  \"T & T Bakery and Cafe\"    ON        4.0   \n",
       "1  xcgFnd-MwkZeO5G2HQ0gAQ  \"T & T Bakery and Cafe\"    ON        4.0   \n",
       "2  xcgFnd-MwkZeO5G2HQ0gAQ  \"T & T Bakery and Cafe\"    ON        4.0   \n",
       "3  xcgFnd-MwkZeO5G2HQ0gAQ  \"T & T Bakery and Cafe\"    ON        4.0   \n",
       "4  xcgFnd-MwkZeO5G2HQ0gAQ  \"T & T Bakery and Cafe\"    ON        4.0   \n",
       "\n",
       "   review_count  BusinessParking_valet  WheelchairAccessible  \\\n",
       "0            38                      0                     0   \n",
       "1            38                      0                     0   \n",
       "2            38                      0                     0   \n",
       "3            38                      0                     0   \n",
       "4            38                      0                     0   \n",
       "\n",
       "   km_distance_from_center  active  adult  ...               review_id  \\\n",
       "0                26.389755       0      0  ...  0WaSfUvfuw_py2t6rYfgcA   \n",
       "1                26.389755       0      0  ...  npO0_q1OAnoGz5oyXz9t1A   \n",
       "2                26.389755       0      0  ...  -qf5sss_W53W0hN8bXTVYw   \n",
       "3                26.389755       0      0  ...  asbgm-pDBk55ZIy9NuRnug   \n",
       "4                26.389755       0      0  ...  _E-LFY0YnjwwiZ1K0m8cuw   \n",
       "\n",
       "                  user_id  Review_star        date  \\\n",
       "0  JnXYIUYuFkGGxgneBkmeBw            5  2016-06-05   \n",
       "1  PBV_oQCoABX958-zjiLGwQ            2  2015-10-21   \n",
       "2  _f5fHijZb6xocu_jNeZvPA            5  2012-08-19   \n",
       "3  148jNH5eI1ZHXLOm1DHiFg            5  2015-04-05   \n",
       "4  abG99DJ23yOBkhaqICuFyA            5  2014-02-03   \n",
       "\n",
       "                                                text  useful  funny  cool  \\\n",
       "0  It's sad to read all these shallow reviews of ...       2      0     0   \n",
       "1  Re-reviewing this restaurant after our last 2 ...       2      1     0   \n",
       "2  I'm always excited to go there for breakfast! ...       2      1     1   \n",
       "3  This place is absolutely awesome.\\n\\nCheap, go...       1      2     0   \n",
       "4  This place is an iconic spot in Markham Villag...       1      0     0   \n",
       "\n",
       "   positive_review  negative_review  \n",
       "0                1                0  \n",
       "1                0                1  \n",
       "2                1                0  \n",
       "3                1                0  \n",
       "4                1                0  \n",
       "\n",
       "[5 rows x 297 columns]"
      ]
     },
     "execution_count": 34,
     "metadata": {},
     "output_type": "execute_result"
    }
   ],
   "source": [
    "#taking a look at the first 5 rows\n",
    "df_reviews_merged.head()"
   ]
  },
  {
   "cell_type": "markdown",
   "id": "61423034",
   "metadata": {},
   "source": [
    "We can see that some reviews are now correctly tagged as positive or negative. We also see that in the text, we have a lot of punctuation, we'll want to strip the punctuation before we proceed by creating our input dataframe."
   ]
  },
  {
   "cell_type": "code",
   "execution_count": 35,
   "id": "a7237a13",
   "metadata": {},
   "outputs": [],
   "source": [
    "#Stripping the text column\n",
    "df_reviews_merged['text']=df_reviews_merged['text'].str.strip() "
   ]
  },
  {
   "cell_type": "code",
   "execution_count": 36,
   "id": "19407c8a",
   "metadata": {},
   "outputs": [],
   "source": [
    "#Creating our input dataframe of X_positive \n",
    "X_positive=df_reviews_merged[df_reviews_merged['positive_review']==1][['business_id','review_id','text']]"
   ]
  },
  {
   "cell_type": "markdown",
   "id": "2da24e7b",
   "metadata": {},
   "source": [
    "We'll take the positive reviews from the df_reviews_merged. We'll be only taking a select few columns, like text "
   ]
  },
  {
   "cell_type": "code",
   "execution_count": 37,
   "id": "91964f73",
   "metadata": {
    "scrolled": true
   },
   "outputs": [
    {
     "data": {
      "text/plain": [
       "1086565"
      ]
     },
     "execution_count": 37,
     "metadata": {},
     "output_type": "execute_result"
    }
   ],
   "source": [
    "#Looking at the number of unique reviews \n",
    "X_positive['review_id'].nunique()"
   ]
  },
  {
   "cell_type": "markdown",
   "id": "764b3530",
   "metadata": {},
   "source": [
    "We see the same umber of unique positive columns as before. We're also not processing Nevada and Toronto differently despite potential differences in colloquial terms. This is because the goal is to be able to find words that appear in both of these areas as a bridge to connect the businesses."
   ]
  },
  {
   "cell_type": "code",
   "execution_count": 38,
   "id": "99e1584a",
   "metadata": {},
   "outputs": [
    {
     "data": {
      "text/plain": [
       "0"
      ]
     },
     "execution_count": 38,
     "metadata": {},
     "output_type": "execute_result"
    }
   ],
   "source": [
    "#Looking at the null values\n",
    "X_positive['review_id'].isna().sum()"
   ]
  },
  {
   "cell_type": "markdown",
   "id": "9174c26d",
   "metadata": {},
   "source": [
    "We see we have no null values, so we can proceed with the vectorizer. In this case we'll be using a harsh min_df of 50000. This is largely a computational issue. While using a lower min_df and seeing the smaller groups of words would be great to have and help create little subgroups within our data, we simply don't have the computation necessary to generate that many features. As well, a harsh min_df helps lower the number of features we're getting which is important as too many features is also a computational burden. That being said 50000 was a number that was found through trial and error on my specific device. Since we have around 1 million positive reviews, this leads to a min_df that filters out words that occur less than 1/20 reviews."
   ]
  },
  {
   "cell_type": "code",
   "execution_count": 39,
   "id": "24c8f82a",
   "metadata": {
    "scrolled": true
   },
   "outputs": [
    {
     "data": {
      "text/plain": [
       "CountVectorizer(min_df=50000, stop_words='english')"
      ]
     },
     "execution_count": 39,
     "metadata": {},
     "output_type": "execute_result"
    }
   ],
   "source": [
    "#Creating the vectorizer and fitting it to our text\n",
    "bagofwords = CountVectorizer(stop_words=\"english\",min_df=50000)\n",
    "bagofwords.fit(X_positive['text'])"
   ]
  },
  {
   "cell_type": "code",
   "execution_count": 40,
   "id": "8081e606",
   "metadata": {},
   "outputs": [],
   "source": [
    "#Transforming the text\n",
    "X_transformed_positive = bagofwords.transform(X_positive['text']) \n"
   ]
  },
  {
   "cell_type": "code",
   "execution_count": 41,
   "id": "b8fd1b17",
   "metadata": {},
   "outputs": [
    {
     "data": {
      "text/plain": [
       "<1086565x145 sparse matrix of type '<class 'numpy.int64'>'\n",
       "\twith 15078388 stored elements in Compressed Sparse Row format>"
      ]
     },
     "execution_count": 41,
     "metadata": {},
     "output_type": "execute_result"
    }
   ],
   "source": [
    "#showing the dimensions of the sparse matrix \n",
    "X_transformed_positive"
   ]
  },
  {
   "cell_type": "markdown",
   "id": "f1bc19f3",
   "metadata": {},
   "source": [
    "We can see that our sparse matrix we created has about 15 million stored elements in it. We also see that we've gotten 145 words in our positive class. Lets take a deeper look at these columns. "
   ]
  },
  {
   "cell_type": "code",
   "execution_count": 42,
   "id": "c48126b4",
   "metadata": {
    "scrolled": true
   },
   "outputs": [],
   "source": [
    "#Creating our word count sum\n",
    "word_counts_sum = pd.DataFrame(\n",
    "    #transforming the sparse matrix to an array and summing them\n",
    "    {\"counts\": X_transformed_positive.toarray().sum(axis=0)},\n",
    "    #getting the names as indexs\n",
    "    index=bagofwords.get_feature_names()\n",
    "    #sorting by counts \n",
    ").sort_values(\"counts\", ascending=False)"
   ]
  },
  {
   "cell_type": "code",
   "execution_count": 43,
   "id": "39ebc463",
   "metadata": {},
   "outputs": [
    {
     "data": {
      "image/png": "[encoded data removed]",
      "text/plain": [
       "<Figure size 640x480 with 1 Axes>"
      ]
     },
     "metadata": {},
     "output_type": "display_data"
    }
   ],
   "source": [
    "word_counts_sum.head(10).plot(kind='bar')\n",
    "plt.xlabel('Words')\n",
    "plt.ylabel('Number of Times They Appeared ')\n",
    "plt.xticks(rotation=45)\n",
    "plt.title('10 Most Common Words in the Positive Review')\n",
    "sns.despine()#Despining the graph\n",
    "plt.show()"
   ]
  },
  {
   "cell_type": "markdown",
   "id": "0841c8ac",
   "metadata": {},
   "source": [
    "We're seeing a lot of common positive words like place, good, delicious. We're also seeing words like food, time, like come up. For the sake of this project we'll proceed with these words, as we do want words that come often enough to connect restaurants together.  "
   ]
  },
  {
   "cell_type": "markdown",
   "id": "cc45f762",
   "metadata": {},
   "source": [
    "Now we will create the dense matrix that we'll be adding to our dataframe. First we'll add a prefix of p^ to these words to differentiate them from their negative counterpart."
   ]
  },
  {
   "cell_type": "code",
   "execution_count": 44,
   "id": "94b9d9e8",
   "metadata": {},
   "outputs": [],
   "source": [
    "#getting the list of words\n",
    "name_list=bagofwords.get_feature_names()"
   ]
  },
  {
   "cell_type": "code",
   "execution_count": 45,
   "id": "90e31d89",
   "metadata": {},
   "outputs": [],
   "source": [
    "#defining our string\n",
    "string='p^'\n",
    "#adding our string to our list to create a new list of words\n",
    "my_new_list = [string +x for x in name_list]"
   ]
  },
  {
   "cell_type": "code",
   "execution_count": 46,
   "id": "c2d37e15",
   "metadata": {},
   "outputs": [
    {
     "data": {
      "text/plain": [
       "'p^10'"
      ]
     },
     "execution_count": 46,
     "metadata": {},
     "output_type": "execute_result"
    }
   ],
   "source": [
    "my_new_list[0]"
   ]
  },
  {
   "cell_type": "markdown",
   "id": "30938ace",
   "metadata": {},
   "source": [
    "We can see that our new list of words has a p^ in front of them. Now instead of turning our transformed words into a dataframe. We'll be using the column names as our new list of words and our indexs will the same indexes from the `X_positive` dataframe. This will allow us to concat the new dataframe to our `X_positive`."
   ]
  },
  {
   "cell_type": "code",
   "execution_count": 47,
   "id": "f8bcb59f",
   "metadata": {
    "scrolled": true
   },
   "outputs": [],
   "source": [
    "#Creating our dataframe \n",
    "word_counts_positive = pd.DataFrame(\n",
    "    #transforming the words to a dense matrix\n",
    "    X_transformed_positive.todense(),\n",
    "    #column names come from our new list of words with the prefix\n",
    "    columns=my_new_list,\n",
    "    #indexes come from X_positive \n",
    "    index=X_positive.index\n",
    ")"
   ]
  },
  {
   "cell_type": "code",
   "execution_count": 48,
   "id": "859279c6",
   "metadata": {
    "scrolled": true
   },
   "outputs": [
    {
     "data": {
      "text/plain": [
       "True"
      ]
     },
     "execution_count": 48,
     "metadata": {},
     "output_type": "execute_result"
    }
   ],
   "source": [
    "#Checking the shape\n",
    "word_counts_positive.shape[0]==X_positive.shape[0]"
   ]
  },
  {
   "cell_type": "markdown",
   "id": "94f63bb3",
   "metadata": {},
   "source": [
    "Here we're checking the shape of our new dataframe to make sure its the same as our `X_positive` dataframe. After that we'll create a new dataframe that will be then used to groupby the business_id in order to sum out the values. This means that each column will represent the number of times that particular word was used in a review of that specific business. "
   ]
  },
  {
   "cell_type": "code",
   "execution_count": 49,
   "id": "76b63f95",
   "metadata": {},
   "outputs": [],
   "source": [
    "#Now we create a new dataframe called df_positive \n",
    "new_df_positive = pd.concat([X_positive,word_counts_positive],axis=1)"
   ]
  },
  {
   "cell_type": "code",
   "execution_count": 50,
   "id": "37cebfae",
   "metadata": {},
   "outputs": [
    {
     "name": "stderr",
     "output_type": "stream",
     "text": [
      "/var/folders/wd/_ly9th917n5cfwyp82k_61wr0000gn/T/ipykernel_22077/3958716478.py:2: FutureWarning: The default value of numeric_only in DataFrameGroupBy.sum is deprecated. In a future version, numeric_only will default to False. Either specify numeric_only or select only columns which should be valid for the function.\n",
      "  df_positive_business_words=new_df_positive.groupby('business_id').sum()\n"
     ]
    }
   ],
   "source": [
    "#Summing up the words by business_id\n",
    "df_positive_business_words=new_df_positive.groupby('business_id').sum()"
   ]
  },
  {
   "cell_type": "code",
   "execution_count": 51,
   "id": "45a744f2",
   "metadata": {},
   "outputs": [
    {
     "data": {
      "text/html": [
       "<div>\n",
       "<style scoped>\n",
       "    .dataframe tbody tr th:only-of-type {\n",
       "        vertical-align: middle;\n",
       "    }\n",
       "\n",
       "    .dataframe tbody tr th {\n",
       "        vertical-align: top;\n",
       "    }\n",
       "\n",
       "    .dataframe thead th {\n",
       "        text-align: right;\n",
       "    }\n",
       "</style>\n",
       "<table border=\"1\" class=\"dataframe\">\n",
       "  <thead>\n",
       "    <tr style=\"text-align: right;\">\n",
       "      <th></th>\n",
       "      <th>p^10</th>\n",
       "      <th>p^amazing</th>\n",
       "      <th>p^area</th>\n",
       "      <th>p^atmosphere</th>\n",
       "      <th>p^attentive</th>\n",
       "      <th>p^awesome</th>\n",
       "      <th>p^bad</th>\n",
       "      <th>p^bar</th>\n",
       "      <th>p^beef</th>\n",
       "      <th>p^best</th>\n",
       "      <th>...</th>\n",
       "      <th>p^try</th>\n",
       "      <th>p^ve</th>\n",
       "      <th>p^vegas</th>\n",
       "      <th>p^visit</th>\n",
       "      <th>p^wait</th>\n",
       "      <th>p^want</th>\n",
       "      <th>p^wasn</th>\n",
       "      <th>p^way</th>\n",
       "      <th>p^went</th>\n",
       "      <th>p^worth</th>\n",
       "    </tr>\n",
       "    <tr>\n",
       "      <th>business_id</th>\n",
       "      <th></th>\n",
       "      <th></th>\n",
       "      <th></th>\n",
       "      <th></th>\n",
       "      <th></th>\n",
       "      <th></th>\n",
       "      <th></th>\n",
       "      <th></th>\n",
       "      <th></th>\n",
       "      <th></th>\n",
       "      <th></th>\n",
       "      <th></th>\n",
       "      <th></th>\n",
       "      <th></th>\n",
       "      <th></th>\n",
       "      <th></th>\n",
       "      <th></th>\n",
       "      <th></th>\n",
       "      <th></th>\n",
       "      <th></th>\n",
       "      <th></th>\n",
       "    </tr>\n",
       "  </thead>\n",
       "  <tbody>\n",
       "    <tr>\n",
       "      <th>--6MefnULPED_I942VcFNA</th>\n",
       "      <td>1</td>\n",
       "      <td>1</td>\n",
       "      <td>4</td>\n",
       "      <td>0</td>\n",
       "      <td>1</td>\n",
       "      <td>0</td>\n",
       "      <td>1</td>\n",
       "      <td>0</td>\n",
       "      <td>2</td>\n",
       "      <td>16</td>\n",
       "      <td>...</td>\n",
       "      <td>4</td>\n",
       "      <td>4</td>\n",
       "      <td>0</td>\n",
       "      <td>1</td>\n",
       "      <td>2</td>\n",
       "      <td>4</td>\n",
       "      <td>0</td>\n",
       "      <td>1</td>\n",
       "      <td>1</td>\n",
       "      <td>2</td>\n",
       "    </tr>\n",
       "  </tbody>\n",
       "</table>\n",
       "<p>1 rows × 145 columns</p>\n",
       "</div>"
      ],
      "text/plain": [
       "                        p^10  p^amazing  p^area  p^atmosphere  p^attentive  \\\n",
       "business_id                                                                  \n",
       "--6MefnULPED_I942VcFNA     1          1       4             0            1   \n",
       "\n",
       "                        p^awesome  p^bad  p^bar  p^beef  p^best  ...  p^try  \\\n",
       "business_id                                                      ...          \n",
       "--6MefnULPED_I942VcFNA          0      1      0       2      16  ...      4   \n",
       "\n",
       "                        p^ve  p^vegas  p^visit  p^wait  p^want  p^wasn  p^way  \\\n",
       "business_id                                                                     \n",
       "--6MefnULPED_I942VcFNA     4        0        1       2       4       0      1   \n",
       "\n",
       "                        p^went  p^worth  \n",
       "business_id                              \n",
       "--6MefnULPED_I942VcFNA       1        2  \n",
       "\n",
       "[1 rows x 145 columns]"
      ]
     },
     "execution_count": 51,
     "metadata": {},
     "output_type": "execute_result"
    }
   ],
   "source": [
    "df_positive_business_words.head(1)"
   ]
  },
  {
   "cell_type": "markdown",
   "id": "6249251f",
   "metadata": {},
   "source": [
    "Looking at the above, you see words like best appeared 16 times throughout all reviews for this dataframe. Now that we've done this for the positive reviews, we'll now shift our focus to the negative reviews and do the same process."
   ]
  },
  {
   "cell_type": "markdown",
   "id": "44e5a5f2",
   "metadata": {},
   "source": [
    "### Negative Review Vectorizer "
   ]
  },
  {
   "cell_type": "markdown",
   "id": "2e224c05",
   "metadata": {},
   "source": [
    "The process is analogous to the positive one. We'll start by creating our input dataframe then check the count and null values to make sure everything is working as it should. "
   ]
  },
  {
   "cell_type": "code",
   "execution_count": 52,
   "id": "7f8bdc66",
   "metadata": {},
   "outputs": [],
   "source": [
    "#Creating our input dataframe of X_negative \n",
    "X_negative=df_reviews_merged[df_reviews_merged['negative_review']==1][['business_id','review_id','text']]"
   ]
  },
  {
   "cell_type": "code",
   "execution_count": 53,
   "id": "bd81eb34",
   "metadata": {
    "scrolled": true
   },
   "outputs": [
    {
     "data": {
      "text/plain": [
       "607443"
      ]
     },
     "execution_count": 53,
     "metadata": {},
     "output_type": "execute_result"
    }
   ],
   "source": [
    "#Looking at the negative review number\n",
    "X_negative['review_id'].nunique()"
   ]
  },
  {
   "cell_type": "code",
   "execution_count": 54,
   "id": "94be579d",
   "metadata": {},
   "outputs": [
    {
     "data": {
      "text/plain": [
       "0"
      ]
     },
     "execution_count": 54,
     "metadata": {},
     "output_type": "execute_result"
    }
   ],
   "source": [
    "#Checking the null values \n",
    "X_negative['review_id'].isna().sum()"
   ]
  },
  {
   "cell_type": "markdown",
   "id": "86c2031f",
   "metadata": {},
   "source": [
    "The shape is correct and there are no null values so we can proceed. We'll be using the same min_df as the positive review vectorizer which was 50000."
   ]
  },
  {
   "cell_type": "code",
   "execution_count": 55,
   "id": "b97b984d",
   "metadata": {
    "scrolled": true
   },
   "outputs": [
    {
     "data": {
      "text/plain": [
       "CountVectorizer(min_df=50000, stop_words='english')"
      ]
     },
     "execution_count": 55,
     "metadata": {},
     "output_type": "execute_result"
    }
   ],
   "source": [
    "#Creating the vectorizer and fitting it to our text\n",
    "bagofwords2 = CountVectorizer(stop_words=\"english\",min_df=50000)\n",
    "bagofwords2.fit(X_negative['text'])"
   ]
  },
  {
   "cell_type": "code",
   "execution_count": 56,
   "id": "e5be441f",
   "metadata": {},
   "outputs": [],
   "source": [
    "#Transforming the text \n",
    "X_transformed_negative = bagofwords2.transform(X_negative['text']) \n"
   ]
  },
  {
   "cell_type": "code",
   "execution_count": 57,
   "id": "3431da09",
   "metadata": {},
   "outputs": [
    {
     "data": {
      "text/plain": [
       "<607443x73 sparse matrix of type '<class 'numpy.int64'>'\n",
       "\twith 6621606 stored elements in Compressed Sparse Row format>"
      ]
     },
     "execution_count": 57,
     "metadata": {},
     "output_type": "execute_result"
    }
   ],
   "source": [
    "#Taking a look at the sparse matrix \n",
    "X_transformed_negative"
   ]
  },
  {
   "cell_type": "markdown",
   "id": "f56abe39",
   "metadata": {},
   "source": [
    "Taking a look at the sparse matrix, we have around 6.6 million stored elements with 73 negative review. While these are less features coming from the negative review aspect, we also had an imbalance initially. As well, since this is a recommender system, positive things that are shared between businesses are the aspect we want to focus on. Now that we have our sparse matrix, we'll do the same process of looking at the top 10 most common words."
   ]
  },
  {
   "cell_type": "code",
   "execution_count": 58,
   "id": "aba273f6",
   "metadata": {
    "scrolled": true
   },
   "outputs": [],
   "source": [
    "#Creating our word count sum\n",
    "word_counts_sum2 = pd.DataFrame(\n",
    "    #transforming the sparse matrix to an array and summing them\n",
    "    {\"counts\": X_transformed_negative.toarray().sum(axis=0)},\n",
    "    #getting the names as indexs\n",
    "    index=bagofwords2.get_feature_names()\n",
    "    #sorting by counts \n",
    ").sort_values(\"counts\", ascending=False)"
   ]
  },
  {
   "cell_type": "code",
   "execution_count": 59,
   "id": "5aecde46",
   "metadata": {},
   "outputs": [
    {
     "data": {
      "image/png": "[encoded data removed]",
      "text/plain": [
       "<Figure size 640x480 with 1 Axes>"
      ]
     },
     "metadata": {},
     "output_type": "display_data"
    }
   ],
   "source": [
    "word_counts_sum2.head(10).plot(kind='bar')\n",
    "plt.xlabel('Words')\n",
    "plt.ylabel('Number of Times They Appeared ')\n",
    "plt.xticks(rotation=45)\n",
    "plt.title('10 Most Common Words in the Negative Review')\n",
    "sns.despine()#Despining the graph\n",
    "plt.show()"
   ]
  },
  {
   "cell_type": "markdown",
   "id": "782d6220",
   "metadata": {},
   "source": [
    "Looking at the negative reviews, we're seeing some words that make sense, like time and service. However we're also seeing words that don't make as much sense like good. However, this may be a product of how we split our reviews, as someone who rated a restaurant as a 3 might consider that just good, not great. Regardless, we'll move forward with creating the dense matrix. As like before, we'll first add a prefix of n^"
   ]
  },
  {
   "cell_type": "code",
   "execution_count": 60,
   "id": "1476e66e",
   "metadata": {},
   "outputs": [],
   "source": [
    "#Creating the name list\n",
    "name_list=bagofwords2.get_feature_names()"
   ]
  },
  {
   "cell_type": "code",
   "execution_count": 61,
   "id": "75eedc06",
   "metadata": {},
   "outputs": [],
   "source": [
    "#Adding the string to the beginning of the words \n",
    "string='n^'\n",
    "my_new_list2 = [string +x for x in name_list]"
   ]
  },
  {
   "cell_type": "code",
   "execution_count": 62,
   "id": "1efd1570",
   "metadata": {},
   "outputs": [
    {
     "data": {
      "text/plain": [
       "'n^10'"
      ]
     },
     "execution_count": 62,
     "metadata": {},
     "output_type": "execute_result"
    }
   ],
   "source": [
    "#Displaying one of them\n",
    "my_new_list2[0]"
   ]
  },
  {
   "cell_type": "markdown",
   "id": "d40b4d5c",
   "metadata": {},
   "source": [
    "Now we can see that we added the prefix, we can create our dataframe and then concat the dataframe to our original `X_negative`"
   ]
  },
  {
   "cell_type": "code",
   "execution_count": 63,
   "id": "8529f69a",
   "metadata": {
    "scrolled": true
   },
   "outputs": [],
   "source": [
    "#Creating our dataframe \n",
    "word_counts_negative = pd.DataFrame(\n",
    "    #transforming the words to a dense matrix\n",
    "    X_transformed_negative.todense(),\n",
    "    #column names come from our new list of words with the prefix\n",
    "    columns=my_new_list2,\n",
    "    #indexes come from X_positive \n",
    "    index=X_negative.index\n",
    ")"
   ]
  },
  {
   "cell_type": "code",
   "execution_count": 64,
   "id": "80f2933c",
   "metadata": {
    "scrolled": true
   },
   "outputs": [
    {
     "data": {
      "text/html": [
       "<div>\n",
       "<style scoped>\n",
       "    .dataframe tbody tr th:only-of-type {\n",
       "        vertical-align: middle;\n",
       "    }\n",
       "\n",
       "    .dataframe tbody tr th {\n",
       "        vertical-align: top;\n",
       "    }\n",
       "\n",
       "    .dataframe thead th {\n",
       "        text-align: right;\n",
       "    }\n",
       "</style>\n",
       "<table border=\"1\" class=\"dataframe\">\n",
       "  <thead>\n",
       "    <tr style=\"text-align: right;\">\n",
       "      <th></th>\n",
       "      <th>n^10</th>\n",
       "      <th>n^asked</th>\n",
       "      <th>n^bad</th>\n",
       "      <th>n^bar</th>\n",
       "      <th>n^best</th>\n",
       "      <th>n^better</th>\n",
       "      <th>n^bit</th>\n",
       "      <th>n^came</th>\n",
       "      <th>n^chicken</th>\n",
       "      <th>n^come</th>\n",
       "      <th>...</th>\n",
       "      <th>n^took</th>\n",
       "      <th>n^try</th>\n",
       "      <th>n^ve</th>\n",
       "      <th>n^vegas</th>\n",
       "      <th>n^wait</th>\n",
       "      <th>n^want</th>\n",
       "      <th>n^wanted</th>\n",
       "      <th>n^wasn</th>\n",
       "      <th>n^way</th>\n",
       "      <th>n^went</th>\n",
       "    </tr>\n",
       "  </thead>\n",
       "  <tbody>\n",
       "    <tr>\n",
       "      <th>1</th>\n",
       "      <td>0</td>\n",
       "      <td>0</td>\n",
       "      <td>1</td>\n",
       "      <td>0</td>\n",
       "      <td>0</td>\n",
       "      <td>0</td>\n",
       "      <td>0</td>\n",
       "      <td>0</td>\n",
       "      <td>0</td>\n",
       "      <td>0</td>\n",
       "      <td>...</td>\n",
       "      <td>0</td>\n",
       "      <td>0</td>\n",
       "      <td>0</td>\n",
       "      <td>0</td>\n",
       "      <td>1</td>\n",
       "      <td>0</td>\n",
       "      <td>0</td>\n",
       "      <td>0</td>\n",
       "      <td>0</td>\n",
       "      <td>0</td>\n",
       "    </tr>\n",
       "    <tr>\n",
       "      <th>5</th>\n",
       "      <td>0</td>\n",
       "      <td>0</td>\n",
       "      <td>0</td>\n",
       "      <td>0</td>\n",
       "      <td>0</td>\n",
       "      <td>0</td>\n",
       "      <td>0</td>\n",
       "      <td>0</td>\n",
       "      <td>0</td>\n",
       "      <td>0</td>\n",
       "      <td>...</td>\n",
       "      <td>0</td>\n",
       "      <td>0</td>\n",
       "      <td>0</td>\n",
       "      <td>0</td>\n",
       "      <td>0</td>\n",
       "      <td>1</td>\n",
       "      <td>0</td>\n",
       "      <td>0</td>\n",
       "      <td>0</td>\n",
       "      <td>0</td>\n",
       "    </tr>\n",
       "    <tr>\n",
       "      <th>6</th>\n",
       "      <td>0</td>\n",
       "      <td>0</td>\n",
       "      <td>0</td>\n",
       "      <td>0</td>\n",
       "      <td>1</td>\n",
       "      <td>0</td>\n",
       "      <td>0</td>\n",
       "      <td>0</td>\n",
       "      <td>0</td>\n",
       "      <td>0</td>\n",
       "      <td>...</td>\n",
       "      <td>0</td>\n",
       "      <td>0</td>\n",
       "      <td>1</td>\n",
       "      <td>0</td>\n",
       "      <td>0</td>\n",
       "      <td>0</td>\n",
       "      <td>0</td>\n",
       "      <td>0</td>\n",
       "      <td>0</td>\n",
       "      <td>0</td>\n",
       "    </tr>\n",
       "    <tr>\n",
       "      <th>10</th>\n",
       "      <td>0</td>\n",
       "      <td>0</td>\n",
       "      <td>0</td>\n",
       "      <td>0</td>\n",
       "      <td>0</td>\n",
       "      <td>0</td>\n",
       "      <td>1</td>\n",
       "      <td>1</td>\n",
       "      <td>0</td>\n",
       "      <td>0</td>\n",
       "      <td>...</td>\n",
       "      <td>1</td>\n",
       "      <td>0</td>\n",
       "      <td>0</td>\n",
       "      <td>0</td>\n",
       "      <td>1</td>\n",
       "      <td>0</td>\n",
       "      <td>0</td>\n",
       "      <td>0</td>\n",
       "      <td>0</td>\n",
       "      <td>0</td>\n",
       "    </tr>\n",
       "    <tr>\n",
       "      <th>17</th>\n",
       "      <td>0</td>\n",
       "      <td>0</td>\n",
       "      <td>0</td>\n",
       "      <td>0</td>\n",
       "      <td>0</td>\n",
       "      <td>1</td>\n",
       "      <td>0</td>\n",
       "      <td>0</td>\n",
       "      <td>0</td>\n",
       "      <td>0</td>\n",
       "      <td>...</td>\n",
       "      <td>0</td>\n",
       "      <td>0</td>\n",
       "      <td>0</td>\n",
       "      <td>0</td>\n",
       "      <td>0</td>\n",
       "      <td>0</td>\n",
       "      <td>0</td>\n",
       "      <td>0</td>\n",
       "      <td>0</td>\n",
       "      <td>0</td>\n",
       "    </tr>\n",
       "  </tbody>\n",
       "</table>\n",
       "<p>5 rows × 73 columns</p>\n",
       "</div>"
      ],
      "text/plain": [
       "    n^10  n^asked  n^bad  n^bar  n^best  n^better  n^bit  n^came  n^chicken  \\\n",
       "1      0        0      1      0       0         0      0       0          0   \n",
       "5      0        0      0      0       0         0      0       0          0   \n",
       "6      0        0      0      0       1         0      0       0          0   \n",
       "10     0        0      0      0       0         0      1       1          0   \n",
       "17     0        0      0      0       0         1      0       0          0   \n",
       "\n",
       "    n^come  ...  n^took  n^try  n^ve  n^vegas  n^wait  n^want  n^wanted  \\\n",
       "1        0  ...       0      0     0        0       1       0         0   \n",
       "5        0  ...       0      0     0        0       0       1         0   \n",
       "6        0  ...       0      0     1        0       0       0         0   \n",
       "10       0  ...       1      0     0        0       1       0         0   \n",
       "17       0  ...       0      0     0        0       0       0         0   \n",
       "\n",
       "    n^wasn  n^way  n^went  \n",
       "1        0      0       0  \n",
       "5        0      0       0  \n",
       "6        0      0       0  \n",
       "10       0      0       0  \n",
       "17       0      0       0  \n",
       "\n",
       "[5 rows x 73 columns]"
      ]
     },
     "execution_count": 64,
     "metadata": {},
     "output_type": "execute_result"
    }
   ],
   "source": [
    "#Taking a look at the top 5 rows \n",
    "word_counts_negative.head()"
   ]
  },
  {
   "cell_type": "markdown",
   "id": "2e6b4ae2",
   "metadata": {},
   "source": [
    "We can see that the words now have the n prefix so we can now concat that to our original dataframe. Then we'll be summing based on the business_id as before to get the number of times that words appear in negative reviews for those businesses."
   ]
  },
  {
   "cell_type": "code",
   "execution_count": 65,
   "id": "beb73f50",
   "metadata": {},
   "outputs": [],
   "source": [
    "#concatting to the original dataframe\n",
    "new_df_negative = pd.concat([X_negative,word_counts_negative],axis=1)"
   ]
  },
  {
   "cell_type": "code",
   "execution_count": 66,
   "id": "dbb478fc",
   "metadata": {},
   "outputs": [
    {
     "name": "stderr",
     "output_type": "stream",
     "text": [
      "/var/folders/wd/_ly9th917n5cfwyp82k_61wr0000gn/T/ipykernel_22077/9777099.py:1: FutureWarning: The default value of numeric_only in DataFrameGroupBy.sum is deprecated. In a future version, numeric_only will default to False. Either specify numeric_only or select only columns which should be valid for the function.\n",
      "  df_negative_business_words=new_df_negative.groupby('business_id').sum()\n"
     ]
    }
   ],
   "source": [
    "df_negative_business_words=new_df_negative.groupby('business_id').sum()"
   ]
  },
  {
   "cell_type": "code",
   "execution_count": 67,
   "id": "b4411e34",
   "metadata": {},
   "outputs": [
    {
     "data": {
      "text/html": [
       "<div>\n",
       "<style scoped>\n",
       "    .dataframe tbody tr th:only-of-type {\n",
       "        vertical-align: middle;\n",
       "    }\n",
       "\n",
       "    .dataframe tbody tr th {\n",
       "        vertical-align: top;\n",
       "    }\n",
       "\n",
       "    .dataframe thead th {\n",
       "        text-align: right;\n",
       "    }\n",
       "</style>\n",
       "<table border=\"1\" class=\"dataframe\">\n",
       "  <thead>\n",
       "    <tr style=\"text-align: right;\">\n",
       "      <th></th>\n",
       "      <th>n^10</th>\n",
       "      <th>n^asked</th>\n",
       "      <th>n^bad</th>\n",
       "      <th>n^bar</th>\n",
       "      <th>n^best</th>\n",
       "      <th>n^better</th>\n",
       "      <th>n^bit</th>\n",
       "      <th>n^came</th>\n",
       "      <th>n^chicken</th>\n",
       "      <th>n^come</th>\n",
       "      <th>...</th>\n",
       "      <th>n^took</th>\n",
       "      <th>n^try</th>\n",
       "      <th>n^ve</th>\n",
       "      <th>n^vegas</th>\n",
       "      <th>n^wait</th>\n",
       "      <th>n^want</th>\n",
       "      <th>n^wanted</th>\n",
       "      <th>n^wasn</th>\n",
       "      <th>n^way</th>\n",
       "      <th>n^went</th>\n",
       "    </tr>\n",
       "    <tr>\n",
       "      <th>business_id</th>\n",
       "      <th></th>\n",
       "      <th></th>\n",
       "      <th></th>\n",
       "      <th></th>\n",
       "      <th></th>\n",
       "      <th></th>\n",
       "      <th></th>\n",
       "      <th></th>\n",
       "      <th></th>\n",
       "      <th></th>\n",
       "      <th></th>\n",
       "      <th></th>\n",
       "      <th></th>\n",
       "      <th></th>\n",
       "      <th></th>\n",
       "      <th></th>\n",
       "      <th></th>\n",
       "      <th></th>\n",
       "      <th></th>\n",
       "      <th></th>\n",
       "      <th></th>\n",
       "    </tr>\n",
       "  </thead>\n",
       "  <tbody>\n",
       "    <tr>\n",
       "      <th>--6MefnULPED_I942VcFNA</th>\n",
       "      <td>2</td>\n",
       "      <td>3</td>\n",
       "      <td>4</td>\n",
       "      <td>0</td>\n",
       "      <td>7</td>\n",
       "      <td>8</td>\n",
       "      <td>4</td>\n",
       "      <td>2</td>\n",
       "      <td>3</td>\n",
       "      <td>13</td>\n",
       "      <td>...</td>\n",
       "      <td>0</td>\n",
       "      <td>5</td>\n",
       "      <td>7</td>\n",
       "      <td>0</td>\n",
       "      <td>3</td>\n",
       "      <td>1</td>\n",
       "      <td>0</td>\n",
       "      <td>2</td>\n",
       "      <td>6</td>\n",
       "      <td>2</td>\n",
       "    </tr>\n",
       "    <tr>\n",
       "      <th>--9e1ONYQuAa-CB_Rrw7Tw</th>\n",
       "      <td>31</td>\n",
       "      <td>70</td>\n",
       "      <td>65</td>\n",
       "      <td>28</td>\n",
       "      <td>92</td>\n",
       "      <td>169</td>\n",
       "      <td>68</td>\n",
       "      <td>128</td>\n",
       "      <td>22</td>\n",
       "      <td>48</td>\n",
       "      <td>...</td>\n",
       "      <td>65</td>\n",
       "      <td>61</td>\n",
       "      <td>118</td>\n",
       "      <td>134</td>\n",
       "      <td>33</td>\n",
       "      <td>51</td>\n",
       "      <td>41</td>\n",
       "      <td>81</td>\n",
       "      <td>81</td>\n",
       "      <td>64</td>\n",
       "    </tr>\n",
       "    <tr>\n",
       "      <th>--DaPTJW3-tB1vP-PfdTEg</th>\n",
       "      <td>0</td>\n",
       "      <td>1</td>\n",
       "      <td>0</td>\n",
       "      <td>0</td>\n",
       "      <td>0</td>\n",
       "      <td>2</td>\n",
       "      <td>0</td>\n",
       "      <td>7</td>\n",
       "      <td>1</td>\n",
       "      <td>3</td>\n",
       "      <td>...</td>\n",
       "      <td>2</td>\n",
       "      <td>0</td>\n",
       "      <td>2</td>\n",
       "      <td>0</td>\n",
       "      <td>1</td>\n",
       "      <td>1</td>\n",
       "      <td>0</td>\n",
       "      <td>1</td>\n",
       "      <td>0</td>\n",
       "      <td>3</td>\n",
       "    </tr>\n",
       "    <tr>\n",
       "      <th>--FBCX-N37CMYDfs790Bnw</th>\n",
       "      <td>1</td>\n",
       "      <td>8</td>\n",
       "      <td>8</td>\n",
       "      <td>41</td>\n",
       "      <td>2</td>\n",
       "      <td>6</td>\n",
       "      <td>1</td>\n",
       "      <td>7</td>\n",
       "      <td>5</td>\n",
       "      <td>3</td>\n",
       "      <td>...</td>\n",
       "      <td>0</td>\n",
       "      <td>6</td>\n",
       "      <td>8</td>\n",
       "      <td>1</td>\n",
       "      <td>0</td>\n",
       "      <td>1</td>\n",
       "      <td>3</td>\n",
       "      <td>5</td>\n",
       "      <td>2</td>\n",
       "      <td>4</td>\n",
       "    </tr>\n",
       "    <tr>\n",
       "      <th>--SrzpvFLwP_YFwB_Cetow</th>\n",
       "      <td>3</td>\n",
       "      <td>2</td>\n",
       "      <td>3</td>\n",
       "      <td>0</td>\n",
       "      <td>1</td>\n",
       "      <td>0</td>\n",
       "      <td>3</td>\n",
       "      <td>5</td>\n",
       "      <td>3</td>\n",
       "      <td>10</td>\n",
       "      <td>...</td>\n",
       "      <td>3</td>\n",
       "      <td>3</td>\n",
       "      <td>1</td>\n",
       "      <td>0</td>\n",
       "      <td>2</td>\n",
       "      <td>0</td>\n",
       "      <td>2</td>\n",
       "      <td>3</td>\n",
       "      <td>0</td>\n",
       "      <td>2</td>\n",
       "    </tr>\n",
       "  </tbody>\n",
       "</table>\n",
       "<p>5 rows × 73 columns</p>\n",
       "</div>"
      ],
      "text/plain": [
       "                        n^10  n^asked  n^bad  n^bar  n^best  n^better  n^bit  \\\n",
       "business_id                                                                    \n",
       "--6MefnULPED_I942VcFNA     2        3      4      0       7         8      4   \n",
       "--9e1ONYQuAa-CB_Rrw7Tw    31       70     65     28      92       169     68   \n",
       "--DaPTJW3-tB1vP-PfdTEg     0        1      0      0       0         2      0   \n",
       "--FBCX-N37CMYDfs790Bnw     1        8      8     41       2         6      1   \n",
       "--SrzpvFLwP_YFwB_Cetow     3        2      3      0       1         0      3   \n",
       "\n",
       "                        n^came  n^chicken  n^come  ...  n^took  n^try  n^ve  \\\n",
       "business_id                                        ...                        \n",
       "--6MefnULPED_I942VcFNA       2          3      13  ...       0      5     7   \n",
       "--9e1ONYQuAa-CB_Rrw7Tw     128         22      48  ...      65     61   118   \n",
       "--DaPTJW3-tB1vP-PfdTEg       7          1       3  ...       2      0     2   \n",
       "--FBCX-N37CMYDfs790Bnw       7          5       3  ...       0      6     8   \n",
       "--SrzpvFLwP_YFwB_Cetow       5          3      10  ...       3      3     1   \n",
       "\n",
       "                        n^vegas  n^wait  n^want  n^wanted  n^wasn  n^way  \\\n",
       "business_id                                                                \n",
       "--6MefnULPED_I942VcFNA        0       3       1         0       2      6   \n",
       "--9e1ONYQuAa-CB_Rrw7Tw      134      33      51        41      81     81   \n",
       "--DaPTJW3-tB1vP-PfdTEg        0       1       1         0       1      0   \n",
       "--FBCX-N37CMYDfs790Bnw        1       0       1         3       5      2   \n",
       "--SrzpvFLwP_YFwB_Cetow        0       2       0         2       3      0   \n",
       "\n",
       "                        n^went  \n",
       "business_id                     \n",
       "--6MefnULPED_I942VcFNA       2  \n",
       "--9e1ONYQuAa-CB_Rrw7Tw      64  \n",
       "--DaPTJW3-tB1vP-PfdTEg       3  \n",
       "--FBCX-N37CMYDfs790Bnw       4  \n",
       "--SrzpvFLwP_YFwB_Cetow       2  \n",
       "\n",
       "[5 rows x 73 columns]"
      ]
     },
     "execution_count": 67,
     "metadata": {},
     "output_type": "execute_result"
    }
   ],
   "source": [
    "df_negative_business_words.head()"
   ]
  },
  {
   "cell_type": "markdown",
   "id": "5f99e696",
   "metadata": {},
   "source": [
    "We can see in the second row that better came up 169 times in the reviews. We've now created our two dataframes with words often used in positive and negative reviews. So now we'll need to join these onto our original dataframe using business_id. We'll start with the positive dataframe. This will be a left join as we don't want to get rid of any businesses just because they don't have certain words. "
   ]
  },
  {
   "cell_type": "code",
   "execution_count": 68,
   "id": "40462b6d",
   "metadata": {
    "scrolled": true
   },
   "outputs": [],
   "source": [
    "#Here we'll be resetting the index and saving it as a column\n",
    "df_business_checkpoint=df_business_checkpoint.reset_index(names='copy_index')"
   ]
  },
  {
   "cell_type": "markdown",
   "id": "7c3cdd19",
   "metadata": {},
   "source": [
    "We're going to save the index as a column as the merge will reset the index. "
   ]
  },
  {
   "cell_type": "code",
   "execution_count": 69,
   "id": "9bce9d5e",
   "metadata": {},
   "outputs": [],
   "source": [
    "#merging the positive words with the business checkpoint dataframe, this is a left join on business_id\n",
    "df_business_checkpoint_positive=pd.merge(df_business_checkpoint,df_positive_business_words,on='business_id',how='left')"
   ]
  },
  {
   "cell_type": "code",
   "execution_count": 70,
   "id": "846326e3",
   "metadata": {},
   "outputs": [
    {
     "data": {
      "text/html": [
       "<div>\n",
       "<style scoped>\n",
       "    .dataframe tbody tr th:only-of-type {\n",
       "        vertical-align: middle;\n",
       "    }\n",
       "\n",
       "    .dataframe tbody tr th {\n",
       "        vertical-align: top;\n",
       "    }\n",
       "\n",
       "    .dataframe thead th {\n",
       "        text-align: right;\n",
       "    }\n",
       "</style>\n",
       "<table border=\"1\" class=\"dataframe\">\n",
       "  <thead>\n",
       "    <tr style=\"text-align: right;\">\n",
       "      <th></th>\n",
       "      <th>copy_index</th>\n",
       "      <th>business_id</th>\n",
       "      <th>name</th>\n",
       "      <th>state</th>\n",
       "      <th>avg_stars</th>\n",
       "      <th>review_count</th>\n",
       "      <th>BusinessParking_valet</th>\n",
       "      <th>WheelchairAccessible</th>\n",
       "      <th>km_distance_from_center</th>\n",
       "      <th>active</th>\n",
       "      <th>...</th>\n",
       "      <th>p^try</th>\n",
       "      <th>p^ve</th>\n",
       "      <th>p^vegas</th>\n",
       "      <th>p^visit</th>\n",
       "      <th>p^wait</th>\n",
       "      <th>p^want</th>\n",
       "      <th>p^wasn</th>\n",
       "      <th>p^way</th>\n",
       "      <th>p^went</th>\n",
       "      <th>p^worth</th>\n",
       "    </tr>\n",
       "  </thead>\n",
       "  <tbody>\n",
       "    <tr>\n",
       "      <th>0</th>\n",
       "      <td>0</td>\n",
       "      <td>xcgFnd-MwkZeO5G2HQ0gAQ</td>\n",
       "      <td>\"T &amp; T Bakery and Cafe\"</td>\n",
       "      <td>ON</td>\n",
       "      <td>4.0</td>\n",
       "      <td>38</td>\n",
       "      <td>0</td>\n",
       "      <td>0</td>\n",
       "      <td>26.389755</td>\n",
       "      <td>0</td>\n",
       "      <td>...</td>\n",
       "      <td>6.0</td>\n",
       "      <td>9.0</td>\n",
       "      <td>0.0</td>\n",
       "      <td>1.0</td>\n",
       "      <td>2.0</td>\n",
       "      <td>0.0</td>\n",
       "      <td>1.0</td>\n",
       "      <td>1.0</td>\n",
       "      <td>2.0</td>\n",
       "      <td>4.0</td>\n",
       "    </tr>\n",
       "  </tbody>\n",
       "</table>\n",
       "<p>1 rows × 433 columns</p>\n",
       "</div>"
      ],
      "text/plain": [
       "   copy_index             business_id                     name state  \\\n",
       "0           0  xcgFnd-MwkZeO5G2HQ0gAQ  \"T & T Bakery and Cafe\"    ON   \n",
       "\n",
       "   avg_stars  review_count  BusinessParking_valet  WheelchairAccessible  \\\n",
       "0        4.0            38                      0                     0   \n",
       "\n",
       "   km_distance_from_center  active  ...  p^try  p^ve  p^vegas  p^visit  \\\n",
       "0                26.389755       0  ...    6.0   9.0      0.0      1.0   \n",
       "\n",
       "   p^wait  p^want  p^wasn  p^way  p^went  p^worth  \n",
       "0     2.0     0.0     1.0    1.0     2.0      4.0  \n",
       "\n",
       "[1 rows x 433 columns]"
      ]
     },
     "execution_count": 70,
     "metadata": {},
     "output_type": "execute_result"
    }
   ],
   "source": [
    "df_business_checkpoint_positive.head(1)"
   ]
  },
  {
   "cell_type": "markdown",
   "id": "94561c61",
   "metadata": {},
   "source": [
    "We can see that our positive words were added. Now we'll do the same with our negative words."
   ]
  },
  {
   "cell_type": "code",
   "execution_count": 71,
   "id": "45bb4ca9",
   "metadata": {},
   "outputs": [],
   "source": [
    "#merging the dataframe with the negative words \n",
    "df_business_words_added=pd.merge(df_business_checkpoint_positive,df_negative_business_words,on='business_id',how='left')"
   ]
  },
  {
   "cell_type": "markdown",
   "id": "50c37b00",
   "metadata": {},
   "source": [
    "After adding all the words, we need to fill in the null values. The null values will be from businesses that have 0 of the words in any of the reviews. This means we can fill them with 0."
   ]
  },
  {
   "cell_type": "code",
   "execution_count": 72,
   "id": "0d212834",
   "metadata": {},
   "outputs": [
    {
     "data": {
      "text/plain": [
       "copy_index        0\n",
       "business_id       0\n",
       "name              0\n",
       "state             0\n",
       "avg_stars         0\n",
       "               ... \n",
       "n^want         1536\n",
       "n^wanted       1536\n",
       "n^wasn         1536\n",
       "n^way          1536\n",
       "n^went         1536\n",
       "Length: 506, dtype: int64"
      ]
     },
     "execution_count": 72,
     "metadata": {},
     "output_type": "execute_result"
    }
   ],
   "source": [
    "#summing by null values \n",
    "df_business_words_added.isna().sum()"
   ]
  },
  {
   "cell_type": "code",
   "execution_count": 73,
   "id": "d21f3b86",
   "metadata": {},
   "outputs": [
    {
     "data": {
      "text/html": [
       "<div>\n",
       "<style scoped>\n",
       "    .dataframe tbody tr th:only-of-type {\n",
       "        vertical-align: middle;\n",
       "    }\n",
       "\n",
       "    .dataframe tbody tr th {\n",
       "        vertical-align: top;\n",
       "    }\n",
       "\n",
       "    .dataframe thead th {\n",
       "        text-align: right;\n",
       "    }\n",
       "</style>\n",
       "<table border=\"1\" class=\"dataframe\">\n",
       "  <thead>\n",
       "    <tr style=\"text-align: right;\">\n",
       "      <th></th>\n",
       "      <th>copy_index</th>\n",
       "      <th>business_id</th>\n",
       "      <th>name</th>\n",
       "      <th>state</th>\n",
       "      <th>avg_stars</th>\n",
       "      <th>review_count</th>\n",
       "      <th>BusinessParking_valet</th>\n",
       "      <th>WheelchairAccessible</th>\n",
       "      <th>km_distance_from_center</th>\n",
       "      <th>active</th>\n",
       "      <th>...</th>\n",
       "      <th>n^took</th>\n",
       "      <th>n^try</th>\n",
       "      <th>n^ve</th>\n",
       "      <th>n^vegas</th>\n",
       "      <th>n^wait</th>\n",
       "      <th>n^want</th>\n",
       "      <th>n^wanted</th>\n",
       "      <th>n^wasn</th>\n",
       "      <th>n^way</th>\n",
       "      <th>n^went</th>\n",
       "    </tr>\n",
       "  </thead>\n",
       "  <tbody>\n",
       "    <tr>\n",
       "      <th>26501</th>\n",
       "      <td>32538</td>\n",
       "      <td>xqNpOnxY0XzdnUE4sjmg0w</td>\n",
       "      <td>\"Chaska\"</td>\n",
       "      <td>ON</td>\n",
       "      <td>4.0</td>\n",
       "      <td>4</td>\n",
       "      <td>0</td>\n",
       "      <td>0</td>\n",
       "      <td>1.013712</td>\n",
       "      <td>0</td>\n",
       "      <td>...</td>\n",
       "      <td>0.0</td>\n",
       "      <td>0.0</td>\n",
       "      <td>0.0</td>\n",
       "      <td>0.0</td>\n",
       "      <td>0.0</td>\n",
       "      <td>0.0</td>\n",
       "      <td>1.0</td>\n",
       "      <td>0.0</td>\n",
       "      <td>0.0</td>\n",
       "      <td>0.0</td>\n",
       "    </tr>\n",
       "    <tr>\n",
       "      <th>26502</th>\n",
       "      <td>32539</td>\n",
       "      <td>SvW3WsatQWvR8c1iwAD_QA</td>\n",
       "      <td>\"Urban House Cafe\"</td>\n",
       "      <td>ON</td>\n",
       "      <td>4.0</td>\n",
       "      <td>32</td>\n",
       "      <td>0</td>\n",
       "      <td>0</td>\n",
       "      <td>1.326022</td>\n",
       "      <td>0</td>\n",
       "      <td>...</td>\n",
       "      <td>0.0</td>\n",
       "      <td>1.0</td>\n",
       "      <td>2.0</td>\n",
       "      <td>0.0</td>\n",
       "      <td>0.0</td>\n",
       "      <td>1.0</td>\n",
       "      <td>1.0</td>\n",
       "      <td>0.0</td>\n",
       "      <td>0.0</td>\n",
       "      <td>2.0</td>\n",
       "    </tr>\n",
       "    <tr>\n",
       "      <th>26503</th>\n",
       "      <td>32540</td>\n",
       "      <td>nGjEV4bn0DPk8bcb0C6Aig</td>\n",
       "      <td>\"Sweet Serendipity Bake Shop\"</td>\n",
       "      <td>ON</td>\n",
       "      <td>4.5</td>\n",
       "      <td>22</td>\n",
       "      <td>0</td>\n",
       "      <td>0</td>\n",
       "      <td>5.173640</td>\n",
       "      <td>0</td>\n",
       "      <td>...</td>\n",
       "      <td>0.0</td>\n",
       "      <td>1.0</td>\n",
       "      <td>0.0</td>\n",
       "      <td>0.0</td>\n",
       "      <td>0.0</td>\n",
       "      <td>0.0</td>\n",
       "      <td>0.0</td>\n",
       "      <td>1.0</td>\n",
       "      <td>0.0</td>\n",
       "      <td>0.0</td>\n",
       "    </tr>\n",
       "    <tr>\n",
       "      <th>26504</th>\n",
       "      <td>32541</td>\n",
       "      <td>pUhU5ohYv65g8B47dTXAKA</td>\n",
       "      <td>\"Starbucks\"</td>\n",
       "      <td>NV</td>\n",
       "      <td>2.5</td>\n",
       "      <td>35</td>\n",
       "      <td>0</td>\n",
       "      <td>0</td>\n",
       "      <td>2.295815</td>\n",
       "      <td>0</td>\n",
       "      <td>...</td>\n",
       "      <td>3.0</td>\n",
       "      <td>0.0</td>\n",
       "      <td>10.0</td>\n",
       "      <td>3.0</td>\n",
       "      <td>3.0</td>\n",
       "      <td>2.0</td>\n",
       "      <td>2.0</td>\n",
       "      <td>2.0</td>\n",
       "      <td>7.0</td>\n",
       "      <td>3.0</td>\n",
       "    </tr>\n",
       "    <tr>\n",
       "      <th>26505</th>\n",
       "      <td>32542</td>\n",
       "      <td>kLFm_kehXNZkUc1oa2-Eaw</td>\n",
       "      <td>\"Nuno's Churrasqueira\"</td>\n",
       "      <td>ON</td>\n",
       "      <td>3.0</td>\n",
       "      <td>4</td>\n",
       "      <td>0</td>\n",
       "      <td>0</td>\n",
       "      <td>4.311081</td>\n",
       "      <td>0</td>\n",
       "      <td>...</td>\n",
       "      <td>0.0</td>\n",
       "      <td>0.0</td>\n",
       "      <td>0.0</td>\n",
       "      <td>0.0</td>\n",
       "      <td>0.0</td>\n",
       "      <td>0.0</td>\n",
       "      <td>1.0</td>\n",
       "      <td>0.0</td>\n",
       "      <td>0.0</td>\n",
       "      <td>1.0</td>\n",
       "    </tr>\n",
       "  </tbody>\n",
       "</table>\n",
       "<p>5 rows × 506 columns</p>\n",
       "</div>"
      ],
      "text/plain": [
       "       copy_index             business_id                           name  \\\n",
       "26501       32538  xqNpOnxY0XzdnUE4sjmg0w                       \"Chaska\"   \n",
       "26502       32539  SvW3WsatQWvR8c1iwAD_QA             \"Urban House Cafe\"   \n",
       "26503       32540  nGjEV4bn0DPk8bcb0C6Aig  \"Sweet Serendipity Bake Shop\"   \n",
       "26504       32541  pUhU5ohYv65g8B47dTXAKA                    \"Starbucks\"   \n",
       "26505       32542  kLFm_kehXNZkUc1oa2-Eaw         \"Nuno's Churrasqueira\"   \n",
       "\n",
       "      state  avg_stars  review_count  BusinessParking_valet  \\\n",
       "26501    ON        4.0             4                      0   \n",
       "26502    ON        4.0            32                      0   \n",
       "26503    ON        4.5            22                      0   \n",
       "26504    NV        2.5            35                      0   \n",
       "26505    ON        3.0             4                      0   \n",
       "\n",
       "       WheelchairAccessible  km_distance_from_center  active  ...  n^took  \\\n",
       "26501                     0                 1.013712       0  ...     0.0   \n",
       "26502                     0                 1.326022       0  ...     0.0   \n",
       "26503                     0                 5.173640       0  ...     0.0   \n",
       "26504                     0                 2.295815       0  ...     3.0   \n",
       "26505                     0                 4.311081       0  ...     0.0   \n",
       "\n",
       "       n^try  n^ve  n^vegas  n^wait  n^want  n^wanted  n^wasn  n^way  n^went  \n",
       "26501    0.0   0.0      0.0     0.0     0.0       1.0     0.0    0.0     0.0  \n",
       "26502    1.0   2.0      0.0     0.0     1.0       1.0     0.0    0.0     2.0  \n",
       "26503    1.0   0.0      0.0     0.0     0.0       0.0     1.0    0.0     0.0  \n",
       "26504    0.0  10.0      3.0     3.0     2.0       2.0     2.0    7.0     3.0  \n",
       "26505    0.0   0.0      0.0     0.0     0.0       1.0     0.0    0.0     1.0  \n",
       "\n",
       "[5 rows x 506 columns]"
      ]
     },
     "execution_count": 73,
     "metadata": {},
     "output_type": "execute_result"
    }
   ],
   "source": [
    "df_business_words_added.tail()"
   ]
  },
  {
   "cell_type": "markdown",
   "id": "b3fb8c20",
   "metadata": {},
   "source": [
    "We can see that the index was reset, so now lets reset our index just to make sure we're properly keeping track of our businesses."
   ]
  },
  {
   "cell_type": "code",
   "execution_count": 74,
   "id": "d4495944",
   "metadata": {},
   "outputs": [],
   "source": [
    "#Setting the index to copy_index\n",
    "df_business_words_added=df_business_words_added.set_index('copy_index')"
   ]
  },
  {
   "cell_type": "markdown",
   "id": "b9704a5e",
   "metadata": {},
   "source": [
    "Now we can fill our remaining null values with 0 and as thats the last thing we'll do to these columns for this Dataframe so we'll call it `df_business_final`."
   ]
  },
  {
   "cell_type": "code",
   "execution_count": 75,
   "id": "0d58db0f",
   "metadata": {},
   "outputs": [],
   "source": [
    "#filling null with 0 \n",
    "df_business_final=df_business_words_added.fillna(0)"
   ]
  },
  {
   "cell_type": "code",
   "execution_count": 76,
   "id": "7d3e7e4a",
   "metadata": {},
   "outputs": [],
   "source": [
    "df_business_final.to_csv(r'data/df_final.csv')"
   ]
  },
  {
   "cell_type": "markdown",
   "id": "e7ec9d11",
   "metadata": {},
   "source": [
    "## Conclusion to this Notebook "
   ]
  },
  {
   "cell_type": "markdown",
   "id": "add96c9a",
   "metadata": {},
   "source": [
    "In this notebook, we've finalized our business dataframe by going through the rest of the columns as well did some feature engineering using the review dataset. We also applied a count vectorizer on two subsets of the reviews to generate more columns. In the next notebook, some pre-processing will be done followed by the building of a content-based recommender system."
   ]
  }
 ],
 "metadata": {
  "kernelspec": {
   "display_name": "Python [conda env:Recommender_capstone]",
   "language": "python",
   "name": "conda-env-Recommender_capstone-py"
  },
  "language_info": {
   "codemirror_mode": {
    "name": "ipython",
    "version": 3
   },
   "file_extension": ".py",
   "mimetype": "text/x-python",
   "name": "python",
   "nbconvert_exporter": "python",
   "pygments_lexer": "ipython3",
   "version": "3.8.15"
  }
 },
 "nbformat": 4,
 "nbformat_minor": 5
}
